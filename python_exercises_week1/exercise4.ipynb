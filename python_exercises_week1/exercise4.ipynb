{
 "cells": [
  {
   "cell_type": "markdown",
   "metadata": {},
   "source": [
    "# Creating a Database in Python"
   ]
  },
  {
   "cell_type": "markdown",
   "metadata": {},
   "source": [
    "**Special thanks to my friend Rye on LinkedIn for coming up with this great idea!**\n",
    "\n",
    "We're going to write a **Python program** that:\n",
    "- Creates a new database in a file called original.db\n",
    "- Contains a single table called Velocity\n",
    "- Contains a single field called reading\n",
    "- Inserts 100,000 random numbers between 10.0 and 25.0"
   ]
  },
  {
   "cell_type": "code",
   "execution_count": 6,
   "metadata": {},
   "outputs": [
    {
     "name": "stdout",
     "output_type": "stream",
     "text": [
      "Database 'original.db' created with 100,000 random velocity readings, rounded to 1 decimal place.\n"
     ]
    }
   ],
   "source": [
    "import sqlite3\n",
    "import random\n",
    "\n",
    "# Step 1: Create the SQLite database\n",
    "db_name = \"original.db\"\n",
    "connection = sqlite3.connect(db_name)\n",
    "cursor = connection.cursor()\n",
    "\n",
    "# Step 2: Create the Velocity table\n",
    "cursor.execute(\"CREATE TABLE IF NOT EXISTS Velocity (reading REAL);\")\n",
    "\n",
    "# Step 3: Generate 100,000 random numbers between 10.0 and 25.0, rounded to 1 decimal place\n",
    "random_numbers = [round(random.uniform(10.0, 25.0), 1) for _ in range(100000)]\n",
    "\n",
    "# Step 4: Insert random numbers into the database\n",
    "cursor.executemany(\"INSERT INTO Velocity (reading) VALUES (?);\", [(num,) for num in random_numbers])\n",
    "\n",
    "# Step 5: Commit and close the connection\n",
    "connection.commit()\n",
    "connection.close()\n",
    "\n",
    "print(f\"Database '{db_name}' created with 100,000 random velocity readings, rounded to 1 decimal place.\")\n"
   ]
  },
  {
   "cell_type": "markdown",
   "metadata": {},
   "source": [
    "**Code Breakdown:**\n",
    "\n",
    "- **Database Creation:**\n",
    "    The code uses sqlite3 to create a lightweight database file called original.db, or open it if it already exists.\n",
    "- **Table Setup:**\n",
    "    A table named Velocity is created with one column, reading, to store decimal numbers.\n",
    "- **Random Number Generation:**\n",
    "    It generates 100,000 random numbers between 10.0 and 25.0, rounding each to 1 decimal place for consistency.\n",
    "- **Efficient Data Insertion:**\n",
    "    Instead of inserting numbers one by one, the executemany method inserts them in bulk for speed.\n",
    "- **Closing Process:**\n",
    "    Changes are saved with commit(), and the connection to the database is properly closed with close()."
   ]
  },
  {
   "cell_type": "markdown",
   "metadata": {},
   "source": [
    "**Fetching 10 Random Rows**"
   ]
  },
  {
   "cell_type": "code",
   "execution_count": 12,
   "metadata": {},
   "outputs": [
    {
     "name": "stdout",
     "output_type": "stream",
     "text": [
      "(21.8,)\n",
      "(24.9,)\n",
      "(23.7,)\n",
      "(18.8,)\n",
      "(24.7,)\n",
      "(21.7,)\n",
      "(20.4,)\n",
      "(18.6,)\n",
      "(12.6,)\n",
      "(11.7,)\n"
     ]
    }
   ],
   "source": [
    "import sqlite3\n",
    "\n",
    "# Connect to the database\n",
    "connection = sqlite3.connect(\"original.db\")\n",
    "cursor = connection.cursor()\n",
    "\n",
    "# Fetch 10 random rows\n",
    "cursor.execute(\"SELECT * FROM Velocity ORDER BY RANDOM() LIMIT 10;\")\n",
    "rows = cursor.fetchall()\n",
    "\n",
    "# Print the rows\n",
    "for row in rows:\n",
    "    print(row)\n",
    "\n",
    "# Close the connection\n",
    "connection.close()\n"
   ]
  },
  {
   "cell_type": "markdown",
   "metadata": {},
   "source": [
    "**Conclusion:**\n",
    "\n",
    "- Creating and managing a database in Python is straightforward and powerful with the built-in sqlite3 library. \n",
    "- Whether you’re generating and inserting large amounts of data or fetching random subsets of it, Python makes the process seamless and efficient. \n",
    "- With just a few lines of code, we’ve demonstrated how to set up a database, populate it with 100,000 values, and query it dynamically. \n",
    "\n",
    "This example highlights how Python can simplify data management, making it an essential tool for developers and data enthusiasts alike."
   ]
  }
 ],
 "metadata": {
  "kernelspec": {
   "display_name": ".venv",
   "language": "python",
   "name": "python3"
  },
  "language_info": {
   "codemirror_mode": {
    "name": "ipython",
    "version": 3
   },
   "file_extension": ".py",
   "mimetype": "text/x-python",
   "name": "python",
   "nbconvert_exporter": "python",
   "pygments_lexer": "ipython3",
   "version": "3.12.7"
  }
 },
 "nbformat": 4,
 "nbformat_minor": 2
}
