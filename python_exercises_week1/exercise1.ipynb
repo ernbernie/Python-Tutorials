{
 "cells": [
  {
   "cell_type": "markdown",
   "metadata": {},
   "source": [
    "### Counting Occurrences of Each Element in an Array\n",
    "\n",
    "         Nested Loops vs Single Loop (Or Other Optimized Approaches)"
   ]
  },
  {
   "cell_type": "markdown",
   "metadata": {},
   "source": [
    "**Step 1: Understand the Problem**\n",
    "\n",
    "We want to count how often each element appears in an unsorted array. For example, if we have an array like [1, 2, 2, 3, 3, 3], the result should be a count for each element:\n",
    "\n",
    "- 1 appears 1 time,\n",
    "- 2 appears 2 times,\n",
    "- 3 appears 3 times"
   ]
  },
  {
   "cell_type": "markdown",
   "metadata": {},
   "source": [
    "**Step 2: Implement the Inefficient Solution (Nested Loops - O(N^2))**\n",
    "\n",
    "The inefficient approach uses nested loops to count occurrences manually. What nested loops does is for each element, we’ll loop through the array to check how many times it appears."
   ]
  },
  {
   "cell_type": "code",
   "execution_count": 6,
   "metadata": {},
   "outputs": [
    {
     "name": "stdout",
     "output_type": "stream",
     "text": [
      "{1: 1, 2: 2, 3: 3}\n"
     ]
    }
   ],
   "source": [
    "def count_occurrences_brute_force(arr):\n",
    "    counts = {}  # Dictionary to store counts of each element\n",
    "\n",
    "    for i in range(len(arr)):\n",
    "        # Initialize count to zero for each element if it hasn't been counted yet\n",
    "        if arr[i] not in counts:\n",
    "            count = 0\n",
    "            for j in range(len(arr)):\n",
    "                if arr[i] == arr[j]:\n",
    "                    count += 1\n",
    "            counts[arr[i]] = count\n",
    "\n",
    "    return counts\n",
    "\n",
    "arr = [1, 2, 2, 3, 3, 3] \n",
    "result = count_occurrences_brute_force(arr)  # Call the function\n",
    "print(result)  # Expected output: {1: 1, 2: 2, 3: 3}"
   ]
  },
  {
   "cell_type": "markdown",
   "metadata": {},
   "source": [
    "**Step 3: Explanation of the Code:**\n",
    "\n",
    "- We loop over each element in arr (outer loop).\n",
    "- For each element, we start a second loop (inner loop) that goes through the entire array to count how many times the current element appears.\n",
    "- After counting occurrences, we store the count in the counts dictionary.\n",
    "- This results in O(N^2) time complexity because we have a nested loop that checks each element multiple times.\n",
    "\n",
    "Here's an analogy explaining why this can be slow:\n",
    "\n",
    "- At the post office, you're trying to find a specific package for each customer. For each customer who arrives (outer loop), you search through every single package (inner loop) to find the right one. \n",
    "- You repeat this process for every customer in line, so everyone ends up waiting much longer than necessary."
   ]
  },
  {
   "cell_type": "markdown",
   "metadata": {},
   "source": [
    "**Step 4: Implement More Efficient O(N)**"
   ]
  },
  {
   "cell_type": "code",
   "execution_count": 8,
   "metadata": {},
   "outputs": [
    {
     "name": "stdout",
     "output_type": "stream",
     "text": [
      "{1: 1, 2: 2, 3: 3}\n"
     ]
    }
   ],
   "source": [
    "def count_occurrences_optimized(arr):\n",
    "    counts = {}  # Dictionary to store counts of each element\n",
    "\n",
    "    for element in arr:\n",
    "        # If the element is already in the dictionary, increment its count\n",
    "        if element in counts:\n",
    "            counts[element] += 1\n",
    "        # If the element is not in the dictionary, initialize its count to 1\n",
    "        else:\n",
    "            counts[element] = 1\n",
    "\n",
    "    return counts\n",
    "\n",
    "arr = [1, 2, 2, 3, 3, 3]\n",
    "print(count_occurrences_optimized(arr))\n",
    "# Expected output: {1: 1, 2: 2, 3: 3}"
   ]
  },
  {
   "cell_type": "markdown",
   "metadata": {},
   "source": [
    "Instead of having a nested loop where we repeatedly scan the entire array for each element (which takes \n",
    "𝑂(𝑁^2) time), we simplify this to a single pass through the array.\n",
    "This change means we are no longer doing redundant checks. We are simply moving through each element of arr once, taking advantage of the dictionary to store and retrieve counts immediately."
   ]
  },
  {
   "cell_type": "markdown",
   "metadata": {},
   "source": [
    "By switching to a single loop with a dictionary, we avoid repeatedly traversing the array. Instead, we directly check and update counts in constant time, reducing the overall complexity to linear time O(N).\n",
    "\n",
    "This means that for an array with 1,000 elements, the optimized solution requires roughly 1,000 operations instead of the original 1,000,000 operations in the nested-loop approach."
   ]
  },
  {
   "cell_type": "code",
   "execution_count": 12,
   "metadata": {},
   "outputs": [
    {
     "name": "stdout",
     "output_type": "stream",
     "text": [
      "Librarian: 'We could check each book twice, but we have thousands to catalog.'\n",
      "Librarian: 'One pass, inventory complete. Let’s keep it efficient.'\n",
      "{'book1': 2, 'book2': 3, 'book3': 1}\n"
     ]
    }
   ],
   "source": [
    "def book_inventory(arr):\n",
    "    print(\"Librarian: 'We could check each book twice, but we have thousands to catalog.'\")\n",
    "    counts = {}\n",
    "    for book in arr:\n",
    "        counts[book] = counts.get(book, 0) + 1\n",
    "    print(\"Librarian: 'One pass, inventory complete. Let’s keep it efficient.'\")\n",
    "    return counts\n",
    "\n",
    "# Example usage\n",
    "arr = [\"book1\", \"book2\", \"book1\", \"book3\", \"book2\", \"book2\"]\n",
    "result = book_inventory(arr)  # Call the function with an example array\n",
    "print(result)  # Print the result to see the counts of each book"
   ]
  },
  {
   "cell_type": "markdown",
   "metadata": {},
   "source": [
    "Although nested loops are useful for small, straightforward tasks, like counting items in a tiny list or performing basic comparisons, they become inefficient with larger datasets. For a million-element dataset, a nested loop would require a trillion operations, which quickly becomes impractical. That’s why we turn to a more efficient approach—by using a dictionary in a single loop, we bring the time complexity down to O(N).\n",
    "\n",
    "Two Small Lists of Colors\n",
    "\n",
    "Task: You have two lists of colors, each with about 5 items, and want to find the colors common to both.\n",
    "\n",
    "Best Approach: Nested loop\n",
    "\n",
    "Why: With only a few items in each list, comparing each item in one list to each item in the other with a nested loop is simple and doesn’t impact performance.\n",
    "\n",
    "Two Large Lists of Colors\n",
    "\n",
    "Task: Each list now has 10,000 colors, and you still need to find common colors.\n",
    "\n",
    "Best Approach: Single loop with a set\n",
    "\n",
    "Why: A nested loop would be far too slow with large lists. Instead, converting one list to a set and using a single loop to check if each color from the other list is in the set greatly improves efficiency."
   ]
  },
  {
   "cell_type": "markdown",
   "metadata": {},
   "source": [
    "-------------------------------------------------------------------------------------------------------------------------------------------------"
   ]
  },
  {
   "cell_type": "markdown",
   "metadata": {},
   "source": [
    "**Conclusion:**"
   ]
  },
  {
   "cell_type": "markdown",
   "metadata": {},
   "source": [
    "Whether or not to invest time in learning nested loops really depends on the type of problems you plan to solve. For example, if your work involves basic data processing, educational coding problems, or small-scale projects, nested loops are simple and effective. In those contexts, understanding and using nested loops is enough to get the job done.\n",
    "\n",
    "However, if you plan to work with large datasets, high-performance systems, or complex algorithms, then nested loops will quickly become impractical. Optimized data structures and efficient algorithms will do the job faster and more cleanly."
   ]
  }
 ],
 "metadata": {
  "kernelspec": {
   "display_name": ".venv",
   "language": "python",
   "name": "python3"
  },
  "language_info": {
   "codemirror_mode": {
    "name": "ipython",
    "version": 3
   },
   "file_extension": ".py",
   "mimetype": "text/x-python",
   "name": "python",
   "nbconvert_exporter": "python",
   "pygments_lexer": "ipython3",
   "version": "3.12.7"
  }
 },
 "nbformat": 4,
 "nbformat_minor": 2
}
