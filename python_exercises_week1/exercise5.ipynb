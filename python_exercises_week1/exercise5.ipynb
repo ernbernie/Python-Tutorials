{
 "cells": [
  {
   "cell_type": "markdown",
   "metadata": {},
   "source": [
    "## Create A Discount Rate System"
   ]
  },
  {
   "cell_type": "markdown",
   "metadata": {},
   "source": [
    "**Goal:**   \n",
    "Learn how to make your code more maintainable by replacing hardcoded values with dynamic inputs or constants."
   ]
  },
  {
   "cell_type": "markdown",
   "metadata": {},
   "source": [
    "**Step 1: Hardcoded Version**   \n",
    "Here’s an example of hardcoded logic where a discount rate is fixed:"
   ]
  },
  {
   "cell_type": "code",
   "execution_count": 2,
   "metadata": {},
   "outputs": [],
   "source": [
    "def calculate_discount(price):\n",
    "    return price * 0.9  # 10% discount"
   ]
  },
  {
   "cell_type": "markdown",
   "metadata": {},
   "source": [
    "**Problem:** What happens if we need a different discount rate? We’d have to modify this function every time. This makes our code rigid and harder to maintain."
   ]
  },
  {
   "cell_type": "markdown",
   "metadata": {},
   "source": [
    "**Step 2: Flexible Version with Constants**   \n",
    "By introducing a constant, we make the discount rate easy to manage:"
   ]
  },
  {
   "cell_type": "code",
   "execution_count": 3,
   "metadata": {},
   "outputs": [],
   "source": [
    "DISCOUNT_RATE = 0.1\n",
    "\n",
    "def calculate_discount(price, discount_rate=DISCOUNT_RATE):\n",
    "    return price * (1 - discount_rate)"
   ]
  },
  {
   "cell_type": "markdown",
   "metadata": {},
   "source": [
    "**Benefit:**    \n",
    "The function is now flexible. You can reuse it with a default discount rate or pass in a different rate as needed."
   ]
  },
  {
   "cell_type": "markdown",
   "metadata": {},
   "source": [
    "**Step 3: A New Objective Requires Adjustments**   \n",
    "Imagine your business introduces \"VIP Customers\" who get a 20% discount instead of 10%.\n",
    "\n",
    "In the hardcoded version, you’d have to rewrite the function or introduce a workaround:"
   ]
  },
  {
   "cell_type": "code",
   "execution_count": null,
   "metadata": {},
   "outputs": [],
   "source": [
    "def calculate_discount(price):\n",
    "    return price * 0.9  # 10% discount\n",
    "\n",
    "def calculate_discount_vip(price):\n",
    "    return price * 0.8  # Separate function for VIP customers"
   ]
  },
  {
   "cell_type": "markdown",
   "metadata": {},
   "source": [
    "**Downside:**    \n",
    "This introduces redundant functions and bloats your code. As more special cases arise, this approach becomes unmanageable."
   ]
  },
  {
   "cell_type": "markdown",
   "metadata": {},
   "source": [
    "**Step 4: Flexible Solution for the New Objective**   \n",
    "With the dynamic discount rate approach, handling the VIP discount becomes seamless:"
   ]
  },
  {
   "cell_type": "code",
   "execution_count": 6,
   "metadata": {},
   "outputs": [
    {
     "name": "stdout",
     "output_type": "stream",
     "text": [
      "Regular Price after Discount: $90.00\n",
      "VIP Price after Discount: $80.00\n"
     ]
    }
   ],
   "source": [
    "DISCOUNT_RATE = 0.1\n",
    "\n",
    "def calculate_discount(price, discount_rate=DISCOUNT_RATE):\n",
    "    return price * (1 - discount_rate)\n",
    "\n",
    "# Example Usage:\n",
    "regular_price = calculate_discount(100)  # 10% discount by default\n",
    "vip_price = calculate_discount(100, discount_rate=0.2)  # 20% discount for VIPs\n",
    "\n",
    "# Printing the results\n",
    "print(f\"Regular Price after Discount: ${regular_price:.2f}\")\n",
    "print(f\"VIP Price after Discount: ${vip_price:.2f}\")"
   ]
  },
  {
   "cell_type": "markdown",
   "metadata": {},
   "source": [
    "**Key Takeaway:**    \n",
    "Planning for flexibility in your code allows for easy adaptability to changing requirements. Instead of rewriting or duplicating functions, you can extend their functionality with minimal effort."
   ]
  },
  {
   "cell_type": "markdown",
   "metadata": {},
   "source": [
    "**Step 5: Introducing a Discount System**   \n",
    "We’ll leverage a dictionary for mapping discount rates and a single, reusable function that dynamically handles any customer type. Here’s how:"
   ]
  },
  {
   "cell_type": "code",
   "execution_count": 7,
   "metadata": {},
   "outputs": [
    {
     "name": "stdout",
     "output_type": "stream",
     "text": [
      "Discounts for various customer types:\n",
      "Vip Price: $80.00\n",
      "Senior Price: $85.00\n",
      "Veteran Price: $75.00\n",
      "Bald Price: $95.00\n",
      "Jerk Price: $110.00\n"
     ]
    }
   ],
   "source": [
    "DISCOUNT_RATES = {\n",
    "    \"regular\": 0.1,   # 10% discount\n",
    "    \"vip\": 0.2,       # 20% discount\n",
    "    \"senior\": 0.15,   # 15% discount\n",
    "    \"veteran\": 0.25,  # 25% discount\n",
    "    \"bald\": 0.05,     # 5% discount\n",
    "    \"student\": 0.1,   # 10% discount\n",
    "    \"jerk\": -0.1      # Negative discount (price increases by 10%)\n",
    "}\n",
    "\n",
    "def calculate_discount(price, customer_type=\"regular\"):\n",
    "    discount_rate = DISCOUNT_RATES.get(customer_type, DISCOUNT_RATES[\"regular\"])\n",
    "    return price * (1 - discount_rate)\n",
    "\n",
    "# Example Usage and Printing Results\n",
    "customer_types = [\"vip\", \"senior\", \"veteran\", \"bald\", \"jerk\"]\n",
    "price = 100\n",
    "\n",
    "print(\"Discounts for various customer types:\")\n",
    "for customer_type in customer_types:\n",
    "    discounted_price = calculate_discount(price, customer_type)\n",
    "    print(f\"{customer_type.capitalize()} Price: ${discounted_price:.2f}\")\n"
   ]
  },
  {
   "cell_type": "markdown",
   "metadata": {},
   "source": [
    "**Efficiency & Utility Boost**\n",
    "- **Dynamic Lookup:** The function uses the get() method to default to the \"regular\" discount if the customer type is not in the dictionary.\n",
    "- **Single Function for All Cases:** No need for separate functions or manual mapping of customer types.\n",
    "- **Scalability:** Adding new customer types is as easy as updating the dictionary."
   ]
  }
 ],
 "metadata": {
  "kernelspec": {
   "display_name": ".venv",
   "language": "python",
   "name": "python3"
  },
  "language_info": {
   "codemirror_mode": {
    "name": "ipython",
    "version": 3
   },
   "file_extension": ".py",
   "mimetype": "text/x-python",
   "name": "python",
   "nbconvert_exporter": "python",
   "pygments_lexer": "ipython3",
   "version": "3.12.7"
  }
 },
 "nbformat": 4,
 "nbformat_minor": 2
}
