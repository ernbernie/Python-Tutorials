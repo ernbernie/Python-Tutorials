{
 "cells": [
  {
   "cell_type": "markdown",
   "metadata": {},
   "source": [
    "## Python Numbers Guessing Game"
   ]
  },
  {
   "cell_type": "markdown",
   "metadata": {},
   "source": [
    "**1. Welcome and Game Setup**"
   ]
  },
  {
   "cell_type": "code",
   "execution_count": null,
   "metadata": {},
   "outputs": [],
   "source": [
    "print(\"Welcome to the Number Guessing Game!\", flush=True)\n",
    "print(\"Press Enter to start or type 'quit' anytime to exit.\", flush=True)\n",
    "\n",
    "start_game = input(\"Press Enter to start: \").strip().lower()\n",
    "if start_game == 'quit':\n",
    "    print(\"Goodbye!\", flush=True)\n",
    "    return"
   ]
  },
  {
   "cell_type": "markdown",
   "metadata": {},
   "source": [
    "**What’s Happening:**\n",
    "\n",
    "- The first print() welcomes the player and explains the game.\n",
    "- The input() waits for the user to press Enter or type \"quit\". We clean their input using .strip() (removes extra spaces) and .lower() (handles case sensitivity).\n",
    "- If they type \"quit\", the game stops immediately with a polite goodbye.\n",
    "\n",
    "**Why It Matters:**\n",
    "\n",
    "- This is the player’s first interaction with your game, so clear instructions are essential.\n",
    "- Adding the \"quit\" option gives the user control, making the game feel friendlier and less frustrating.\n"
   ]
  },
  {
   "cell_type": "markdown",
   "metadata": {},
   "source": [
    "**Generating Target Number**"
   ]
  },
  {
   "cell_type": "code",
   "execution_count": null,
   "metadata": {},
   "outputs": [],
   "source": [
    "target_number = random.randint(1, 100)\n",
    "attempts = 0\n",
    "\n",
    "print(\"\\nI'm thinking of a number between 1 and 100. Can you guess what it is?\", flush=True)"
   ]
  },
  {
   "cell_type": "markdown",
   "metadata": {},
   "source": [
    "**What’s Happening:**\n",
    "\n",
    "- random.randint(1, 100) generates a random number between 1 and 100. This is the number the player needs to guess.\n",
    "- We set attempts = 0 to start counting how many guesses the player makes.\n",
    "- A message tells the player the range of possible numbers.\n",
    "\n",
    "**Why It Matters:**\n",
    "\n",
    "- The random number makes every game unique. You could change the range (e.g., 1 to 50) or add difficulty levels later.\n",
    "- Tracking attempts (attempts = 0) allows us to give feedback on how many guesses it took to win."
   ]
  },
  {
   "cell_type": "markdown",
   "metadata": {},
   "source": [
    "**Main Game Loop**"
   ]
  },
  {
   "cell_type": "code",
   "execution_count": null,
   "metadata": {},
   "outputs": [],
   "source": [
    "while True:\n",
    "    try:\n",
    "        guess = input(\"Enter your guess (or type 'quit' to exit): \").strip().lower()\n",
    "        \n",
    "        if guess == 'quit':\n",
    "            print(f\"You gave up! The number was: {target_number}\", flush=True)\n",
    "            break\n",
    "\n",
    "        guess = int(guess)\n",
    "        attempts += 1\n",
    "\n",
    "        print(f\"You guessed: {guess}\", flush=True)"
   ]
  },
  {
   "cell_type": "markdown",
   "metadata": {},
   "source": [
    "**What’s Happening:**\n",
    "\n",
    "- The while True loop runs until the player guesses the number or quits.\n",
    "- Inside the loop:\n",
    "    1. The player enters their guess.\n",
    "    2. If they type \"quit\", the game ends, and the program reveals the target number.\n",
    "    3. If they enter a number, we convert it to an integer (int(guess)) and increase the attempt counter.\n",
    "    4. The guess is printed back to the player to confirm what they entered.\n",
    "\n",
    "**Why It Matters:**\n",
    "\n",
    "- The loop keeps the game running until the player achieves the goal (or gives up).\n",
    "- Incrementing attempts after each guess ensures accurate feedback later."
   ]
  },
  {
   "cell_type": "markdown",
   "metadata": {},
   "source": [
    "**Feedback On Guesses**"
   ]
  },
  {
   "cell_type": "code",
   "execution_count": null,
   "metadata": {},
   "outputs": [],
   "source": [
    "        if guess < target_number:\n",
    "            print(\"Too low! Try again.\", flush=True)\n",
    "        elif guess > target_number:\n",
    "            print(\"Too high! Try again.\", flush=True)\n",
    "        else:\n",
    "            print(f\"Congratulations! You guessed the number in {attempts} attempts.\", flush=True)\n",
    "            break"
   ]
  },
  {
   "cell_type": "markdown",
   "metadata": {},
   "source": [
    "**What’s Happening:**\n",
    "\n",
    "- The player’s guess is compared to the target number:\n",
    "    1. If it’s less than the target, the game says, “Too low!”\n",
    "    2. If it’s greater than the target, the game says, “Too high!”\n",
    "    3. If it’s correct, the game congratulates the player and exits the loop with break.\n",
    "\n",
    "**Why It Matters:**\n",
    "\n",
    "- Feedback guides the player, making the game engaging and fun. Without it, the player wouldn’t know if they were close or way off."
   ]
  },
  {
   "cell_type": "markdown",
   "metadata": {},
   "source": [
    "**Exiting and Finishing The Game**"
   ]
  },
  {
   "cell_type": "code",
   "execution_count": null,
   "metadata": {},
   "outputs": [],
   "source": [
    "    except ValueError:\n",
    "        print(\"Invalid input. Please enter a number or type 'quit'.\", flush=True)\n",
    "\n",
    "print(\"Thanks for playing!\", flush=True)"
   ]
  },
  {
   "cell_type": "markdown",
   "metadata": {},
   "source": [
    "**What’s Happening:**\n",
    "\n",
    "- The except ValueError block catches errors when the player enters something that isn’t a number (e.g., \"abc\").\n",
    "- After the loop ends, the game thanks the player and exits.\n",
    "\n",
    "\n",
    "**Why It Matters:**\n",
    "\n",
    "- This prevents the program from crashing due to invalid input, ensuring a smooth experience."
   ]
  },
  {
   "cell_type": "markdown",
   "metadata": {},
   "source": [
    "## Putting It All Together"
   ]
  },
  {
   "cell_type": "code",
   "execution_count": 10,
   "metadata": {},
   "outputs": [
    {
     "name": "stdout",
     "output_type": "stream",
     "text": [
      "Welcome to the Number Guessing Game!\n",
      "Press Enter to start or type 'quit' anytime to exit.\n",
      "\n",
      "I'm thinking of a number between 1 and 100. Can you guess what it is?\n",
      "You guessed: 50\n",
      "Too high! Try again.\n",
      "You guessed: 25\n",
      "Too high! Try again.\n",
      "You guessed: 15\n",
      "Too low! Try again.\n",
      "You guessed: 20\n",
      "Too low! Try again.\n",
      "You guessed: 23\n",
      "Too high! Try again.\n",
      "You guessed: 22\n",
      "Congratulations! You guessed the number in 6 attempts.\n",
      "Thanks for playing!\n"
     ]
    }
   ],
   "source": [
    "import random\n",
    "\n",
    "def number_guessing_game():\n",
    "    print(\"Welcome to the Number Guessing Game!\", flush=True)\n",
    "    print(\"Press Enter to start or type 'quit' anytime to exit.\", flush=True)\n",
    "\n",
    "    # Wait for the user to press Enter or quit\n",
    "    start_game = input(\"Press Enter to start: \").strip().lower()\n",
    "    if start_game == 'quit':\n",
    "        print(\"Goodbye!\", flush=True)\n",
    "        return\n",
    "\n",
    "    # Generate a random target number between 1 and 100\n",
    "    target_number = random.randint(1, 100)\n",
    "    attempts = 0\n",
    "\n",
    "    # Show the range after starting the game\n",
    "    print(\"\\nI'm thinking of a number between 1 and 100. Can you guess what it is?\", flush=True)\n",
    "\n",
    "    while True:\n",
    "        try:\n",
    "            # Ask the user for a guess\n",
    "            guess = input(\"Enter your guess (or type 'quit' to exit): \").strip().lower()\n",
    "            \n",
    "            # Allow user to quit at any time\n",
    "            if guess == 'quit':\n",
    "                print(f\"You gave up! The number was: {target_number}\", flush=True)\n",
    "                break\n",
    "\n",
    "            # Convert the input to an integer\n",
    "            guess = int(guess)\n",
    "            attempts += 1\n",
    "\n",
    "            # Echo the user's guess\n",
    "            print(f\"You guessed: {guess}\", flush=True)\n",
    "\n",
    "            # Compare the guess to the target number\n",
    "            if guess < target_number:\n",
    "                print(\"Too low! Try again.\", flush=True)\n",
    "            elif guess > target_number:\n",
    "                print(\"Too high! Try again.\", flush=True)\n",
    "            else:\n",
    "                print(f\"Congratulations! You guessed the number in {attempts} attempts.\", flush=True)\n",
    "                break\n",
    "\n",
    "        except ValueError:\n",
    "            print(\"Invalid input. Please enter a number or type 'quit'.\", flush=True)\n",
    "\n",
    "    print(\"Thanks for playing!\", flush=True)\n",
    "\n",
    "# Start the game\n",
    "if __name__ == \"__main__\":\n",
    "    number_guessing_game()\n"
   ]
  },
  {
   "cell_type": "markdown",
   "metadata": {},
   "source": [
    "### Potential Issues and Improvements"
   ]
  },
  {
   "cell_type": "markdown",
   "metadata": {},
   "source": [
    "- Infinite Loop: The while True loop runs indefinitely, meaning the game will continue until the player manually terminates the program. This is not ideal, especially for beginners.\n",
    "    - Solution: Introduce a variable to track the number of attempts and set a maximum number of attempts. The loop can then terminate after the player reaches the maximum number of attempts, or when the player correctly guesses the number.\n",
    "\n",
    "- Limited Input Validation: The current validation only checks for ValueError. A more robust approach would include:\n",
    "    - Range Check: Ensure the guess is within the specified range of 1 to 100.\n",
    "    - Duplicate Guess Check: Prevent the player from entering the same guess repeatedly.\n",
    "    - Non-Integer Input: Handle cases where the player enters characters or special symbols.\n",
    "\n",
    "- No Game Restart: Once the game ends, the player has to re-run the program to play again.\n",
    "    - Solution: Implement a loop that asks the player if they want to play again after each game ends.\n",
    "\n",
    "- Difficulty Levels: Allow the player to select from different difficulty levels that adjust the range of the random number. \n",
    "\n",
    "- Rounds: Implement a system of rounds where the player with the fewest guesses across multiple rounds wins. This adds a competitive element and promotes replayability.\n",
    "\n",
    "- Time Limit: Introduce a time limit for each guess or for the entire round, adding a sense of urgency and challenge. "
   ]
  }
 ],
 "metadata": {
  "kernelspec": {
   "display_name": ".venv",
   "language": "python",
   "name": "python3"
  },
  "language_info": {
   "codemirror_mode": {
    "name": "ipython",
    "version": 3
   },
   "file_extension": ".py",
   "mimetype": "text/x-python",
   "name": "python",
   "nbconvert_exporter": "python",
   "pygments_lexer": "ipython3",
   "version": "3.12.7"
  }
 },
 "nbformat": 4,
 "nbformat_minor": 2
}
