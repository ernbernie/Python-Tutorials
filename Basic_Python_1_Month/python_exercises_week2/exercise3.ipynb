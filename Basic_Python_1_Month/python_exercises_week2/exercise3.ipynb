{
 "cells": [
  {
   "cell_type": "markdown",
   "metadata": {},
   "source": [
    "# String Slicing and Dicing: Morning vs. Evening Classes"
   ]
  },
  {
   "cell_type": "markdown",
   "metadata": {},
   "source": [
    "When working with data like a class schedule, string manipulation becomes an essential skill. In this lesson, you’ll learn how to:\n",
    "\n",
    "- Slice a schedule into morning and evening classes.\n",
    "- Extract specific details like class names and times.\n",
    "- Filter and format the data for readability.\n",
    "\n",
    "Let’s dive into creating a flexible schedule using Python and explore how slicing and string manipulation can help organize it."
   ]
  },
  {
   "cell_type": "markdown",
   "metadata": {},
   "source": [
    "**Step 1: Creating and Displaying the Schedule**   \n",
    "    We’ll start by building a detailed schedule that includes class names, times, and locations."
   ]
  },
  {
   "cell_type": "code",
   "execution_count": 1,
   "metadata": {},
   "outputs": [
    {
     "name": "stdout",
     "output_type": "stream",
     "text": [
      "📅 Full Class Schedule:\n",
      "Math 101 | 8:00 AM | Room A1\n",
      "Chemistry 201 | 10:00 AM | Lab B2\n",
      "History 101 | 1:00 PM | Room C3\n",
      "Physics 201 | 3:00 PM | Room D4\n",
      "Biology 101 | 5:00 PM | Lab E5\n",
      "Art 101 | 7:00 PM | Room F6\n"
     ]
    }
   ],
   "source": [
    "# Full schedule: name | time | location\n",
    "schedule = [\n",
    "    \"Math 101 | 8:00 AM | Room A1\",\n",
    "    \"Chemistry 201 | 10:00 AM | Lab B2\",\n",
    "    \"History 101 | 1:00 PM | Room C3\",\n",
    "    \"Physics 201 | 3:00 PM | Room D4\",\n",
    "    \"Biology 101 | 5:00 PM | Lab E5\",\n",
    "    \"Art 101 | 7:00 PM | Room F6\"\n",
    "]\n",
    "\n",
    "# Display the complete schedule\n",
    "print(\"📅 Full Class Schedule:\")\n",
    "for class_info in schedule:\n",
    "    print(class_info)"
   ]
  },
  {
   "cell_type": "markdown",
   "metadata": {},
   "source": [
    "**Step 2: Splitting and Extracting Class Details**   \n",
    "Now, let’s split the schedule into morning and evening classes. We’ll also extract specific details like class names and times."
   ]
  },
  {
   "cell_type": "code",
   "execution_count": 2,
   "metadata": {},
   "outputs": [
    {
     "name": "stdout",
     "output_type": "stream",
     "text": [
      "\n",
      "🌞 Morning Classes:\n",
      "Math 101 at 8:00 AM\n",
      "Chemistry 201 at 10:00 AM\n",
      "\n",
      "🌙 Evening Classes:\n",
      "History 101 at 1:00 PM\n",
      "Physics 201 at 3:00 PM\n",
      "Biology 101 at 5:00 PM\n",
      "Art 101 at 7:00 PM\n"
     ]
    }
   ],
   "source": [
    "# Split the schedule based on \"AM\" and \"PM\"\n",
    "morning_classes = [entry for entry in schedule if \"AM\" in entry]\n",
    "evening_classes = [entry for entry in schedule if \"PM\" in entry]\n",
    "\n",
    "# Extract and format details\n",
    "def extract_details(class_list):\n",
    "    return [f\"{entry.split('|')[0].strip()} at {entry.split('|')[1].strip()}\" for entry in class_list]\n",
    "\n",
    "formatted_morning = extract_details(morning_classes)\n",
    "formatted_evening = extract_details(evening_classes)\n",
    "\n",
    "# Display results\n",
    "print(\"\\n🌞 Morning Classes:\")\n",
    "print(\"\\n\".join(formatted_morning))\n",
    "\n",
    "print(\"\\n🌙 Evening Classes:\")\n",
    "print(\"\\n\".join(formatted_evening))"
   ]
  },
  {
   "cell_type": "markdown",
   "metadata": {},
   "source": [
    "**What’s Happening Here?**\n",
    "\n",
    "- **Filtering:** We use a conditional list comprehension to separate classes into morning (contains \"AM\") and evening (contains \"PM\").\n",
    "- **String Splitting:** The extract_details function splits each string by the | delimiter and reformats the details for readability."
   ]
  },
  {
   "cell_type": "markdown",
   "metadata": {},
   "source": [
    "**Step 3: Highlight Classes in Specific Locations**   \n",
    "Finally, let’s filter classes that happen in labs or specific rooms. This demonstrates how you can dynamically find classes based on a keyword."
   ]
  },
  {
   "cell_type": "code",
   "execution_count": 3,
   "metadata": {},
   "outputs": [
    {
     "name": "stdout",
     "output_type": "stream",
     "text": [
      "\n",
      "🔬 Lab Classes:\n",
      "Chemistry 201 | 10:00 AM | Lab B2\n",
      "Biology 101 | 5:00 PM | Lab E5\n",
      "\n",
      "🏫 Room Classes:\n",
      "Math 101 | 8:00 AM | Room A1\n",
      "History 101 | 1:00 PM | Room C3\n",
      "Physics 201 | 3:00 PM | Room D4\n",
      "Art 101 | 7:00 PM | Room F6\n"
     ]
    }
   ],
   "source": [
    "# Filter by location\n",
    "def filter_by_location(class_list, location_keyword):\n",
    "    return [entry for entry in class_list if location_keyword in entry]\n",
    "\n",
    "lab_classes = filter_by_location(schedule, \"Lab\")\n",
    "room_classes = filter_by_location(schedule, \"Room\")\n",
    "\n",
    "# Display filtered results\n",
    "print(\"\\n🔬 Lab Classes:\")\n",
    "print(\"\\n\".join(lab_classes))\n",
    "\n",
    "print(\"\\n🏫 Room Classes:\")\n",
    "print(\"\\n\".join(room_classes))\n"
   ]
  },
  {
   "cell_type": "markdown",
   "metadata": {},
   "source": [
    "**What’s Happening Here?**\n",
    "\n",
    "- **Dynamic Filtering:** We use a helper function to filter classes by a specific keyword, such as \"Lab\" or \"Room\"."
   ]
  },
  {
   "cell_type": "markdown",
   "metadata": {},
   "source": [
    "### Conclusion: Wrapping Up   \n",
    "By the end of this lesson, you’ve learned how to:\n",
    "\n",
    "- Use slicing and list comprehensions to organize data dynamically.\n",
    "- Split and manipulate strings with functions like split() and strip().\n",
    "- Filter data based on specific keywords, making it easy to focus on relevant information."
   ]
  }
 ],
 "metadata": {
  "kernelspec": {
   "display_name": ".venv",
   "language": "python",
   "name": "python3"
  },
  "language_info": {
   "codemirror_mode": {
    "name": "ipython",
    "version": 3
   },
   "file_extension": ".py",
   "mimetype": "text/x-python",
   "name": "python",
   "nbconvert_exporter": "python",
   "pygments_lexer": "ipython3",
   "version": "3.12.7"
  }
 },
 "nbformat": 4,
 "nbformat_minor": 2
}
