{
 "cells": [
  {
   "cell_type": "markdown",
   "metadata": {},
   "source": [
    "# Debugging The Student Grader"
   ]
  },
  {
   "cell_type": "markdown",
   "metadata": {},
   "source": [
    "**Introduction**\n",
    "Debugging is an essential skill in programming, as most programs don’t work perfectly on the first try (or even the second!). In this lesson, you’ll step into the shoes of a detective and fix issues in a student grading program. The grader script:\n",
    "\n",
    "- Asks for multiple student scores.\n",
    "- Calculates the average of the scores.\n",
    "- Assigns a letter grade (A, B, C, etc.) based on the average.\n",
    "\n",
    "While the program works well for some inputs, it breaks or produces incorrect results for edge cases.\n",
    "\n",
    "**Why This Is Important**    \n",
    "Debugging skills are crucial for tackling real-world programming challenges. Effective error handling is essential for creating robust and user-friendly programs. By learning to identify and address edge cases, you'll develop stronger critical thinking and programming logic skills."
   ]
  },
  {
   "cell_type": "markdown",
   "metadata": {},
   "source": [
    "**Step 1: Handling Non-Numeric Inputs**    \n",
    "The script takes student scores and calculates the average. It works for numeric inputs but fails when the user enters a non-numeric value (e.g., \"abc\"), causing the program to crash."
   ]
  },
  {
   "cell_type": "code",
   "execution_count": null,
   "metadata": {},
   "outputs": [
    {
     "ename": "ValueError",
     "evalue": "could not convert string to float: 'abc'",
     "output_type": "error",
     "traceback": [
      "\u001b[1;31m---------------------------------------------------------------------------\u001b[0m",
      "\u001b[1;31mValueError\u001b[0m                                Traceback (most recent call last)",
      "Cell \u001b[1;32mIn[2], line 4\u001b[0m\n\u001b[0;32m      2\u001b[0m scores \u001b[38;5;241m=\u001b[39m []\n\u001b[0;32m      3\u001b[0m \u001b[38;5;28;01mfor\u001b[39;00m i \u001b[38;5;129;01min\u001b[39;00m \u001b[38;5;28mrange\u001b[39m(\u001b[38;5;241m3\u001b[39m):  \u001b[38;5;66;03m# Assume 3 students for simplicity\u001b[39;00m\n\u001b[1;32m----> 4\u001b[0m     score \u001b[38;5;241m=\u001b[39m \u001b[38;5;28;43mfloat\u001b[39;49m\u001b[43m(\u001b[49m\u001b[38;5;28;43minput\u001b[39;49m\u001b[43m(\u001b[49m\u001b[38;5;124;43mf\u001b[39;49m\u001b[38;5;124;43m\"\u001b[39;49m\u001b[38;5;124;43mEnter the score for student \u001b[39;49m\u001b[38;5;132;43;01m{\u001b[39;49;00m\u001b[43mi\u001b[49m\u001b[38;5;250;43m \u001b[39;49m\u001b[38;5;241;43m+\u001b[39;49m\u001b[38;5;250;43m \u001b[39;49m\u001b[38;5;241;43m1\u001b[39;49m\u001b[38;5;132;43;01m}\u001b[39;49;00m\u001b[38;5;124;43m: \u001b[39;49m\u001b[38;5;124;43m\"\u001b[39;49m\u001b[43m)\u001b[49m\u001b[43m)\u001b[49m\n\u001b[0;32m      5\u001b[0m     scores\u001b[38;5;241m.\u001b[39mappend(score)\n\u001b[0;32m      7\u001b[0m \u001b[38;5;28mprint\u001b[39m(\u001b[38;5;124m\"\u001b[39m\u001b[38;5;124mScores:\u001b[39m\u001b[38;5;124m\"\u001b[39m, scores)\n",
      "\u001b[1;31mValueError\u001b[0m: could not convert string to float: 'abc'"
     ]
    }
   ],
   "source": [
    "# Step 1: Works for normal inputs but fails with 'abc'\n",
    "scores = []\n",
    "for i in range(3):  # Assume 3 students for simplicity\n",
    "    score = float(input(f\"Enter the score for student {i + 1}: \"))\n",
    "    scores.append(score)\n",
    "\n",
    "print(\"Scores:\", scores)"
   ]
  },
  {
   "cell_type": "markdown",
   "metadata": {},
   "source": [
    "**Explanation**   \n",
    "If the user enters \"abc\", the program crashes with: ValueError: could not convert string to float: 'abc'\n",
    "\n",
    "**Step 1: Fix**   \n",
    "Use a try block to handle invalid inputs gracefully."
   ]
  },
  {
   "cell_type": "code",
   "execution_count": 6,
   "metadata": {},
   "outputs": [
    {
     "name": "stdout",
     "output_type": "stream",
     "text": [
      "Score added: 10.0. Current scores: [10.0]\n",
      "Score added: 50.0. Current scores: [10.0, 50.0]\n",
      "Invalid input. Please enter a numeric value or type 'exit' to quit.\n",
      "Score added: 90.0. Current scores: [10.0, 50.0, 90.0]\n",
      "Final Scores: [10.0, 50.0, 90.0]\n"
     ]
    }
   ],
   "source": [
    "# Step 1: Fixed for non-numeric inputs with immediate feedback and escape option\n",
    "scores = []\n",
    "for i in range(3):  # Assume 3 students for simplicity\n",
    "    while True:\n",
    "        try:\n",
    "            user_input = input(f\"Enter the score for student {i + 1} (or type 'exit' to quit): \").strip()\n",
    "            if user_input.lower() == \"exit\":\n",
    "                print(\"Exiting the program. Final Scores:\", scores)\n",
    "                exit()  # Exit the program smoothly\n",
    "            score = float(user_input)\n",
    "            scores.append(score)\n",
    "            print(f\"Score added: {score}. Current scores: {scores}\")\n",
    "            break  # Exit the loop on valid input\n",
    "        except ValueError:\n",
    "            print(\"Invalid input. Please enter a numeric value or type 'exit' to quit.\")\n",
    "\n",
    "print(\"Final Scores:\", scores)\n"
   ]
  },
  {
   "cell_type": "markdown",
   "metadata": {},
   "source": [
    "**Key Changes:**   \n",
    "- A try block captures errors if the input isn’t a valid number.\n",
    "- The except ValueError block ensures the program doesn’t crash and prompts the user for valid input.\n",
    "- A while loop keeps asking for input until a valid score is entered."
   ]
  },
  {
   "cell_type": "markdown",
   "metadata": {},
   "source": [
    "**Step 2: Fixing the Negative Scores Bug**   \n",
    "Negative scores are accepted, but they don’t make sense in the context of grading. For example, entering -10 as a score is invalid."
   ]
  },
  {
   "cell_type": "code",
   "execution_count": 8,
   "metadata": {},
   "outputs": [
    {
     "name": "stdout",
     "output_type": "stream",
     "text": [
      "Score added: -11.0. Current scores: [-11.0]\n",
      "Score added: 80.0. Current scores: [-11.0, 80.0]\n",
      "Score added: -95.0. Current scores: [-11.0, 80.0, -95.0]\n",
      "Final Scores: [-11.0, 80.0, -95.0]\n"
     ]
    }
   ],
   "source": [
    "# Step 2: Works for normal inputs but accepts negative scores\n",
    "scores = []\n",
    "for i in range(3):  # Assume 3 students for simplicity\n",
    "    while True:\n",
    "        try:\n",
    "            user_input = input(f\"Enter the score for student {i + 1} (or type 'exit' to quit): \").strip()\n",
    "            if user_input.lower() == \"exit\":\n",
    "                print(\"Exiting the program. Final Scores:\", scores)\n",
    "                exit()  # Exit the program smoothly\n",
    "            score = float(user_input)\n",
    "            scores.append(score)\n",
    "            print(f\"Score added: {score}. Current scores: {scores}\")\n",
    "            break  # Exit the loop on valid input\n",
    "        except ValueError:\n",
    "            print(\"Invalid input. Please enter a numeric value or type 'exit' to quit.\")\n",
    "\n",
    "print(\"Final Scores:\", scores)\n"
   ]
  },
  {
   "cell_type": "markdown",
   "metadata": {},
   "source": [
    "**Explanation**\n",
    "- This code works for valid inputs (e.g., 85, 90, 88) but doesn’t prevent users from entering negative scores (e.g., -10).\n",
    "- Invalid scores corrupt the data and make the program unreliable."
   ]
  },
  {
   "cell_type": "markdown",
   "metadata": {},
   "source": [
    "**Step 2: Fix**    \n",
    "Introduce a conditional check"
   ]
  },
  {
   "cell_type": "code",
   "execution_count": 15,
   "metadata": {},
   "outputs": [
    {
     "name": "stdout",
     "output_type": "stream",
     "text": [
      "Scores cannot be negative. Please enter a valid score.\n",
      "Scores cannot be negative. Please enter a valid score.\n",
      "Score added: 80.0. Current scores: [80.0]\n",
      "Score added: 80.0. Current scores: [80.0, 80.0]\n",
      "Score added: 79.0. Current scores: [80.0, 80.0, 79.0]\n",
      "Final Scores: [80.0, 80.0, 79.0]\n"
     ]
    }
   ],
   "source": [
    "# Step 2: Fixed for negative scores with validation\n",
    "scores = []\n",
    "for i in range(3):  # Assume 3 students for simplicity\n",
    "    while True:\n",
    "        try:\n",
    "            user_input = input(f\"Enter the score for student {i + 1} (or type 'exit' to quit): \").strip()\n",
    "            if user_input.lower() == \"exit\":\n",
    "                print(\"Exiting the program. Final Scores:\", scores)\n",
    "                exit()  # Exit the program smoothly\n",
    "            score = float(user_input)\n",
    "            if score < 0:\n",
    "                print(\"Scores cannot be negative. Please enter a valid score.\")\n",
    "                continue  # Restart the loop\n",
    "            scores.append(score)\n",
    "            print(f\"Score added: {score}. Current scores: {scores}\")\n",
    "            break  # Exit the loop on valid input\n",
    "        except ValueError:\n",
    "            print(\"Invalid input. Please enter a numeric value or type 'exit' to quit.\")\n",
    "\n",
    "print(\"Final Scores:\", scores)\n"
   ]
  },
  {
   "cell_type": "markdown",
   "metadata": {},
   "source": [
    "**Key Changes:**\n",
    "- A condition (if score < 0) checks for negative scores and rejects them with an error message.\n",
    "- The continue statement restarts the loop, asking the user to input a valid score.\n"
   ]
  },
  {
   "cell_type": "markdown",
   "metadata": {},
   "source": [
    "**Step 3: Fixing the Grading Logic Bug**    \n",
    "The program calculates the average score and assigns a letter grade. However, the grading logic fails for edge cases like 79.67, where grading is only whole numbers, assigning an incorrect grade (e.g., C instead of B)."
   ]
  },
  {
   "cell_type": "code",
   "execution_count": 16,
   "metadata": {},
   "outputs": [
    {
     "name": "stdout",
     "output_type": "stream",
     "text": [
      "Average Score: 79.67, Grade: C\n"
     ]
    }
   ],
   "source": [
    "# Step 3: Works for most inputs but fails for edge cases\n",
    "average_score = sum(scores) / len(scores)\n",
    "if average_score >= 90:\n",
    "    grade = \"A\"\n",
    "elif average_score >= 80:\n",
    "    grade = \"B\"\n",
    "elif average_score >= 70:\n",
    "    grade = \"C\"\n",
    "elif average_score >= 60:\n",
    "    grade = \"D\"\n",
    "else:\n",
    "    grade = \"F\"\n",
    "\n",
    "print(f\"Average Score: {average_score:.2f}, Grade: {grade}\")\n"
   ]
  },
  {
   "cell_type": "markdown",
   "metadata": {},
   "source": [
    "**Explanation:**\n",
    "- The code works but doesn't round up numbers, causing students to rip out their hair.\n",
    "- Let's fix this so that there's only whole numbers."
   ]
  },
  {
   "cell_type": "code",
   "execution_count": 17,
   "metadata": {},
   "outputs": [
    {
     "name": "stdout",
     "output_type": "stream",
     "text": [
      "Average Score: 79.67 (rounded to 80), Grade: B\n"
     ]
    }
   ],
   "source": [
    "# Step 3: Fixed grading logic with rounding\n",
    "average_score = sum(scores) / len(scores)\n",
    "rounded_average = round(average_score)  # Round the average to the nearest whole number\n",
    "\n",
    "if rounded_average >= 90:\n",
    "    grade = \"A\"\n",
    "elif 80 <= rounded_average < 90:\n",
    "    grade = \"B\"\n",
    "elif 70 <= rounded_average < 80:\n",
    "    grade = \"C\"\n",
    "elif 60 <= rounded_average < 70:\n",
    "    grade = \"D\"\n",
    "else:\n",
    "    grade = \"F\"\n",
    "\n",
    "print(f\"Average Score: {average_score:.2f} (rounded to {rounded_average}), Grade: {grade}\")\n"
   ]
  },
  {
   "cell_type": "markdown",
   "metadata": {},
   "source": [
    "**Key Changes:**\n",
    "- Used round(average_score) to ensure the average score is treated as a whole number before assigning grades.\n",
    "- This avoids inconsistencies with decimals like 79.67, which might feel unfair to students.\n",
    "- Shows both the exact average (with decimals) and the rounded average for transparency."
   ]
  },
  {
   "cell_type": "markdown",
   "metadata": {},
   "source": [
    "## Conclusion:\n",
    "In this lesson, you successfully debugged a student grading program, making it more robust and reliable. Here’s what you fixed:\n",
    "\n",
    "- Step 1: Handled non-numeric inputs by adding a try block and giving users immediate feedback for invalid entries.\n",
    "- Step 2: Rejected negative scores by adding validation logic and re-prompting the user for valid inputs.\n",
    "- Step 3: Refined the grading logic to ensure that edge cases, such as scores with decimals, are handled fairly by rounding the average score before assigning a grade.\n",
    "\n",
    "**Why This Is Important:**    \n",
    "Debugging ensures your programs can handle unexpected inputs and edge cases gracefully. Input validation makes programs user-friendly, while refining your logic builds confidence in your results. By improving both usability and accuracy, you’ve created a tool that works reliably for real-world scenarios.\n",
    "\n",
    "**Next Steps:**\n",
    "\n",
    "- Enhance your program to handle multiple students and display grades in a table.\n",
    "- Add options to customize grading scales or allow students to input their names alongside scores.\n",
    "- Continue practicing debugging techniques to strengthen your ability to solve problems in more complex programs."
   ]
  }
 ],
 "metadata": {
  "kernelspec": {
   "display_name": ".venv",
   "language": "python",
   "name": "python3"
  },
  "language_info": {
   "codemirror_mode": {
    "name": "ipython",
    "version": 3
   },
   "file_extension": ".py",
   "mimetype": "text/x-python",
   "name": "python",
   "nbconvert_exporter": "python",
   "pygments_lexer": "ipython3",
   "version": "3.12.7"
  }
 },
 "nbformat": 4,
 "nbformat_minor": 2
}
