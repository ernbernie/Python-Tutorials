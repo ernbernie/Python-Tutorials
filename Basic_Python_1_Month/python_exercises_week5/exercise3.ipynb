{
 "cells": [
  {
   "cell_type": "markdown",
   "metadata": {},
   "source": [
    "# Build Your Perfect Smoothie"
   ]
  },
  {
   "cell_type": "markdown",
   "metadata": {},
   "source": [
    "Lists are a versatile data structure in Python, and they’re perfect for creating interactive and dynamic programs.    \n",
    "In this lesson, we’ll simulate building a smoothie recipe step by step. You’ll learn how to use list manipulation, loops, and basic input/output to create a fun, interactive program.\n",
    "\n",
    "We’ll also teach you how to handle invalid inputs gracefully, ensuring your program is robust and user-friendly."
   ]
  },
  {
   "cell_type": "markdown",
   "metadata": {},
   "source": [
    "**What You’ll Learn**\n",
    "- Use lists to store and manipulate data dynamically.\n",
    "- Implement interactive input and output with users.\n",
    "- Handle invalid inputs gracefully with try blocks.\n"
   ]
  },
  {
   "cell_type": "markdown",
   "metadata": {},
   "source": [
    "**Step 1: Building With an Empty Smoothie**   \n",
    "Start with an empty list and allow the user to add ingredients interactively."
   ]
  },
  {
   "cell_type": "code",
   "execution_count": null,
   "metadata": {},
   "outputs": [],
   "source": [
    "# Step 1: Initialize an empty list for the smoothie\n",
    "smoothie = []\n",
    "\n",
    "print(\"Welcome to the Smoothie Maker!\")\n",
    "print(\"Type ingredients to add to your smoothie.\")\n",
    "print(\"Type 'done' when you're finished.\")\n",
    "\n",
    "# Add ingredients to the smoothie\n",
    "while True:\n",
    "    ingredient = input(\"Add an ingredient: \").strip()\n",
    "    if ingredient.lower() == \"done\":\n",
    "        break\n",
    "    smoothie.append(ingredient)\n",
    "    print(f\"Added {ingredient} to your smoothie.\")\n",
    "    print(f\"Current ingredients: {', '.join(smoothie)}\")\n"
   ]
  },
  {
   "cell_type": "markdown",
   "metadata": {},
   "source": [
    "**Key Takeaways**   \n",
    "- Start with an empty list and use .append() to add items dynamically.\n",
    "- Use input() to interact with the user, making the program flexible and engaging.\n"
   ]
  },
  {
   "cell_type": "markdown",
   "metadata": {},
   "source": [
    "**Step 2: Editing Your Smoothie**   \n",
    "Let the user remove ingredients or finish their smoothie."
   ]
  },
  {
   "cell_type": "code",
   "execution_count": null,
   "metadata": {},
   "outputs": [],
   "source": [
    "print(\"\\nWould you like to edit your smoothie?\")\n",
    "\n",
    "while True:\n",
    "    action = input(\"Type 'remove' to remove an ingredient, or 'done' to finish: \").strip().lower()\n",
    "\n",
    "    if action == \"done\":\n",
    "        break\n",
    "    elif action == \"remove\":\n",
    "        if smoothie:\n",
    "            print(f\"Current ingredients: {', '.join(smoothie)}\")\n",
    "            ingredient_to_remove = input(\"Which ingredient would you like to remove? \").strip()\n",
    "            if ingredient_to_remove in smoothie:\n",
    "                smoothie.remove(ingredient_to_remove)\n",
    "                print(f\"Removed {ingredient_to_remove}.\")\n",
    "                print(f\"Current ingredients: {', '.join(smoothie)}\")\n",
    "            else:\n",
    "                print(f\"{ingredient_to_remove} is not in your smoothie!\")\n",
    "        else:\n",
    "            print(\"Your smoothie is empty. Add some ingredients first!\")\n",
    "    else:\n",
    "        print(\"Invalid input. Please type 'remove' or 'done'.\")\n"
   ]
  },
  {
   "cell_type": "markdown",
   "metadata": {},
   "source": [
    "**Key Takeaways**\n",
    "- Lists are mutable, meaning you can use .remove() to delete specific elements.\n",
    "- Providing feedback on invalid inputs enhances user experience and reduces frustration."
   ]
  },
  {
   "cell_type": "markdown",
   "metadata": {},
   "source": [
    "**Step 3: Graceful Error Handling**   \n",
    "Handle invalid inputs gracefully using a try block to prevent crashes."
   ]
  },
  {
   "cell_type": "code",
   "execution_count": null,
   "metadata": {},
   "outputs": [],
   "source": [
    "print(\"\\nFinalizing your smoothie...\")\n",
    "\n",
    "try:\n",
    "    if not smoothie:\n",
    "        raise ValueError(\"Your smoothie is empty! Add some ingredients first.\")\n",
    "    final_smoothie = \", \".join(smoothie)\n",
    "    print(f\"Here’s your smoothie: {final_smoothie}\")\n",
    "except ValueError as e:\n",
    "    print(f\"Error: {e}\")\n"
   ]
  },
  {
   "cell_type": "markdown",
   "metadata": {},
   "source": [
    "**Key Takeaways**\n",
    "- Use try and except to anticipate and handle potential errors.\n",
    "- Always validate the state of your data (e.g., ensure the smoothie list isn’t empty)."
   ]
  },
  {
   "cell_type": "markdown",
   "metadata": {},
   "source": [
    "**Full Interactive Smoothie Maker**    \n",
    "Here’s the full program, combining all steps:"
   ]
  },
  {
   "cell_type": "code",
   "execution_count": 13,
   "metadata": {},
   "outputs": [
    {
     "name": "stdout",
     "output_type": "stream",
     "text": [
      "Welcome to the Smoothie Maker!\n",
      "Type ingredients to add to your smoothie. Type 'done' to finish.\n",
      "Type 'remove' to delete an ingredient or 'exit' to quit at any time.\n",
      "Added chicken to your smoothie.\n",
      "Current ingredients: chicken\n",
      "Current ingredients: chicken\n",
      "Removed chicken.\n",
      "Current ingredients: \n",
      "Invalid input. Please type 'add', 'remove', 'done', or 'exit'.\n",
      "Added pineapple to your smoothie.\n",
      "Current ingredients: pineapple\n",
      "Added apple to your smoothie.\n",
      "Current ingredients: pineapple, apple\n",
      "\n",
      "Here’s your smoothie: pineapple, apple\n"
     ]
    }
   ],
   "source": [
    "# Smoothie Maker Program\n",
    "def smoothie_maker():\n",
    "    smoothie = []\n",
    "\n",
    "    print(\"Welcome to the Smoothie Maker!\")\n",
    "    print(\"Type ingredients to add to your smoothie. Type 'done' to finish.\")\n",
    "    print(\"Type 'remove' to delete an ingredient or 'exit' to quit at any time.\")\n",
    "\n",
    "    while True:\n",
    "        action = input(\"\\nWhat would you like to do (add/remove/done/exit)? \").strip().lower()\n",
    "\n",
    "        if action == \"exit\":\n",
    "            print(\"\\nExiting the Smoothie Maker. Goodbye!\")\n",
    "            break\n",
    "        elif action == \"done\":\n",
    "            try:\n",
    "                if not smoothie:\n",
    "                    raise ValueError(\"Your smoothie is empty! Add some ingredients first.\")\n",
    "                final_smoothie = \", \".join(smoothie)\n",
    "                print(f\"\\nHere’s your smoothie: {final_smoothie}\")\n",
    "            except ValueError as e:\n",
    "                print(f\"Error: {e}\")\n",
    "            break\n",
    "        elif action == \"add\":\n",
    "            ingredient = input(\"Add an ingredient: \").strip()\n",
    "            if ingredient:\n",
    "                smoothie.append(ingredient)\n",
    "                print(f\"Added {ingredient} to your smoothie.\")\n",
    "                print(f\"Current ingredients: {', '.join(smoothie)}\")\n",
    "            else:\n",
    "                print(\"Invalid input! Please enter a valid ingredient.\")\n",
    "        elif action == \"remove\":\n",
    "            if smoothie:\n",
    "                print(f\"Current ingredients: {', '.join(smoothie)}\")\n",
    "                ingredient_to_remove = input(\"Which ingredient would you like to remove? \").strip()\n",
    "                if ingredient_to_remove in smoothie:\n",
    "                    smoothie.remove(ingredient_to_remove)\n",
    "                    print(f\"Removed {ingredient_to_remove}.\")\n",
    "                    print(f\"Current ingredients: {', '.join(smoothie)}\")\n",
    "                else:\n",
    "                    print(f\"{ingredient_to_remove} is not in your smoothie!\")\n",
    "            else:\n",
    "                print(\"Your smoothie is empty. Add some ingredients first!\")\n",
    "        else:\n",
    "            print(\"Invalid input. Please type 'add', 'remove', 'done', or 'exit'.\")\n",
    "\n",
    "# Run the Smoothie Maker\n",
    "smoothie_maker()\n"
   ]
  },
  {
   "cell_type": "markdown",
   "metadata": {},
   "source": [
    "## Conclusion\n",
    "This lesson showed you how to create a fun, interactive program using lists. You learned to:\n",
    "\n",
    "- Use lists to store and dynamically manipulate data.\n",
    "- Create an interactive user experience with a while loop and clear prompts.\n",
    "- Handle invalid inputs and errors gracefully to ensure the program runs smoothly.\n",
    "\n",
    "**Why It’s Important**   \n",
    "These concepts are foundational for creating interactive programs that process user data. By mastering these techniques, you’ll be able to build more engaging and user-friendly Python applications. Try adding more features, like saving smoothie recipes or suggesting popular ingredients!"
   ]
  }
 ],
 "metadata": {
  "kernelspec": {
   "display_name": ".venv",
   "language": "python",
   "name": "python3"
  },
  "language_info": {
   "codemirror_mode": {
    "name": "ipython",
    "version": 3
   },
   "file_extension": ".py",
   "mimetype": "text/x-python",
   "name": "python",
   "nbconvert_exporter": "python",
   "pygments_lexer": "ipython3",
   "version": "3.12.7"
  }
 },
 "nbformat": 4,
 "nbformat_minor": 2
}
