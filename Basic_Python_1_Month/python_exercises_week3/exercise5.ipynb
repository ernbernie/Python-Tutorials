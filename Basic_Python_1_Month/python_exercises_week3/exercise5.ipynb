{
 "cells": [
  {
   "cell_type": "markdown",
   "metadata": {},
   "source": [
    "# Simple Interest Calculator with Functions"
   ]
  },
  {
   "cell_type": "markdown",
   "metadata": {},
   "source": [
    "**Objective:** Learn how to define and use functions in Python to perform calculations. This lesson focuses on creating a function, returning values with the return statement, and dynamically accepting user inputs to calculate simple interest."
   ]
  },
  {
   "cell_type": "markdown",
   "metadata": {},
   "source": [
    "**Step 1: Define the Function**\n",
    "**Goal:** Create a function named simple_interest() that calculates the interest based on the formula:\n",
    "\n",
    "**Simple Interest= (Principal×Rate×Time)/100**\n"
   ]
  },
  {
   "cell_type": "code",
   "execution_count": 1,
   "metadata": {},
   "outputs": [],
   "source": [
    "def simple_interest(principal, rate, time):\n",
    "    return (principal * rate * time) / 100"
   ]
  },
  {
   "cell_type": "markdown",
   "metadata": {},
   "source": [
    "**Explanation:**\n",
    "\n",
    "- Use the def keyword to define the function.\n",
    "- The function takes three arguments: principal, rate, and time.\n",
    "- The return statement sends back the calculated interest to the caller.\n"
   ]
  },
  {
   "cell_type": "markdown",
   "metadata": {},
   "source": [
    "**Step 2: Call the Function and Print Results**   \n",
    "**Goal:** Use the function to calculate simple interest for predefined values and store the result in a variable."
   ]
  },
  {
   "cell_type": "code",
   "execution_count": 5,
   "metadata": {},
   "outputs": [
    {
     "name": "stdout",
     "output_type": "stream",
     "text": [
      "Simple Interest for principal=$1000, rate=5%, time=2 years: $150.0\n"
     ]
    }
   ],
   "source": [
    "# Test the function with fixed values\n",
    "interest = simple_interest(1000, 5, 3)\n",
    "print(f\"Simple Interest for principal=$1000, rate=5%, time=2 years: ${interest}\")\n"
   ]
  },
  {
   "cell_type": "markdown",
   "metadata": {},
   "source": [
    "**Explanation:**\n",
    "\n",
    "- Call the simple_interest() function with predefined arguments: principal = 1000, rate = 5%, and time = 3 years.\n",
    "- Store the returned value in the variable interest.\n",
    "- Use print() to display the calculated result."
   ]
  },
  {
   "cell_type": "markdown",
   "metadata": {},
   "source": [
    "**Step 3: Add Dynamic Input**   \n",
    "**Goal:** Prompt the user to input the principal, rate, and time, and display the dynamically calculated interest."
   ]
  },
  {
   "cell_type": "code",
   "execution_count": 7,
   "metadata": {},
   "outputs": [
    {
     "name": "stdout",
     "output_type": "stream",
     "text": [
      "Simple Interest: $142.5\n"
     ]
    }
   ],
   "source": [
    "# Get input values from the user\n",
    "principal = float(input(\"Enter the principal amount:$ \"))\n",
    "rate = float(input(\"Enter the rate of interest: \"))\n",
    "time = float(input(\"Enter the time period (in years): \"))\n",
    "\n",
    "# Calculate and display the simple interest\n",
    "calculated_interest = simple_interest(principal, rate, time)\n",
    "print(f\"Simple Interest: ${calculated_interest}\")\n"
   ]
  },
  {
   "cell_type": "markdown",
   "metadata": {},
   "source": [
    "**Explanation:**\n",
    "\n",
    "- Use input() to accept user-provided values for principal, rate, and time. Convert inputs to float for numerical calculations.\n",
    "- Call the simple_interest() function with user inputs.\n",
    "- Display the dynamically calculated interest using print()."
   ]
  },
  {
   "cell_type": "markdown",
   "metadata": {},
   "source": [
    "## Conclusion\n",
    "In this mini lesson, we:\n",
    "\n",
    "- Defined a Function: Used def to create a reusable function for calculating simple interest.\n",
    "- Used return: Returned a value from the function to the caller for further use.\n",
    "- Accepted Dynamic Input: Allowed users to interact with the program by providing custom values."
   ]
  }
 ],
 "metadata": {
  "kernelspec": {
   "display_name": ".venv",
   "language": "python",
   "name": "python3"
  },
  "language_info": {
   "codemirror_mode": {
    "name": "ipython",
    "version": 3
   },
   "file_extension": ".py",
   "mimetype": "text/x-python",
   "name": "python",
   "nbconvert_exporter": "python",
   "pygments_lexer": "ipython3",
   "version": "3.12.7"
  }
 },
 "nbformat": 4,
 "nbformat_minor": 2
}
