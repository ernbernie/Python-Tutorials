{
 "cells": [
  {
   "cell_type": "markdown",
   "metadata": {},
   "source": [
    "# Infinite Math Practice"
   ]
  },
  {
   "cell_type": "markdown",
   "metadata": {},
   "source": [
    "**Objective:**   \n",
    "Learn to use Python’s while loop, if statements, and basic arithmetic to build a simple, repeatable math practice program that evaluates user input and keeps score."
   ]
  },
  {
   "cell_type": "markdown",
   "metadata": {},
   "source": [
    "**Step 1: Setting Up the Problem Generator**   \n",
    "**Goal:** Create a random addition or subtraction problem using Python’s random module."
   ]
  },
  {
   "cell_type": "code",
   "execution_count": 10,
   "metadata": {},
   "outputs": [
    {
     "name": "stdout",
     "output_type": "stream",
     "text": [
      "Solve: 38 + 37\n"
     ]
    }
   ],
   "source": [
    "import random\n",
    "\n",
    "# Initialize or reset the score\n",
    "score = 0\n",
    "\n",
    "# Function to generate a math problem\n",
    "def generate_problem():\n",
    "    num1 = random.randint(1, 50)\n",
    "    num2 = random.randint(1, 50)\n",
    "    operation = random.choice([\"+\", \"-\"])\n",
    "\n",
    "    # Ensure subtraction results in a positive answer\n",
    "    if operation == \"-\" and num1 < num2:\n",
    "        num1, num2 = num2, num1\n",
    "\n",
    "    return num1, num2, operation\n",
    "\n",
    "# Generate and print a sample problem\n",
    "num1, num2, operation = generate_problem()\n",
    "print(f\"Solve: {num1} {operation} {num2}\")\n"
   ]
  },
  {
   "cell_type": "markdown",
   "metadata": {},
   "source": [
    "**Key Concepts:**\n",
    "\n",
    "- Use random.randint() to generate random numbers.\n",
    "- Use random.choice() to randomly select an operation (+ or -)."
   ]
  },
  {
   "cell_type": "markdown",
   "metadata": {},
   "source": [
    "**Step 2: Evaluate the User’s Answer**   \n",
    "**Goal:** Continuously generate problems, evaluate answers, and update the score."
   ]
  },
  {
   "cell_type": "code",
   "execution_count": 11,
   "metadata": {},
   "outputs": [
    {
     "name": "stdout",
     "output_type": "stream",
     "text": [
      "Correct! 🎉\n",
      "Correct! 🎉\n",
      "Correct! 🎉\n",
      "Correct! 🎉\n",
      "Correct! 🎉\n",
      "Correct! 🎉\n",
      "Correct! 🎉\n",
      "\n",
      "--- Math Practice Summary ---\n",
      "Total correct answers: 7\n",
      "Thanks for practicing! Keep improving. 😊\n"
     ]
    }
   ],
   "source": [
    "while True:\n",
    "    # Generate a new problem\n",
    "    num1, num2, operation = generate_problem()\n",
    "    correct_answer = eval(f\"{num1} {operation} {num2}\")  # Calculate correct answer\n",
    "\n",
    "    # Ask the user for their answer\n",
    "    user_input = input(f\"Solve: {num1} {operation} {num2} (or type 'quit' to exit): \").strip()\n",
    "\n",
    "    # Allow the user to exit\n",
    "    if user_input.lower() == \"quit\":\n",
    "        break\n",
    "\n",
    "    # Check if the answer is correct\n",
    "    if user_input.isdigit() and int(user_input) == correct_answer:\n",
    "        print(\"Correct! 🎉\")\n",
    "        score += 1\n",
    "    else:\n",
    "        print(f\"Incorrect. The correct answer was {correct_answer}.\")\n",
    "print(\"\\n--- Math Practice Summary ---\")\n",
    "print(f\"Total correct answers: {score}\")\n",
    "print(\"Thanks for practicing! Keep improving. 😊\")\n"
   ]
  },
  {
   "cell_type": "markdown",
   "metadata": {},
   "source": [
    "**Key Concepts:**\n",
    "\n",
    "- Use eval() to calculate the correct answer dynamically.\n",
    "- Use input() to get the user’s answer.\n",
    "- Handle quitting gracefully by checking if the user enters \"quit\".\n",
    "- Use if statements to validate the user’s answer and update the score.\n",
    "- Use break to exit the loop gracefully.\n",
    "- Summarize the total correct answers at the end."
   ]
  },
  {
   "cell_type": "markdown",
   "metadata": {},
   "source": [
    "## Conclusion:\n",
    "In this lesson, we:\n",
    "\n",
    "- Generated Positive Problems: Created random math problems with numbers in the range 1–50 and ensured subtraction always produced positive answers.\n",
    "- Managed Scores: Reset the score on each run and updated it dynamically based on user input.\n",
    "- Handled Input and Exit: Enabled clean exits with \"quit\" and summarized the user’s progress.\n",
    "\n",
    "This practice reinforces looping, conditionals, and input handling while introducing problem constraints for practical scenarios."
   ]
  }
 ],
 "metadata": {
  "kernelspec": {
   "display_name": ".venv",
   "language": "python",
   "name": "python3"
  },
  "language_info": {
   "codemirror_mode": {
    "name": "ipython",
    "version": 3
   },
   "file_extension": ".py",
   "mimetype": "text/x-python",
   "name": "python",
   "nbconvert_exporter": "python",
   "pygments_lexer": "ipython3",
   "version": "3.12.7"
  }
 },
 "nbformat": 4,
 "nbformat_minor": 2
}
