{
 "cells": [
  {
   "cell_type": "markdown",
   "metadata": {},
   "source": [
    "# Basic HTTP Requests in Python"
   ]
  },
  {
   "cell_type": "markdown",
   "metadata": {},
   "source": [
    "**Objective:**   \n",
    "In this 3-step lesson, you’ll learn how to use the requests library to send HTTP requests, check responses, and understand basic HTTP headers. This foundational knowledge will prepare you to interact with websites programmatically."
   ]
  },
  {
   "cell_type": "markdown",
   "metadata": {},
   "source": [
    "**Step 1: Making a Basic HTTP Request**   \n",
    "**Goal:** Use the requests library to fetch a website's content and verify the request was successful."
   ]
  },
  {
   "cell_type": "code",
   "execution_count": 3,
   "metadata": {},
   "outputs": [
    {
     "name": "stdout",
     "output_type": "stream",
     "text": [
      "Status Code: 200\n",
      "Response Content Length: 153969 characters\n"
     ]
    }
   ],
   "source": [
    "import requests\n",
    "\n",
    "# Send a GET request to a popular website\n",
    "url = \"https://github.com\"\n",
    "response = requests.get(url)\n",
    "\n",
    "# Print the status code and a fun fact about the response\n",
    "print(f\"Status Code: {response.status_code}\")\n",
    "print(f\"Response Content Length: {len(response.text)} characters\")\n"
   ]
  },
  {
   "cell_type": "markdown",
   "metadata": {},
   "source": [
    "**What’s Happening Here?**\n",
    "\n",
    "- **len(response.text):** Measures the length of the response content. This is a quick and fun way to see how much data the server sent back.\n",
    "- **requests.get(url):** Sends a GET request to the specified URL to fetch its content."
   ]
  },
  {
   "cell_type": "markdown",
   "metadata": {},
   "source": [
    "**Step 2: Checking Response Headers**   \n",
    "**Goal:** Access HTTP response headers to learn about the server and content details."
   ]
  },
  {
   "cell_type": "code",
   "execution_count": 4,
   "metadata": {},
   "outputs": [
    {
     "name": "stdout",
     "output_type": "stream",
     "text": [
      "Response Headers:\n",
      "Server: GitHub.com\n",
      "Date: Thu, 21 Nov 2024 00:11:11 GMT\n",
      "Content-Type: text/html; charset=utf-8\n",
      "Vary: X-PJAX, X-PJAX-Container, Turbo-Visit, Turbo-Frame, Accept-Language, Accept-Encoding, Accept, X-Requested-With\n",
      "content-language: en-US\n",
      "ETag: W/\"fec3014b2da613076987c7bb2d3b11ed\"\n",
      "Cache-Control: max-age=0, private, must-revalidate\n",
      "Strict-Transport-Security: max-age=31536000; includeSubdomains; preload\n",
      "X-Frame-Options: deny\n",
      "X-Content-Type-Options: nosniff\n",
      "X-XSS-Protection: 0\n",
      "Referrer-Policy: origin-when-cross-origin, strict-origin-when-cross-origin\n",
      "Content-Security-Policy: default-src 'none'; base-uri 'self'; child-src github.com/assets-cdn/worker/ github.com/webpack/ github.com/assets/ gist.github.com/assets-cdn/worker/; connect-src 'self' uploads.github.com www.githubstatus.com collector.github.com raw.githubusercontent.com api.github.com github-cloud.s3.amazonaws.com github-production-repository-file-5c1aeb.s3.amazonaws.com github-production-upload-manifest-file-7fdce7.s3.amazonaws.com github-production-user-asset-6210df.s3.amazonaws.com *.rel.tunnels.api.visualstudio.com wss://*.rel.tunnels.api.visualstudio.com objects-origin.githubusercontent.com copilot-proxy.githubusercontent.com proxy.individual.githubcopilot.com proxy.business.githubcopilot.com proxy.enterprise.githubcopilot.com *.actions.githubusercontent.com wss://*.actions.githubusercontent.com productionresultssa0.blob.core.windows.net/ productionresultssa1.blob.core.windows.net/ productionresultssa2.blob.core.windows.net/ productionresultssa3.blob.core.windows.net/ productionresultssa4.blob.core.windows.net/ productionresultssa5.blob.core.windows.net/ productionresultssa6.blob.core.windows.net/ productionresultssa7.blob.core.windows.net/ productionresultssa8.blob.core.windows.net/ productionresultssa9.blob.core.windows.net/ productionresultssa10.blob.core.windows.net/ productionresultssa11.blob.core.windows.net/ productionresultssa12.blob.core.windows.net/ productionresultssa13.blob.core.windows.net/ productionresultssa14.blob.core.windows.net/ productionresultssa15.blob.core.windows.net/ productionresultssa16.blob.core.windows.net/ productionresultssa17.blob.core.windows.net/ productionresultssa18.blob.core.windows.net/ productionresultssa19.blob.core.windows.net/ github-production-repository-image-32fea6.s3.amazonaws.com github-production-release-asset-2e65be.s3.amazonaws.com insights.github.com wss://alive.github.com api.githubcopilot.com api.individual.githubcopilot.com api.business.githubcopilot.com api.enterprise.githubcopilot.com github.githubassets.com edge.fullstory.com rs.fullstory.com; font-src github.githubassets.com; form-action 'self' github.com gist.github.com copilot-workspace.githubnext.com objects-origin.githubusercontent.com; frame-ancestors 'none'; frame-src viewscreen.githubusercontent.com notebooks.githubusercontent.com www.youtube-nocookie.com; img-src 'self' data: blob: github.githubassets.com media.githubusercontent.com camo.githubusercontent.com identicons.github.com avatars.githubusercontent.com private-avatars.githubusercontent.com github-cloud.s3.amazonaws.com objects.githubusercontent.com secured-user-images.githubusercontent.com/ user-images.githubusercontent.com/ private-user-images.githubusercontent.com opengraph.githubassets.com github-production-user-asset-6210df.s3.amazonaws.com customer-stories-feed.github.com spotlights-feed.github.com objects-origin.githubusercontent.com *.githubusercontent.com; manifest-src 'self'; media-src github.com user-images.githubusercontent.com/ secured-user-images.githubusercontent.com/ private-user-images.githubusercontent.com github-production-user-asset-6210df.s3.amazonaws.com gist.github.com github.githubassets.com; script-src github.githubassets.com; style-src 'unsafe-inline' github.githubassets.com; upgrade-insecure-requests; worker-src github.com/assets-cdn/worker/ github.com/webpack/ github.com/assets/ gist.github.com/assets-cdn/worker/\n",
      "Content-Encoding: gzip\n",
      "Set-Cookie: _gh_sess=x%2BHy%2BCcmPBtnRoGBt2SjJ6eYY9SEf2WODN%2Fyw2sV7k6OgkKVoBiJ2ESjrxRs5NHw9%2FKDcBKZWYujYwSh7HGtfnSN3pTGQL5WqE%2BCEmH9McSvXxlSfC4A0JJgaI6%2BAr6aEi3aslWvM5i6D6kQ28fhZxTVzxqQ4w1C2IUEoue8za08tyhYXD3Tb98SxUVkJ40aROg7bx56vgzPJYkjYX26Nudl3FABQeOn0YCQGf0accBB0eU%2BYbYtGJPOgSQnpz%2BoUFICXObw%2B9TEjHVa0gPciw%3D%3D--5qyV7EaHe2Fjf3om--KkgqnWqd4aW2NqQpKdxqkw%3D%3D; Path=/; HttpOnly; Secure; SameSite=Lax, _octo=GH1.1.828184182.1732147874; Path=/; Domain=github.com; Expires=Fri, 21 Nov 2025 00:11:14 GMT; Secure; SameSite=Lax, logged_in=no; Path=/; Domain=github.com; Expires=Fri, 21 Nov 2025 00:11:14 GMT; HttpOnly; Secure; SameSite=Lax\n",
      "Accept-Ranges: bytes\n",
      "Transfer-Encoding: chunked\n",
      "X-GitHub-Request-Id: 18D6:AC0A5:73ACD3:96AAD2:673E7AA2\n"
     ]
    }
   ],
   "source": [
    "# View response headers\n",
    "headers = response.headers\n",
    "\n",
    "# Print the headers dictionary\n",
    "print(\"Response Headers:\")\n",
    "for key, value in headers.items():\n",
    "    print(f\"{key}: {value}\")\n"
   ]
  },
  {
   "cell_type": "markdown",
   "metadata": {},
   "source": [
    "**Explanation:**\n",
    "\n",
    "- **Headers:** HTTP headers provide metadata about the response, such as content type, server details, and caching rules.\n",
    "- **Example Headers:**   \n",
    "    - **Content-Type:** Describes the type of content (e.g., text/html, application/json).\n",
    "    - **Server:** Gives information about the web server.\n",
    "    - **Date:** The date and time the server sent the response."
   ]
  },
  {
   "cell_type": "markdown",
   "metadata": {},
   "source": [
    "**Step 3: Customizing Your Request with Headers**   \n",
    "**Goal:** Learn how to use custom headers in a request and why they matter.\n",
    "\n",
    "**What Are Headers and Why Use Them?**   \n",
    "    - **HTTP Headers:** Additional information sent along with a request to tell the server how to handle it.   \n",
    "    - **User-Agent Header:** This specifies what client (browser, application, or script) is making the request. Servers can use it to identify and respond differently to specific clients.   \n",
    "    - By setting a custom User-Agent, we can \"introduce\" our program to the server as a specific application. Some websites may restrict access to non-browser clients or tailor content based on the User-Agent."
   ]
  },
  {
   "cell_type": "code",
   "execution_count": 6,
   "metadata": {},
   "outputs": [
    {
     "name": "stdout",
     "output_type": "stream",
     "text": [
      "Status Code: 200\n",
      "\n",
      "Request Headers Sent:\n",
      "User-Agent: PythonRequestsTutorial/1.0\n",
      "Accept-Encoding: gzip, deflate\n",
      "Accept: */*\n",
      "Connection: keep-alive\n"
     ]
    }
   ],
   "source": [
    "import requests\n",
    "\n",
    "# Define custom headers\n",
    "custom_headers = {\n",
    "    \"User-Agent\": \"PythonRequestsTutorial/1.0\"  # Introduces your script to the server\n",
    "}\n",
    "\n",
    "# Send a GET request with custom headers\n",
    "url = \"https://github.com\"\n",
    "response = requests.get(url, headers=custom_headers)\n",
    "\n",
    "# Print the response status code\n",
    "print(f\"Status Code: {response.status_code}\")\n",
    "\n",
    "# Print the request headers that were sent\n",
    "print(\"\\nRequest Headers Sent:\")\n",
    "for key, value in response.request.headers.items():\n",
    "    print(f\"{key}: {value}\")\n"
   ]
  },
  {
   "cell_type": "markdown",
   "metadata": {},
   "source": [
    "**Explanation**   \n",
    "\n",
    "**Custom Headers:**\n",
    "\n",
    "- In the custom_headers dictionary, \"User-Agent\": \"PythonRequestsTutorial/1.0\" mimics an application or browser making the request.\n",
    "- Servers can identify our script as \"PythonRequestsTutorial/1.0\" instead of the generic python-requests.\n",
    "- response.request.headers: Shows the exact headers sent with the request. This confirms our custom User-Agent was included.\n",
    "- Mimicking a browser to avoid access restrictions.\n",
    "Identifying your application during server interactions."
   ]
  },
  {
   "cell_type": "markdown",
   "metadata": {},
   "source": [
    "## Conclusion\n",
    "This lesson demonstrated the basics of using the requests library to interact with websites:\n",
    "\n",
    "- **Basic Requests:** Learn to fetch website content and check response status codes.\n",
    "- **Response Headers:** Understand the metadata returned by servers.\n",
    "- **Custom Requests:** Send tailored requests with headers to simulate different client behaviors.\n",
    "\n",
    "**Why It Matters:**    \n",
    "These concepts form the foundation of web programming in Python. Understanding requests and headers is essential for web automation, scraping, and debugging. You’ve just unlocked the basics of HTTP requests with Python. Great work! 🚀"
   ]
  }
 ],
 "metadata": {
  "kernelspec": {
   "display_name": ".venv",
   "language": "python",
   "name": "python3"
  },
  "language_info": {
   "codemirror_mode": {
    "name": "ipython",
    "version": 3
   },
   "file_extension": ".py",
   "mimetype": "text/x-python",
   "name": "python",
   "nbconvert_exporter": "python",
   "pygments_lexer": "ipython3",
   "version": "3.12.7"
  }
 },
 "nbformat": 4,
 "nbformat_minor": 2
}
