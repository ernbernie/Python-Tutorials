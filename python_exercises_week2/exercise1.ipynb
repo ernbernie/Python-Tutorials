{
 "cells": [
  {
   "cell_type": "markdown",
   "metadata": {},
   "source": [
    "# Coding With Decorators - 5 Examples"
   ]
  },
  {
   "cell_type": "markdown",
   "metadata": {},
   "source": [
    "**What is a Decorator in Python?**\n",
    "\n",
    "A **decorator** in Python is a special type of function that can modify or extend the behavior of another function without permanently changing it. It's a way to wrap a function with additional functionality, such as logging, authentication, or error handling.\n",
    "\n",
    "Here are three simple definitions:\n",
    "\n",
    "- **Function wrapper:** A decorator is a function that takes another function as an argument and returns a new function that \"wraps\" the original function.   \n",
    "\n",
    "- **Behavior modifier:** A decorator is a way to modify the behavior of a function without changing its source code, allowing you to add new features or functionality without affecting the original function.   \n",
    "\n",
    "- **Code reusability:** A decorator is a reusable piece of code that can be applied to multiple functions, promoting code reusability and reducing duplication."
   ]
  },
  {
   "cell_type": "markdown",
   "metadata": {},
   "source": [
    "**Using a Decorator for Logging**"
   ]
  },
  {
   "cell_type": "code",
   "execution_count": 1,
   "metadata": {},
   "outputs": [],
   "source": [
    "#logging decorator\n",
    "def log_activity(func):\n",
    "    def wrapper(*args, **kwargs):\n",
    "        print(f\"Function '{func.__name__}' called with arguments: {args}, {kwargs}\")\n",
    "        result = func(*args, **kwargs)\n",
    "        print(f\"Function '{func.__name__}' returned: {result}\")\n",
    "        return result\n",
    "    return wrapper"
   ]
  },
  {
   "cell_type": "markdown",
   "metadata": {},
   "source": [
    "**Apply It To A Function**"
   ]
  },
  {
   "cell_type": "code",
   "execution_count": 2,
   "metadata": {},
   "outputs": [
    {
     "name": "stdout",
     "output_type": "stream",
     "text": [
      "Function 'add_numbers' called with arguments: (3, 5), {}\n",
      "Function 'add_numbers' returned: 8\n"
     ]
    },
    {
     "data": {
      "text/plain": [
       "8"
      ]
     },
     "execution_count": 2,
     "metadata": {},
     "output_type": "execute_result"
    }
   ],
   "source": [
    "@log_activity\n",
    "def add_numbers(a, b):\n",
    "    return a + b\n",
    "\n",
    "# Example usage\n",
    "add_numbers(3, 5)"
   ]
  },
  {
   "cell_type": "markdown",
   "metadata": {},
   "source": [
    "**5 Useful Decorators You Should Know**"
   ]
  },
  {
   "cell_type": "markdown",
   "metadata": {},
   "source": [
    "    1. Caching Results\n",
    "**Explanation:** This decorator caches the output of a function for a specific set of inputs, avoiding redundant computations and improving performance."
   ]
  },
  {
   "cell_type": "code",
   "execution_count": 4,
   "metadata": {},
   "outputs": [
    {
     "name": "stdout",
     "output_type": "stream",
     "text": [
      "Calculating for 10...\n",
      "100\n",
      "100\n"
     ]
    }
   ],
   "source": [
    "from functools import lru_cache\n",
    "\n",
    "# A caching decorator using functools.lru_cache\n",
    "def cache_results(func):\n",
    "    \"\"\"\n",
    "    A decorator to cache the results of a function for given inputs\n",
    "    to optimize performance on repeated calls with the same arguments.\n",
    "    \"\"\"\n",
    "    cached_func = lru_cache(maxsize=None)(func)\n",
    "    return cached_func\n",
    "\n",
    "# Example usage\n",
    "@cache_results\n",
    "def expensive_calculation(x):\n",
    "    print(f\"Calculating for {x}...\")\n",
    "    return x ** 2\n",
    "\n",
    "# Testing the decorator\n",
    "print(expensive_calculation(10))  # Calculates and caches the result\n",
    "print(expensive_calculation(10))  # Fetches the result from cache"
   ]
  },
  {
   "cell_type": "markdown",
   "metadata": {},
   "source": [
    "    2. Expand Logging: Timing and Error Tracking\n",
    "**Explanation:** This decorator logs execution time and tracks any errors during the function call."
   ]
  },
  {
   "cell_type": "code",
   "execution_count": 3,
   "metadata": {},
   "outputs": [
    {
     "name": "stderr",
     "output_type": "stream",
     "text": [
      "INFO:root:Function 'risky_operation' executed in 0.0000 seconds.\n",
      "ERROR:root:Function 'risky_operation' failed with error: Division by zero is not allowed.\n"
     ]
    },
    {
     "name": "stdout",
     "output_type": "stream",
     "text": [
      "2.0\n"
     ]
    }
   ],
   "source": [
    "import time\n",
    "import logging\n",
    "\n",
    "# Set up logging\n",
    "logging.basicConfig(level=logging.INFO)\n",
    "\n",
    "def log_timing_and_errors(func):\n",
    "    \"\"\"\n",
    "    A decorator to log the execution time of a function\n",
    "    and report any errors that occur during its execution.\n",
    "    \"\"\"\n",
    "    def wrapper(*args, **kwargs):\n",
    "        start_time = time.time()\n",
    "        try:\n",
    "            result = func(*args, **kwargs)\n",
    "            elapsed_time = time.time() - start_time\n",
    "            logging.info(f\"Function '{func.__name__}' executed in {elapsed_time:.4f} seconds.\")\n",
    "            return result\n",
    "        except Exception as e:\n",
    "            logging.error(f\"Function '{func.__name__}' failed with error: {e}\")\n",
    "            raise\n",
    "    return wrapper\n",
    "\n",
    "# Example usage\n",
    "@log_timing_and_errors\n",
    "def risky_operation(x):\n",
    "    if x == 0:\n",
    "        raise ValueError(\"Division by zero is not allowed.\")\n",
    "    return 10 / x\n",
    "\n",
    "# Testing the decorator\n",
    "try:\n",
    "    print(risky_operation(5))\n",
    "    print(risky_operation(0))\n",
    "except ValueError:\n",
    "    pass"
   ]
  },
  {
   "cell_type": "markdown",
   "metadata": {},
   "source": [
    "    3. Retry Mechanism\n",
    "**Explanation:** This decorator retries a function multiple times if it encounters a specific error, making it useful for flaky operations like API calls."
   ]
  },
  {
   "cell_type": "code",
   "execution_count": 5,
   "metadata": {},
   "outputs": [
    {
     "name": "stdout",
     "output_type": "stream",
     "text": [
      "Success!\n"
     ]
    }
   ],
   "source": [
    "import time\n",
    "\n",
    "def retry_on_failure(times=3, delay=1, exceptions=(Exception,)):\n",
    "    \"\"\"\n",
    "    A decorator to retry a function multiple times if it raises an exception.\n",
    "    \n",
    "    Parameters:\n",
    "        times (int): Number of retries before giving up.\n",
    "        delay (int): Delay in seconds between retries.\n",
    "        exceptions (tuple): Exceptions to catch and retry on.\n",
    "    \"\"\"\n",
    "    def decorator(func):\n",
    "        def wrapper(*args, **kwargs):\n",
    "            for attempt in range(1, times + 1):\n",
    "                try:\n",
    "                    return func(*args, **kwargs)\n",
    "                except exceptions as e:\n",
    "                    if attempt < times:\n",
    "                        print(f\"Attempt {attempt} failed: {e}. Retrying in {delay} seconds...\")\n",
    "                        time.sleep(delay)\n",
    "                    else:\n",
    "                        print(f\"All {times} attempts failed.\")\n",
    "                        raise\n",
    "        return wrapper\n",
    "    return decorator\n",
    "\n",
    "# Example usage\n",
    "@retry_on_failure(times=3, delay=2, exceptions=(ValueError,))\n",
    "def flaky_function():\n",
    "    import random\n",
    "    if random.random() < 0.7:\n",
    "        raise ValueError(\"Random failure occurred.\")\n",
    "    return \"Success!\"\n",
    "\n",
    "# Testing the decorator\n",
    "print(flaky_function())"
   ]
  },
  {
   "cell_type": "markdown",
   "metadata": {},
   "source": [
    "    4. Access Control\n",
    "**Explanation:** This decorator restricts access to a function based on user roles, ensuring only authorized users can execute certain actions."
   ]
  },
  {
   "cell_type": "code",
   "execution_count": 6,
   "metadata": {},
   "outputs": [
    {
     "name": "stdout",
     "output_type": "stream",
     "text": [
      "Access Denied: This action requires admin privileges.\n",
      "None\n",
      "Sensitive Data: Top Secret!\n"
     ]
    }
   ],
   "source": [
    "def access_control(required_role):\n",
    "    \"\"\"\n",
    "    A decorator to restrict function access based on user roles.\n",
    "    \n",
    "    Parameters:\n",
    "        required_role (str): The role required to access the function.\n",
    "    \"\"\"\n",
    "    def decorator(func):\n",
    "        def wrapper(user_role, *args, **kwargs):\n",
    "            if user_role != required_role:\n",
    "                print(f\"Access Denied: This action requires {required_role} privileges.\")\n",
    "                return None\n",
    "            return func(user_role, *args, **kwargs)\n",
    "        return wrapper\n",
    "    return decorator\n",
    "\n",
    "# Example usage\n",
    "@access_control(\"admin\")\n",
    "def view_sensitive_data(user_role):\n",
    "    return \"Sensitive Data: Top Secret!\"\n",
    "\n",
    "# Testing the decorator\n",
    "print(view_sensitive_data(\"guest\"))  # Should deny access\n",
    "print(view_sensitive_data(\"admin\"))  # Should grant access"
   ]
  },
  {
   "cell_type": "markdown",
   "metadata": {},
   "source": [
    "    5. Debugging Helper\n",
    "**Explanation:** This decorator logs the function name, arguments, return value, and any errors for easier debugging."
   ]
  },
  {
   "cell_type": "code",
   "execution_count": 7,
   "metadata": {},
   "outputs": [
    {
     "name": "stdout",
     "output_type": "stream",
     "text": [
      "Calling function 'buggy_function' with arguments: (10, 2) {}\n",
      "Function 'buggy_function' returned: 5.0\n",
      "5.0\n",
      "Calling function 'buggy_function' with arguments: (10, 0) {}\n",
      "Function 'buggy_function' raised an error: division by zero\n",
      "Stack trace:\n"
     ]
    },
    {
     "name": "stderr",
     "output_type": "stream",
     "text": [
      "Traceback (most recent call last):\n",
      "  File \"C:\\Users\\ernbe\\AppData\\Local\\Temp\\ipykernel_174092\\3133005325.py\", line 14, in wrapper\n",
      "    result = func(*args, **kwargs)\n",
      "             ^^^^^^^^^^^^^^^^^^^^^\n",
      "  File \"C:\\Users\\ernbe\\AppData\\Local\\Temp\\ipykernel_174092\\3133005325.py\", line 27, in buggy_function\n",
      "    return a / b\n",
      "           ~~^~~\n",
      "ZeroDivisionError: division by zero\n"
     ]
    }
   ],
   "source": [
    "import traceback\n",
    "\n",
    "def debug_info(func):\n",
    "    \"\"\"\n",
    "    A decorator to log detailed debug information, including:\n",
    "    - Function name\n",
    "    - Arguments\n",
    "    - Return value\n",
    "    - Stack trace in case of errors\n",
    "    \"\"\"\n",
    "    def wrapper(*args, **kwargs):\n",
    "        print(f\"Calling function '{func.__name__}' with arguments: {args} {kwargs}\")\n",
    "        try:\n",
    "            result = func(*args, **kwargs)\n",
    "            print(f\"Function '{func.__name__}' returned: {result}\")\n",
    "            return result\n",
    "        except Exception as e:\n",
    "            print(f\"Function '{func.__name__}' raised an error: {e}\")\n",
    "            print(\"Stack trace:\")\n",
    "            traceback.print_exc()\n",
    "            raise\n",
    "    return wrapper\n",
    "\n",
    "# Example usage\n",
    "@debug_info\n",
    "def buggy_function(a, b):\n",
    "    return a / b\n",
    "\n",
    "# Testing the decorator\n",
    "try:\n",
    "    print(buggy_function(10, 2))  # Should work fine\n",
    "    print(buggy_function(10, 0))  # Should raise an error\n",
    "except ZeroDivisionError:\n",
    "    pass"
   ]
  }
 ],
 "metadata": {
  "kernelspec": {
   "display_name": ".venv",
   "language": "python",
   "name": "python3"
  },
  "language_info": {
   "codemirror_mode": {
    "name": "ipython",
    "version": 3
   },
   "file_extension": ".py",
   "mimetype": "text/x-python",
   "name": "python",
   "nbconvert_exporter": "python",
   "pygments_lexer": "ipython3",
   "version": "3.12.7"
  }
 },
 "nbformat": 4,
 "nbformat_minor": 2
}
