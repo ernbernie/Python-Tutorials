{
 "cells": [
  {
   "cell_type": "markdown",
   "metadata": {},
   "source": [
    "# Mad Libs Builder: Creating Fun Sentences Dynamically"
   ]
  },
  {
   "cell_type": "markdown",
   "metadata": {},
   "source": [
    "Mad Libs is a game that generates wacky and unpredictable sentences by filling in blanks with random words. In this lesson, you’ll learn how to use lists and randomization in Python to create your own Mad Libs program."
   ]
  },
  {
   "cell_type": "markdown",
   "metadata": {},
   "source": [
    "**Step 1: Setting Up Word Lists**   \n",
    "**Objective:** Create categorized lists of words for the game (e.g., nouns, verbs, adjectives, adverbs).\n"
   ]
  },
  {
   "cell_type": "code",
   "execution_count": null,
   "metadata": {},
   "outputs": [
    {
     "name": "stdout",
     "output_type": "stream",
     "text": [
      "Available Words:\n",
      "Nouns: ['cat', 'dog', 'unicorn', 'robot', 'ogre', 'hamster', 'blind fisherman']\n",
      "Verbs: ['jumps', 'runs', 'cheers', 'destroys', 'burps', 'flies', 'dances']\n",
      "Adjectives: ['happy', 'disturbed', 'scared', 'nervous', 'angry', 'sparkly', 'funny']\n",
      "Adverbs: ['quickly', 'slowly', 'seducingly', 'mysteriously', 'gracefully', 'awkwardly']\n"
     ]
    }
   ],
   "source": [
    "import random\n",
    "\n",
    "# Word lists\n",
    "nouns = [\"dog\", \"cat\", \"robot\", \"unicorn\", \"wizard\"]\n",
    "verbs = [\"jumped\", \"danced\", \"flew\", \"juggled\", \"sang\"]\n",
    "adjectives = [\"funny\", \"sparkly\", \"angry\", \"happy\", \"mysterious\"]\n",
    "adverbs = [\"gracefully\", \"awkwardly\", \"quickly\", \"loudly\", \"silently\"]\n",
    "\n",
    "# Display available words\n",
    "print(\"Available Words:\")\n",
    "print(\"Nouns:\", nouns)\n",
    "print(\"Verbs:\", verbs)\n",
    "print(\"Adjectives:\", adjectives)\n",
    "print(\"Adverbs:\", adverbs)\n"
   ]
  },
  {
   "cell_type": "markdown",
   "metadata": {},
   "source": [
    "**Explanation:**\n",
    "\n",
    "- Create separate lists for different types of words.\n",
    "- Use fun and wacky examples to make the game engaging.\n",
    "- This step sets the foundation for generating sentences dynamically.\n"
   ]
  },
  {
   "cell_type": "markdown",
   "metadata": {},
   "source": [
    "**Step 2: Creating the Mad Libs Template**   \n",
    "**Objective:** Write a sentence template with placeholders for nouns, verbs, adjectives, and adverbs, then dynamically fill it."
   ]
  },
  {
   "cell_type": "code",
   "execution_count": null,
   "metadata": {},
   "outputs": [],
   "source": [
    "# Mad Libs templates\n",
    "templates = [\n",
    "    \"The {adjective} {noun} {verb} {adverb} while wearing a {adjective} hat.\",\n",
    "    \"A {adjective} {noun} decided to {verb} {adverb} in the middle of the {noun}.\",\n",
    "    \"Did you see the {adjective} {noun} that {verb} {adverb} while juggling {adjective} {noun}s?\"\n",
    "]\n",
    "\n",
    "# Randomly select a template\n",
    "selected_template = random.choice(templates)\n",
    "\n",
    "# Generate random words from each list\n",
    "random_noun1 = random.choice(nouns)\n",
    "random_noun2 = random.choice(nouns)\n",
    "random_verb = random.choice(verbs)\n",
    "random_adjective1 = random.choice(adjectives)\n",
    "random_adjective2 = random.choice(adjectives)\n",
    "random_adverb = random.choice(adverbs)\n",
    "\n",
    "# Fill the template with random words\n",
    "mad_libs_sentence = selected_template.format(\n",
    "    adjective=random_adjective1,\n",
    "    noun=random_noun1,\n",
    "    verb=random_verb,\n",
    "    adverb=random_adverb,\n",
    "    adjective2=random_adjective2,\n",
    "    noun2=random_noun2\n",
    ")\n",
    "\n",
    "# Print the resulting sentence\n",
    "print(\"\\nGenerated Mad Libs Sentence:\")\n",
    "print(mad_libs_sentence)\n"
   ]
  },
  {
   "cell_type": "markdown",
   "metadata": {},
   "source": [
    "**Explanation:**\n",
    "\n",
    "- **Templates:** Introduced three unique, funny templates with placeholders for nouns, verbs, adjectives, and adverbs.\n",
    "- **Dynamic Word Choices:** Each run randomly selects a template and fills it with random words from the lists, ensuring no two runs are the same."
   ]
  },
  {
   "cell_type": "markdown",
   "metadata": {},
   "source": [
    "**Step 3: Expanding the Game**   \n",
    "**Objective:** Generate a single Mad Libs sentence each time the program runs for simplicity and clarity.\n",
    "\n"
   ]
  },
  {
   "cell_type": "code",
   "execution_count": 3,
   "metadata": {},
   "outputs": [
    {
     "name": "stdout",
     "output_type": "stream",
     "text": [
      "\n",
      "Your Mad Libs Sentence:\n",
      "The angry unicorn juggled gracefully while wearing a angry hat.\n"
     ]
    }
   ],
   "source": [
    "import random\n",
    "\n",
    "# Mad Libs templates\n",
    "templates = [\n",
    "    \"The {adjective} {noun} {verb} {adverb} while wearing a {adjective} hat.\",\n",
    "    \"A {adjective} {noun} decided to {verb} {adverb} in the middle of the {noun}.\",\n",
    "    \"Did you see the {adjective} {noun} that {verb} {adverb} while juggling {adjective} {noun}s?\"\n",
    "]\n",
    "\n",
    "# Word lists\n",
    "nouns = [\"dog\", \"cat\", \"robot\", \"unicorn\", \"wizard\"]\n",
    "verbs = [\"jumped\", \"danced\", \"flew\", \"juggled\", \"sang\"]\n",
    "adjectives = [\"funny\", \"sparkly\", \"angry\", \"happy\", \"mysterious\"]\n",
    "adverbs = [\"gracefully\", \"awkwardly\", \"quickly\", \"loudly\", \"silently\"]\n",
    "\n",
    "# Randomly select a template\n",
    "selected_template = random.choice(templates)\n",
    "\n",
    "# Generate random words for placeholders\n",
    "random_noun1 = random.choice(nouns)\n",
    "random_noun2 = random.choice(nouns)\n",
    "random_verb = random.choice(verbs)\n",
    "random_adjective1 = random.choice(adjectives)\n",
    "random_adjective2 = random.choice(adjectives)\n",
    "random_adverb = random.choice(adverbs)\n",
    "\n",
    "# Fill the template with random words\n",
    "mad_libs_sentence = selected_template.format(\n",
    "    adjective=random_adjective1,\n",
    "    noun=random_noun1,\n",
    "    verb=random_verb,\n",
    "    adverb=random_adverb,\n",
    "    adjective2=random_adjective2,\n",
    "    noun2=random_noun2\n",
    ")\n",
    "\n",
    "# Print the generated sentence\n",
    "print(\"\\nYour Mad Libs Sentence:\")\n",
    "print(mad_libs_sentence)\n"
   ]
  },
  {
   "cell_type": "markdown",
   "metadata": {},
   "source": [
    "## Conclusion   \n",
    "In this lesson, you:\n",
    "\n",
    "- Created categorized lists of words for nouns, verbs, adjectives, and adverbs.\n",
    "- Built a dynamic sentence template and populated it with random words.\n",
    "- Expanded the game by adding interactivity and generating multiple sentences.\n",
    "- By combining lists and randomization, you’ve built a simple yet highly entertaining program! Expand on this idea by adding more categories (e.g., prepositions, names) or allowing users to input their own words."
   ]
  }
 ],
 "metadata": {
  "kernelspec": {
   "display_name": ".venv",
   "language": "python",
   "name": "python3"
  },
  "language_info": {
   "codemirror_mode": {
    "name": "ipython",
    "version": 3
   },
   "file_extension": ".py",
   "mimetype": "text/x-python",
   "name": "python",
   "nbconvert_exporter": "python",
   "pygments_lexer": "ipython3",
   "version": "3.12.7"
  }
 },
 "nbformat": 4,
 "nbformat_minor": 2
}
