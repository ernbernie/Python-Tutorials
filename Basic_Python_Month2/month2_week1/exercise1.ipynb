{
 "cells": [
  {
   "cell_type": "markdown",
   "metadata": {},
   "source": [
    "# Five-Minute Python Tutorial: Validating a \"Ten-Minute Walk\"\n",
    "\n",
    "**Goal:** In this short tutorial, we'll explore how to determine if a given sequence of directions returns you to your starting point in exactly ten minutes.\n",
    "\n",
    "**Scenario:**\n",
    "Imagine you are in a city laid out in a perfect grid. You decide to use a new walking app that gives you a set of directions, each representing a one-minute walk in a certain direction:  \n",
    "- **'n'**: north  \n",
    "- **'s'**: south  \n",
    "- **'e'**: east  \n",
    "- **'w'**: west\n",
    "\n",
    "Your walk should last exactly ten minutes and end where you started. If it does, we’ll consider it a \"valid\" walk.\n",
    "\n",
    "**Key Python Concepts Covered:**\n",
    "- Using `len()` to check the length of a list.\n",
    "- Counting occurrences of items in a list with `.count()`.\n",
    "- Using boolean logic (`and`) to combine conditions.\n",
    "- Returning `True` or `False` based on conditions.\n"
   ]
  },
  {
   "cell_type": "markdown",
   "metadata": {},
   "source": [
    "## Step-by-Step Overview\n",
    "\n",
    "1. **Check Duration:** Confirm the list of directions is exactly 10 steps long.\n",
    "2. **Count Directions:** Count how many times we move north vs. south, and east vs. west.\n",
    "3. **Validate Position:** Ensure that the number of 'n' steps equals the number of 's' steps, and the number of 'e' steps equals the number of 'w' steps. This ensures we end where we started.\n",
    "4. **Return Result:** If both the duration and position checks pass, return `True`; otherwise, return `False`.\n",
    "\n",
    "This approach simulates a scenario common in puzzles and coding challenges, reinforcing basic Python operations you can reuse in more complex programs.\n"
   ]
  },
  {
   "cell_type": "code",
   "execution_count": 1,
   "metadata": {},
   "outputs": [],
   "source": [
    "def is_valid_walk(walk):\n",
    "    # Check if the walk takes exactly 10 minutes (10 steps)\n",
    "    if len(walk) != 10:\n",
    "        return False\n",
    "    \n",
    "    # Count occurrences\n",
    "    north_count = walk.count('n')\n",
    "    south_count = walk.count('s')\n",
    "    east_count = walk.count('e')\n",
    "    west_count = walk.count('w')\n",
    "    \n",
    "    # Check if north balances south and east balances west\n",
    "    return (north_count == south_count) and (east_count == west_count)\n"
   ]
  },
  {
   "cell_type": "markdown",
   "metadata": {},
   "source": [
    "## Testing Our Function\n",
    "\n",
    "Let's test our function with some example walks:\n",
    "\n",
    "- **Valid Walk Example:** `['n','s','n','s','n','s','n','s','n','s']`  \n",
    "  This should return to the start and is exactly 10 steps, so it should return `True`.\n",
    "\n",
    "- **Invalid Walk Example (Not 10 steps):** `['n','e','s','w']`  \n",
    "  This is only 4 steps, so it should return `False`.\n",
    "\n",
    "- **Invalid Walk Example (Doesn't return to start):** `['n','n','n','n','n','e','e','e','e','e']`  \n",
    "  Even though this is 10 steps, it clearly drifts off in one direction, so it should return `False`.\n"
   ]
  },
  {
   "cell_type": "code",
   "execution_count": 2,
   "metadata": {},
   "outputs": [
    {
     "name": "stdout",
     "output_type": "stream",
     "text": [
      "True\n",
      "False\n",
      "False\n"
     ]
    }
   ],
   "source": [
    "# Valid walk test\n",
    "print(is_valid_walk(['n','s','n','s','n','s','n','s','n','s']))  # Expect True\n",
    "\n",
    "# Too short test\n",
    "print(is_valid_walk(['n','e','s','w']))  # Expect False\n",
    "\n",
    "# Not returning to start\n",
    "print(is_valid_walk(['n','n','n','n','n','e','e','e','e','e']))  # Expect False\n"
   ]
  },
  {
   "cell_type": "markdown",
   "metadata": {},
   "source": [
    "## Going a Step Further\n",
    "\n",
    "What if we wanted to analyze much larger walks or apply similar logic to other constraints? This problem introduces a pattern:\n",
    "\n",
    "- **Counting elements:** We're frequently checking how many times something appears. For bigger data sets, consider using `collections.Counter` to handle counts more efficiently.\n",
    "- **Generalizing conditions:** Right now, we hard-coded conditions for a 10-minute walk. In more advanced scenarios, we could write a function that takes the desired length and balanced directions as parameters.\n",
    "- **Error handling and input validation:** In real-world applications, input might not be guaranteed to be only 'n', 's', 'e', 'w'. Future improvements might include checking for unexpected directions and returning an error or ignoring them.\n",
    "\n",
    "### Other Python Tools to Explore:\n",
    "- **List Comprehensions:** For transforming lists in a single line.\n",
    "- **Generators and Iterators:** For handling large sequences without loading them all into memory.\n",
    "- **Testing Frameworks (like `pytest`):** For writing automated tests that validate your code more thoroughly.\n",
    "\n"
   ]
  },
  {
   "cell_type": "markdown",
   "metadata": {},
   "source": [
    "# Conclusion\n",
    "\n",
    "In just a few steps, we've:\n",
    "- Learned how to check the length of a list.\n",
    "- Counted occurrences of elements with `list.count()`.\n",
    "- Applied logical conditions to return a boolean result.\n",
    "- Tested our function with various examples.\n",
    "\n",
    "This problem may seem simple, but it's a core pattern: analyzing sequences, applying conditions, and returning results. Mastering these fundamentals sets the stage for more complex data processing, algorithm design, and clean, maintainable code.\n",
    "\n",
    "**Next Steps:**  \n",
    "Experiment with different inputs, or try adding new constraints. Challenge yourself: what if the walk can include diagonal moves, or must end in exactly 15 minutes? Evolving the problem helps you continue growing as a Python programmer.\n"
   ]
  }
 ],
 "metadata": {
  "kernelspec": {
   "display_name": ".venv",
   "language": "python",
   "name": "python3"
  },
  "language_info": {
   "codemirror_mode": {
    "name": "ipython",
    "version": 3
   },
   "file_extension": ".py",
   "mimetype": "text/x-python",
   "name": "python",
   "nbconvert_exporter": "python",
   "pygments_lexer": "ipython3",
   "version": "3.12.8"
  }
 },
 "nbformat": 4,
 "nbformat_minor": 2
}
