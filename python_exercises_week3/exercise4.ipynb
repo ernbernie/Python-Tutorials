{
 "cells": [
  {
   "cell_type": "markdown",
   "metadata": {},
   "source": [
    "# Password Strength Checker"
   ]
  },
  {
   "cell_type": "markdown",
   "metadata": {},
   "source": [
    "**Objective:**   \n",
    "Learn to evaluate the strength of a password using Python’s input handling, if-else statements, and string methods. By the end of this lesson, you’ll understand how to apply conditional logic to validate user inputs and enforce criteria."
   ]
  },
  {
   "cell_type": "markdown",
   "metadata": {},
   "source": [
    "**Step 1: Setting Up the Input and Initial Validation**   \n",
    "**Goal:** Prompt the user for a password and perform basic checks like length."
   ]
  },
  {
   "cell_type": "code",
   "execution_count": 2,
   "metadata": {},
   "outputs": [
    {
     "name": "stdout",
     "output_type": "stream",
     "text": [
      "Password length is sufficient.\n",
      "chickenbutt\n"
     ]
    }
   ],
   "source": [
    "# Prompt the user to enter a password\n",
    "password = input(\"Enter a password to check its strength: \").strip()\n",
    "\n",
    "# Check if the password meets the minimum length requirement\n",
    "if len(password) < 8:\n",
    "    print(\"Password is too short. It must be at least 8 characters.\")\n",
    "else:\n",
    "    print(\"Password length is sufficient.\")\n",
    "    print(password)"
   ]
  },
  {
   "cell_type": "markdown",
   "metadata": {},
   "source": [
    "**Key Concepts:**\n",
    "\n",
    "**Input Handling:** Use input() to capture user input and .strip() to remove unnecessary whitespace.\n",
    "Length Check: Use len() to measure the string length and evaluate it with a simple if-else condition."
   ]
  },
  {
   "cell_type": "markdown",
   "metadata": {},
   "source": [
    "**Step 2: Adding Criteria for Uppercase and Special Characters**   \n",
    "**Goal:** Expand checks to include uppercase letters and special characters."
   ]
  },
  {
   "cell_type": "code",
   "execution_count": 3,
   "metadata": {},
   "outputs": [
    {
     "name": "stdout",
     "output_type": "stream",
     "text": [
      "Password does not contain any uppercase letters.\n",
      "Password does not contain any special characters.\n"
     ]
    }
   ],
   "source": [
    "# Check for at least one uppercase letter\n",
    "if any(char.isupper() for char in password):\n",
    "    has_upper = True\n",
    "else:\n",
    "    has_upper = False\n",
    "\n",
    "# Check for at least one special character\n",
    "special_characters = \"!@#$%^&*()-_=+[]{};:'\\\",.<>?/\\\\|\"\n",
    "if any(char in special_characters for char in password):\n",
    "    has_special = True\n",
    "else:\n",
    "    has_special = False\n",
    "\n",
    "# Provide feedback\n",
    "if has_upper:\n",
    "    print(\"Password contains at least one uppercase letter.\")\n",
    "else:\n",
    "    print(\"Password does not contain any uppercase letters.\")\n",
    "\n",
    "if has_special:\n",
    "    print(\"Password contains at least one special character.\")\n",
    "else:\n",
    "    print(\"Password does not contain any special characters.\")\n"
   ]
  },
  {
   "cell_type": "markdown",
   "metadata": {},
   "source": [
    "**Key Concepts:**\n",
    "\n",
    "**String Methods:** Use .isupper() to detect uppercase characters and check for membership using in.\n",
    "Feedback: Use if-else conditions to provide specific guidance on missing criteria.\n"
   ]
  },
  {
   "cell_type": "markdown",
   "metadata": {},
   "source": [
    "**Step 3: Evaluating and Displaying Overall Strength**   \n",
    "**Goal:** Combine criteria to classify the password as weak, medium, or strong."
   ]
  },
  {
   "cell_type": "code",
   "execution_count": 4,
   "metadata": {},
   "outputs": [
    {
     "name": "stdout",
     "output_type": "stream",
     "text": [
      "Password strength: Weak 😟\n"
     ]
    }
   ],
   "source": [
    "# Determine overall strength\n",
    "if len(password) >= 8 and has_upper and has_special:\n",
    "    print(\"Password strength: Strong 💪\")\n",
    "elif len(password) >= 8 and (has_upper or has_special):\n",
    "    print(\"Password strength: Medium 🤔\")\n",
    "else:\n",
    "    print(\"Password strength: Weak 😟\")\n"
   ]
  },
  {
   "cell_type": "markdown",
   "metadata": {},
   "source": [
    "**Key Concepts:**\n",
    "\n",
    "- **Nested Conditions:** Combine multiple conditions using and and or to classify password strength.\n",
    "- **User Feedback:** Provide clear output indicating the password’s strength and areas for improvement."
   ]
  },
  {
   "cell_type": "markdown",
   "metadata": {},
   "source": [
    "## Conclusion:\n",
    "This lesson covers:\n",
    "\n",
    "- **Input Handling:** Collect and clean user input using input() and .strip().\n",
    "- **Conditional Logic:** Evaluate multiple criteria with if-else and nested conditions.\n",
    "- **String Methods:** Use .isupper() and membership checks to validate character types."
   ]
  }
 ],
 "metadata": {
  "kernelspec": {
   "display_name": ".venv",
   "language": "python",
   "name": "python3"
  },
  "language_info": {
   "codemirror_mode": {
    "name": "ipython",
    "version": 3
   },
   "file_extension": ".py",
   "mimetype": "text/x-python",
   "name": "python",
   "nbconvert_exporter": "python",
   "pygments_lexer": "ipython3",
   "version": "3.12.7"
  }
 },
 "nbformat": 4,
 "nbformat_minor": 2
}
