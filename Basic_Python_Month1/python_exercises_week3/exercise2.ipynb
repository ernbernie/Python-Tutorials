{
 "cells": [
  {
   "cell_type": "markdown",
   "metadata": {},
   "source": [
    "# Fantasy Adventure Personality Quiz"
   ]
  },
  {
   "cell_type": "markdown",
   "metadata": {},
   "source": [
    "**Objective:**   \n",
    "Learn how to use Python’s input() and basic conditional logic to create an engaging fantasy personality quiz. By the end of this lesson, users will know how to assign roles based on user input and dynamically generate outcomes."
   ]
  },
  {
   "cell_type": "markdown",
   "metadata": {},
   "source": [
    "**Step 1: Setting the Scene**   \n",
    "**Goal:** Introduce the concept of the quiz and define roles. Begin by creating a dictionary to store the scores for each role."
   ]
  },
  {
   "cell_type": "code",
   "execution_count": 4,
   "metadata": {},
   "outputs": [
    {
     "name": "stdout",
     "output_type": "stream",
     "text": [
      "Welcome to the Fantasy Adventure Quiz!\n",
      "Answer the following questions by typing the number that corresponds to your choice.\n",
      "\n"
     ]
    }
   ],
   "source": [
    "# Define roles and initialize scores\n",
    "roles = {\"Warrior\": 0, \"Mage\": 0, \"Healer\": 0, \"Rogue\": 0}\n",
    "answers = []  # To track user choices\n",
    "\n",
    "# Introduction\n",
    "print(\"Welcome to the Fantasy Adventure Quiz!\")\n",
    "print(\"Answer the following questions by typing the number that corresponds to your choice.\\n\")"
   ]
  },
  {
   "cell_type": "markdown",
   "metadata": {},
   "source": [
    "**Explanation:**\n",
    "\n",
    "- A dictionary (roles) tracks the points for each role.\n",
    "- Use print() to engage the user with a theme and instructions.\n"
   ]
  },
  {
   "cell_type": "markdown",
   "metadata": {},
   "source": [
    "**Step 2: Ask Questions and Score the Answers**   \n",
    "**Goal:** Ask questions to the user, evaluate their choices, and update the scores accordingly."
   ]
  },
  {
   "cell_type": "code",
   "execution_count": null,
   "metadata": {},
   "outputs": [],
   "source": [
    "# Question and answer options\n",
    "questions = [\n",
    "    {\n",
    "        \"question\": \"How do you prefer to fight?\",\n",
    "        \"options\": [\"1. Close Combat\", \"2. Long-Range Magic\", \"3. Stealth\", \"4. Defensive Tactics\"],\n",
    "        \"role_mapping\": [\"Warrior\", \"Mage\", \"Rogue\", \"Healer\"]\n",
    "    },\n",
    "    {\n",
    "        \"question\": \"What’s your greatest strength in a team?\",\n",
    "        \"options\": [\"1. Strength\", \"2. Intelligence\", \"3. Agility\", \"4. Compassion\"],\n",
    "        \"role_mapping\": [\"Warrior\", \"Mage\", \"Rogue\", \"Healer\"]\n",
    "    },\n",
    "    {\n",
    "        \"question\": \"Which magical power appeals most to you?\",\n",
    "        \"options\": [\"1. Fire\", \"2. Ice\", \"3. Shadow\", \"4. Healing\"],\n",
    "        \"role_mapping\": [\"Mage\", \"Healer\", \"Rogue\", \"Healer\"]\n",
    "    },\n",
    "    {\n",
    "        \"question\": \"What is your greatest fear in a battle?\",\n",
    "        \"options\": [\"1. Losing comrades\", \"2. Lack of strategy\", \"3. Being discovered\", \"4. Failure to protect\"],\n",
    "        \"role_mapping\": [\"Healer\", \"Mage\", \"Rogue\", \"Warrior\"]\n",
    "    }\n",
    "]\n",
    "\n",
    "# Ask questions\n",
    "for index, q in enumerate(questions):\n",
    "    print(f\"\\nQuestion {index + 1}: {q['question']}\")\n",
    "    for option in q[\"options\"]:\n",
    "        print(option)\n",
    "\n",
    "    # Get and validate the user's input\n",
    "    while True:\n",
    "        try:\n",
    "            choice = int(input(\"Enter the number of your choice (1-4): \"))\n",
    "            if choice in [1, 2, 3, 4]:\n",
    "                break\n",
    "            else:\n",
    "                print(\"Please enter a valid number (1-4).\")\n",
    "        except ValueError:\n",
    "            print(\"Invalid input. Please enter a number (1-4).\")\n",
    "\n",
    "    # Record the user's choice\n",
    "    answers.append(q[\"options\"][choice - 1].split(\". \")[1])\n",
    "\n",
    "    # Update the corresponding role\n",
    "    selected_role = q[\"role_mapping\"][choice - 1]\n",
    "    roles[selected_role] += 1"
   ]
  },
  {
   "cell_type": "markdown",
   "metadata": {},
   "source": [
    "**Explanation:**\n",
    "\n",
    "- Use input() to get user choices.\n",
    "strip() and capitalize() ensure user input is clean and consistent.\n",
    "- Update scores in the roles dictionary based on the user’s responses."
   ]
  },
  {
   "cell_type": "markdown",
   "metadata": {},
   "source": [
    "**Step 3: Determine and Print the Result**   \n",
    "**Goal:** Calculate the role with the highest score and display a fun, descriptive result."
   ]
  },
  {
   "cell_type": "code",
   "execution_count": null,
   "metadata": {},
   "outputs": [],
   "source": [
    "# Determine the final role\n",
    "final_role = max(roles, key=roles.get)\n",
    "\n",
    "# Role descriptions\n",
    "descriptions = {\n",
    "    \"Warrior\": \"You are the Warrior! Strong, brave, and always ready to lead the charge.\",\n",
    "    \"Mage\": \"You are the Mage! Wise and powerful, you harness the forces of magic.\",\n",
    "    \"Healer\": \"You are the Healer! The backbone of the group with unmatched empathy and magic.\",\n",
    "    \"Rogue\": \"You are the Rogue! Quick, cunning, and always one step ahead of the game.\"\n",
    "}\n",
    "\n",
    "# Display the results\n",
    "print(\"\\n--- Results ---\")\n",
    "print(\"Here’s how you answered:\")\n",
    "for i, answer in enumerate(answers):\n",
    "    print(f\"Question {i + 1}: {answer}\")\n",
    "\n",
    "print(f\"\\nYour adventure role: {final_role}\")\n",
    "print(descriptions[final_role])"
   ]
  },
  {
   "cell_type": "markdown",
   "metadata": {},
   "source": [
    "**Explanation:**\n",
    "\n",
    "- max() identifies the role with the highest score.\n",
    "- A dictionary of role descriptions provides dynamic responses.\n",
    "- print() delivers the final result in an engaging format."
   ]
  },
  {
   "cell_type": "markdown",
   "metadata": {},
   "source": [
    "**Step 4: Running the Program**   \n",
    "**Goal:** Test the complete program in action and enjoy the immersive experience of the quiz."
   ]
  },
  {
   "cell_type": "code",
   "execution_count": 5,
   "metadata": {},
   "outputs": [
    {
     "name": "stdout",
     "output_type": "stream",
     "text": [
      "Welcome to the Fantasy Adventure Quiz!\n",
      "Answer the following questions by typing the number that corresponds to your choice.\n",
      "\n",
      "\n",
      "Question 1: How do you prefer to fight?\n",
      "1. Close Combat\n",
      "2. Long-Range Magic\n",
      "3. Stealth\n",
      "4. Defensive Tactics\n",
      "\n",
      "Question 2: What’s your greatest strength in a team?\n",
      "1. Strength\n",
      "2. Intelligence\n",
      "3. Agility\n",
      "4. Compassion\n",
      "\n",
      "Question 3: Which magical power appeals most to you?\n",
      "1. Fire\n",
      "2. Ice\n",
      "3. Shadow\n",
      "4. Healing\n",
      "\n",
      "Question 4: What is your greatest fear in a battle?\n",
      "1. Losing comrades\n",
      "2. Lack of strategy\n",
      "3. Being discovered\n",
      "4. Failure to protect\n",
      "\n",
      "--- Results ---\n",
      "Here’s how you answered:\n",
      "Question 1: Defensive Tactics\n",
      "Question 2: Intelligence\n",
      "Question 3: Shadow\n",
      "Question 4: Losing comrades\n",
      "\n",
      "Your adventure role: Healer\n",
      "You are the Healer! The backbone of the group with unmatched empathy and magic.\n"
     ]
    }
   ],
   "source": [
    "# Define roles and initialize scores\n",
    "roles = {\"Warrior\": 0, \"Mage\": 0, \"Healer\": 0, \"Rogue\": 0}\n",
    "answers = []  # To track user choices\n",
    "\n",
    "# Introduction\n",
    "print(\"Welcome to the Fantasy Adventure Quiz!\")\n",
    "print(\"Answer the following questions by typing the number that corresponds to your choice.\\n\")\n",
    "\n",
    "# Question and answer options\n",
    "questions = [\n",
    "    {\n",
    "        \"question\": \"How do you prefer to fight?\",\n",
    "        \"options\": [\"1. Close Combat\", \"2. Long-Range Magic\", \"3. Stealth\", \"4. Defensive Tactics\"],\n",
    "        \"role_mapping\": [\"Warrior\", \"Mage\", \"Rogue\", \"Healer\"]\n",
    "    },\n",
    "    {\n",
    "        \"question\": \"What’s your greatest strength in a team?\",\n",
    "        \"options\": [\"1. Strength\", \"2. Intelligence\", \"3. Agility\", \"4. Compassion\"],\n",
    "        \"role_mapping\": [\"Warrior\", \"Mage\", \"Rogue\", \"Healer\"]\n",
    "    },\n",
    "    {\n",
    "        \"question\": \"Which magical power appeals most to you?\",\n",
    "        \"options\": [\"1. Fire\", \"2. Ice\", \"3. Shadow\", \"4. Healing\"],\n",
    "        \"role_mapping\": [\"Mage\", \"Healer\", \"Rogue\", \"Healer\"]\n",
    "    },\n",
    "    {\n",
    "        \"question\": \"What is your greatest fear in a battle?\",\n",
    "        \"options\": [\"1. Losing comrades\", \"2. Lack of strategy\", \"3. Being discovered\", \"4. Failure to protect\"],\n",
    "        \"role_mapping\": [\"Healer\", \"Mage\", \"Rogue\", \"Warrior\"]\n",
    "    }\n",
    "]\n",
    "\n",
    "# Ask questions\n",
    "for index, q in enumerate(questions):\n",
    "    print(f\"\\nQuestion {index + 1}: {q['question']}\")\n",
    "    for option in q[\"options\"]:\n",
    "        print(option)\n",
    "\n",
    "    # Get and validate the user's input\n",
    "    while True:\n",
    "        try:\n",
    "            choice = int(input(\"Enter the number of your choice (1-4): \"))\n",
    "            if choice in [1, 2, 3, 4]:\n",
    "                break\n",
    "            else:\n",
    "                print(\"Please enter a valid number (1-4).\")\n",
    "        except ValueError:\n",
    "            print(\"Invalid input. Please enter a number (1-4).\")\n",
    "\n",
    "    # Record the user's choice\n",
    "    answers.append(q[\"options\"][choice - 1].split(\". \")[1])\n",
    "\n",
    "    # Update the corresponding role\n",
    "    selected_role = q[\"role_mapping\"][choice - 1]\n",
    "    roles[selected_role] += 1\n",
    "\n",
    "# Determine the final role\n",
    "final_role = max(roles, key=roles.get)\n",
    "\n",
    "# Role descriptions\n",
    "descriptions = {\n",
    "    \"Warrior\": \"You are the Warrior! Strong, brave, and always ready to lead the charge.\",\n",
    "    \"Mage\": \"You are the Mage! Wise and powerful, you harness the forces of magic.\",\n",
    "    \"Healer\": \"You are the Healer! The backbone of the group with unmatched empathy and magic.\",\n",
    "    \"Rogue\": \"You are the Rogue! Quick, cunning, and always one step ahead of the game.\"\n",
    "}\n",
    "\n",
    "# Display the results\n",
    "print(\"\\n--- Results ---\")\n",
    "print(\"Here’s how you answered:\")\n",
    "for i, answer in enumerate(answers):\n",
    "    print(f\"Question {i + 1}: {answer}\")\n",
    "\n",
    "print(f\"\\nYour adventure role: {final_role}\")\n",
    "print(descriptions[final_role])\n"
   ]
  },
  {
   "cell_type": "markdown",
   "metadata": {},
   "source": [
    "## Conclusion\n",
    "The Fantasy Adventure Personality Quiz is a creative way to showcase how Python’s input() function and dictionaries can be used to build interactive, dynamic programs. Here’s what we accomplished:\n",
    "\n",
    "- **Dynamic Inputs:** Learned how to capture and process user input with input() and ensure clean, consistent answers using .strip() and .capitalize().\n",
    "- **Conditionals:** Explored how to apply if-elif logic to evaluate user choices and update a dictionary of scores dynamically.\n",
    "- **Max and Dictionaries:** Discovered how to determine the most fitting role using the max() function and stored descriptions in a dictionary for dynamic responses.\n",
    "- **Engagement:** Put everything together to create a fun, interactive game that’s easy to run and extend.\n",
    "\n",
    "**Next Steps:** Try customizing the quiz! Add more questions, roles, or a scoring twist to make it your own. This exercise shows how programming can blend creativity and logic for practical and fun applications. 🎮"
   ]
  }
 ],
 "metadata": {
  "kernelspec": {
   "display_name": ".venv",
   "language": "python",
   "name": "python3"
  },
  "language_info": {
   "codemirror_mode": {
    "name": "ipython",
    "version": 3
   },
   "file_extension": ".py",
   "mimetype": "text/x-python",
   "name": "python",
   "nbconvert_exporter": "python",
   "pygments_lexer": "ipython3",
   "version": "3.12.7"
  }
 },
 "nbformat": 4,
 "nbformat_minor": 2
}
