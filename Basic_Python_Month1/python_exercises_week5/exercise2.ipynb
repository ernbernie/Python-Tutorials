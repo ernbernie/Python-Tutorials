{
 "cells": [
  {
   "cell_type": "markdown",
   "metadata": {},
   "source": [
    "# Decoding The DNA of Strings"
   ]
  },
  {
   "cell_type": "markdown",
   "metadata": {},
   "source": [
    "**Introduction**   \n",
    "Strings are the backbone of many programming problems, from text processing to genetic analysis. This lesson dives into how we can work with DNA sequences in Python using string slicing and iteration, for loops, and dictionaries. These concepts are essential tools for parsing, analyzing, and storing data in programming.\n",
    "\n",
    "**What You’ll Learn**   \n",
    "- How to slice and iterate through strings to analyze data.\n",
    "- Use dictionaries to count and store occurrences.\n",
    "- Extend the solution to recognize special \"codons\" (substrings) that signal specific biological processes."
   ]
  },
  {
   "cell_type": "markdown",
   "metadata": {},
   "source": [
    "**Step 1: Slicing and Iterating Strings**   \n",
    "Learn how to traverse a DNA string and extract individual nucleotides (A, T, G, C)."
   ]
  },
  {
   "cell_type": "code",
   "execution_count": 1,
   "metadata": {},
   "outputs": [
    {
     "name": "stdout",
     "output_type": "stream",
     "text": [
      "Nucleotide: A\n",
      "Nucleotide: T\n",
      "Nucleotide: G\n",
      "Nucleotide: C\n",
      "Nucleotide: G\n",
      "Nucleotide: T\n",
      "Nucleotide: A\n",
      "Nucleotide: A\n",
      "Nucleotide: T\n",
      "Nucleotide: C\n",
      "Nucleotide: G\n"
     ]
    }
   ],
   "source": [
    "# Example DNA sequence\n",
    "dna_sequence = \"ATGCGTAATCG\"\n",
    "\n",
    "# Step 1: Iterate through each character in the string\n",
    "for nucleotide in dna_sequence:\n",
    "    print(f\"Nucleotide: {nucleotide}\")\n"
   ]
  },
  {
   "cell_type": "markdown",
   "metadata": {},
   "source": [
    "**Key Takeaways**   \n",
    "- Strings are iterable in Python, meaning you can process each character using a for loop.\n",
    "- This is the foundation for extracting and analyzing data in sequences."
   ]
  },
  {
   "cell_type": "markdown",
   "metadata": {},
   "source": [
    "**Step 2: Counting Nucleotides with a Dictionary**    \n",
    "Use a dictionary to store and count the occurrences of each nucleotide in the DNA sequence."
   ]
  },
  {
   "cell_type": "code",
   "execution_count": 2,
   "metadata": {},
   "outputs": [
    {
     "name": "stdout",
     "output_type": "stream",
     "text": [
      "Nucleotide Counts: {'A': 3, 'T': 3, 'G': 3, 'C': 2}\n"
     ]
    }
   ],
   "source": [
    "dna_sequence = \"ATGCGTAATCG\"\n",
    "\n",
    "# Step 2: Initialize an empty dictionary\n",
    "nucleotide_counts = {}\n",
    "\n",
    "# Count each nucleotide\n",
    "for nucleotide in dna_sequence:\n",
    "    if nucleotide in nucleotide_counts:\n",
    "        nucleotide_counts[nucleotide] += 1\n",
    "    else:\n",
    "        nucleotide_counts[nucleotide] = 1\n",
    "\n",
    "# Print the results\n",
    "print(\"Nucleotide Counts:\", nucleotide_counts)\n"
   ]
  },
  {
   "cell_type": "markdown",
   "metadata": {},
   "source": [
    "**Key Takeaways**   \n",
    "- Dictionaries are perfect for storing key-value pairs like nucleotide types (A, T, G, C) and their counts.\n",
    "- This approach is efficient and easily extensible for larger datasets."
   ]
  },
  {
   "cell_type": "markdown",
   "metadata": {},
   "source": [
    "**Step 3: Checking for Special \"Codons\"**   \n",
    "Identify specific codons (substrings of three characters) in the DNA sequence. For example, ATG often signals the start of a protein sequence."
   ]
  },
  {
   "cell_type": "code",
   "execution_count": 3,
   "metadata": {},
   "outputs": [
    {
     "name": "stdout",
     "output_type": "stream",
     "text": [
      "Codon Positions: {'start': [0, 8], 'stop': [5]}\n"
     ]
    }
   ],
   "source": [
    "dna_sequence = \"ATGCGTAAATGCCC\"\n",
    "start_codon = \"ATG\"\n",
    "stop_codon = \"TAA\"\n",
    "\n",
    "# Step 3: Search for codons\n",
    "codon_positions = {\"start\": [], \"stop\": []}\n",
    "\n",
    "# Slice the string in steps of 3 (codons are three nucleotides long)\n",
    "for i in range(0, len(dna_sequence) - 2):\n",
    "    codon = dna_sequence[i:i+3]\n",
    "    if codon == start_codon:\n",
    "        codon_positions[\"start\"].append(i)\n",
    "    elif codon == stop_codon:\n",
    "        codon_positions[\"stop\"].append(i)\n",
    "\n",
    "print(\"Codon Positions:\", codon_positions)\n"
   ]
  },
  {
   "cell_type": "markdown",
   "metadata": {},
   "source": [
    "**Key Takeaways**   \n",
    "- String slicing ([i:i+3]) lets you extract codons from the DNA sequence.\n",
    "- Searching for specific substrings (like start/stop codons) is a powerful way to identify biological signals or patterns."
   ]
  },
  {
   "cell_type": "markdown",
   "metadata": {},
   "source": [
    "## Conclusion   \n",
    "This lesson introduced fundamental tools for working with strings in Python:\n",
    "\n",
    "- String slicing and iteration for processing sequence data.\n",
    "- Dictionaries for efficiently counting and organizing information.\n",
    "- Substring matching to identify meaningful patterns, like biological codons.\n",
    "\n",
    "**Why It’s Important**    \n",
    "Whether you're analyzing DNA sequences or text data, these techniques form the foundation of data parsing and pattern recognition. As an extension, try applying these concepts to longer sequences or add more codons to recognize!"
   ]
  }
 ],
 "metadata": {
  "kernelspec": {
   "display_name": ".venv",
   "language": "python",
   "name": "python3"
  },
  "language_info": {
   "codemirror_mode": {
    "name": "ipython",
    "version": 3
   },
   "file_extension": ".py",
   "mimetype": "text/x-python",
   "name": "python",
   "nbconvert_exporter": "python",
   "pygments_lexer": "ipython3",
   "version": "3.12.7"
  }
 },
 "nbformat": 4,
 "nbformat_minor": 2
}
