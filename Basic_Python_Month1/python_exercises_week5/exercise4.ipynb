{
 "cells": [
  {
   "cell_type": "markdown",
   "metadata": {},
   "source": [
    "# When Will You Be 10,000 Days Old?"
   ]
  },
  {
   "cell_type": "markdown",
   "metadata": {},
   "source": [
    "**Introduction**\n",
    "Command-line tools are a powerful way to interact with programs, especially for developers and power users. In this lesson, you’ll learn how to build a Python script that calculates the exact date when you’ll reach specific life milestones, like turning 10,000 days old.\n",
    "\n",
    "You’ll explore:\n",
    "\n",
    "- How to use the argparse library to handle command-line arguments.\n",
    "- How to manipulate dates with the datetime module.\n",
    "- How to create reusable and readable Python code using functions.    \n",
    "\n",
    "By the end of this lesson, you’ll have a robust script that’s easy to run from the terminal, making it a practical and valuable tool for calculating life milestones."
   ]
  },
  {
   "cell_type": "markdown",
   "metadata": {},
   "source": [
    "**Step 1: Setting Up the Base Command-Line Script**    \n",
    "Use the argparse library to create a basic script that accepts a birthdate as a command-line argument."
   ]
  },
  {
   "cell_type": "code",
   "execution_count": null,
   "metadata": {},
   "outputs": [
    {
     "name": "stdout",
     "output_type": "stream",
     "text": [
      "Your birthdate is valid: May 15, 1990\n"
     ]
    }
   ],
   "source": [
    "import argparse\n",
    "import sys\n",
    "from datetime import datetime\n",
    "\n",
    "# Simulating command-line arguments for Jupyter Notebook\n",
    "sys.argv = [\"script_name\", \"1995-05-15\"]  # Replace with the birthdate you want to test\n",
    "\n",
    "def main():\n",
    "    # Step 1: Set up argparse\n",
    "    parser = argparse.ArgumentParser(description=\"Calculate the date you’ll reach a life milestone.\")\n",
    "    parser.add_argument(\n",
    "        \"birthdate\", \n",
    "        type=str, \n",
    "        help=\"Your birthdate in YYYY-MM-DD format\"\n",
    "    )\n",
    "    args = parser.parse_args()\n",
    "\n",
    "    # Validate the date format\n",
    "    try:\n",
    "        birthdate = datetime.strptime(args.birthdate, \"%Y-%m-%d\")\n",
    "        print(f\"Your birthdate is valid: {birthdate.strftime('%B %d, %Y')}\")\n",
    "    except ValueError:\n",
    "        print(\"Error: Please provide a valid date in YYYY-MM-DD format.\")\n",
    "\n",
    "if __name__ == \"__main__\":\n",
    "    main()\n"
   ]
  },
  {
   "cell_type": "markdown",
   "metadata": {},
   "source": [
    "**Key Takeaways**   \n",
    "- argparse is used to capture the user’s input directly from the command line.\n",
    "- Validate the input to ensure the birthdate is in the correct YYYY-MM-DD format.\n",
    "- argparse parses arguments directly from the sys.argv list.\n",
    "- By manually setting sys.argv, you control the inputs to mimic command-line behavior inside Jupyter Notebook."
   ]
  },
  {
   "cell_type": "markdown",
   "metadata": {},
   "source": [
    "**Step 2: Calculate the Milestone**    \n",
    "Use the datetime module to calculate the exact date when the user will reach a milestone, such as 10,000 days old."
   ]
  },
  {
   "cell_type": "code",
   "execution_count": null,
   "metadata": {},
   "outputs": [
    {
     "name": "stdout",
     "output_type": "stream",
     "text": [
      "Your birthdate: May 15, 1998\n",
      "You will be 10000 days old on September 30, 2025.\n"
     ]
    }
   ],
   "source": [
    "import argparse\n",
    "import sys\n",
    "from datetime import datetime, timedelta\n",
    "\n",
    "# Simulating command-line arguments for Jupyter Notebook\n",
    "sys.argv = [\"script_name\", \"1995-05-15\", \"--milestone\", \"10000\"]  # Replace with test values\n",
    "\n",
    "def calculate_milestone(birthdate, milestone_days):\n",
    "    \"\"\"Calculate the date of a milestone.\"\"\"\n",
    "    milestone_date = birthdate + timedelta(days=milestone_days)\n",
    "    return milestone_date\n",
    "\n",
    "def main():\n",
    "    # Step 1: Set up argparse\n",
    "    parser = argparse.ArgumentParser(description=\"Calculate the date you’ll reach a life milestone.\")\n",
    "    parser.add_argument(\n",
    "        \"birthdate\", \n",
    "        type=str, \n",
    "        help=\"Your birthdate in YYYY-MM-DD format\"\n",
    "    )\n",
    "    parser.add_argument(\n",
    "        \"--milestone\", \n",
    "        type=int, \n",
    "        default=10000, \n",
    "        help=\"Milestone in days (default: 10,000)\"\n",
    "    )\n",
    "    args = parser.parse_args()\n",
    "\n",
    "    # Validate the date format and calculate the milestone\n",
    "    try:\n",
    "        birthdate = datetime.strptime(args.birthdate, \"%Y-%m-%d\")\n",
    "        milestone_date = calculate_milestone(birthdate, args.milestone)\n",
    "        print(f\"Your birthdate: {birthdate.strftime('%B %d, %Y')}\")\n",
    "        print(f\"You will be {args.milestone} days old on {milestone_date.strftime('%B %d, %Y')}.\")\n",
    "    except ValueError:\n",
    "        print(\"Error: Please provide a valid date in YYYY-MM-DD format.\")\n",
    "\n",
    "if __name__ == \"__main__\":\n",
    "    main()\n"
   ]
  },
  {
   "cell_type": "markdown",
   "metadata": {},
   "source": [
    "**Key Takeaways**\n",
    "- A function (calculate_milestone) is used to add the specified number of days to the birthdate.\n",
    "- Simulates command-line arguments using sys.argv so you can test the script in Jupyter or other environments.\n",
    "- Ensures invalid date inputs are handled gracefully with a helpful error message."
   ]
  },
  {
   "cell_type": "markdown",
   "metadata": {},
   "source": [
    "**Step 3: Enhance Usability with Additional Features**    \n",
    "Add functionality to display the user’s current age in days and show how many days remain until their milestone."
   ]
  },
  {
   "cell_type": "code",
   "execution_count": 23,
   "metadata": {},
   "outputs": [
    {
     "name": "stdout",
     "output_type": "stream",
     "text": [
      "Your birthdate: May 15, 1995\n",
      "Today, you are 10782 days old.\n",
      "You will be 10000 days old on September 30, 2022 (in -783 days).\n"
     ]
    }
   ],
   "source": [
    "import argparse\n",
    "import sys\n",
    "from datetime import datetime, timedelta\n",
    "\n",
    "# Simulating command-line arguments for Jupyter Notebook\n",
    "sys.argv = [\"script_name\", \"1995-05-15\", \"--milestone\", \"10000\"]  # Replace with test values\n",
    "\n",
    "def calculate_milestone(birthdate, milestone_days):\n",
    "    \"\"\"Calculate the date of a milestone.\"\"\"\n",
    "    milestone_date = birthdate + timedelta(days=milestone_days)\n",
    "    return milestone_date\n",
    "\n",
    "def calculate_current_age_in_days(birthdate):\n",
    "    \"\"\"Calculate the user's current age in days.\"\"\"\n",
    "    today = datetime.today()\n",
    "    age_in_days = (today - birthdate).days\n",
    "    return age_in_days\n",
    "\n",
    "def main():\n",
    "    # Step 1: Set up argparse\n",
    "    parser = argparse.ArgumentParser(description=\"Calculate the date you’ll reach a life milestone.\")\n",
    "    parser.add_argument(\n",
    "        \"birthdate\", \n",
    "        type=str, \n",
    "        help=\"Your birthdate in YYYY-MM-DD format\"\n",
    "    )\n",
    "    parser.add_argument(\n",
    "        \"--milestone\", \n",
    "        type=int, \n",
    "        default=10000, \n",
    "        help=\"Milestone in days (default: 10,000)\"\n",
    "    )\n",
    "    args = parser.parse_args()\n",
    "\n",
    "    try:\n",
    "        # Parse and validate the birthdate\n",
    "        birthdate = datetime.strptime(args.birthdate, \"%Y-%m-%d\")\n",
    "        \n",
    "        # Step 2: Calculate milestone date\n",
    "        milestone_date = calculate_milestone(birthdate, args.milestone)\n",
    "\n",
    "        # Step 3: Calculate current age and days until milestone\n",
    "        age_in_days = calculate_current_age_in_days(birthdate)\n",
    "        days_until_milestone = (milestone_date - datetime.today()).days\n",
    "\n",
    "        # Output the results\n",
    "        print(f\"Your birthdate: {birthdate.strftime('%B %d, %Y')}\")\n",
    "        print(f\"Today, you are {age_in_days} days old.\")\n",
    "        print(f\"You will be {args.milestone} days old on {milestone_date.strftime('%B %d, %Y')} (in {days_until_milestone} days).\")\n",
    "    except ValueError:\n",
    "        print(\"Error: Please provide a valid date in YYYY-MM-DD format.\")\n",
    "\n",
    "if __name__ == \"__main__\":\n",
    "    main()\n"
   ]
  },
  {
   "cell_type": "markdown",
   "metadata": {},
   "source": [
    "**Explanation**\n",
    "- calculate_current_age_in_days() calculates the user’s age in days by subtracting their birthdate from today’s date.\n",
    "- sys.argv is set to simulate inputs, so you can test this code easily in Jupyter or similar environments.\n",
    "- Displaying remaining days until the milestone."
   ]
  },
  {
   "cell_type": "markdown",
   "metadata": {},
   "source": [
    "## Conclusion\n",
    "In this lesson, you built a powerful command-line program to calculate significant life milestones. By combining Python’s robust libraries and best practices, you learned how to:\n",
    "\n",
    "- Use the argparse library to process user inputs directly from the command line.\n",
    "- Perform date calculations using the datetime and timedelta modules to determine life milestones.\n",
    "- Enhance usability by showing additional context, such as the user’s current age in days and the remaining days until a milestone.\n",
    "\n",
    "**Why It’s Important**\n",
    "- Command-line tools are essential for automating tasks and creating efficient workflows, making them a critical skill for developers.\n",
    "- Date and time calculations are a cornerstone of many real-world applications, including event planning, scheduling, and personal tracking tools.\n",
    "- By designing programs that are flexible, user-friendly, and practical, you’ve gained experience building reusable scripts that solve everyday problems.\n",
    "\n"
   ]
  }
 ],
 "metadata": {
  "kernelspec": {
   "display_name": ".venv",
   "language": "python",
   "name": "python3"
  },
  "language_info": {
   "codemirror_mode": {
    "name": "ipython",
    "version": 3
   },
   "file_extension": ".py",
   "mimetype": "text/x-python",
   "name": "python",
   "nbconvert_exporter": "python",
   "pygments_lexer": "ipython3",
   "version": "3.12.7"
  }
 },
 "nbformat": 4,
 "nbformat_minor": 2
}
