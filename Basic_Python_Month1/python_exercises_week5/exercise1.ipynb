{
 "cells": [
  {
   "cell_type": "markdown",
   "metadata": {},
   "source": [
    "# Exploring Cookies With requests"
   ]
  },
  {
   "cell_type": "markdown",
   "metadata": {},
   "source": [
    "**Objective:**   \n",
    "In this lesson, you’ll learn how to use the requests library to inspect, send, and manage cookies programmatically. Cookies are essential for maintaining sessions, handling authentication, and enabling personalization on websites.\n",
    "\n"
   ]
  },
  {
   "cell_type": "markdown",
   "metadata": {},
   "source": [
    "**Step 1: Fetch and Display Cookies**   \n",
    "**Goal:** Send a request to a website and inspect the cookies received from the server."
   ]
  },
  {
   "cell_type": "code",
   "execution_count": 2,
   "metadata": {},
   "outputs": [
    {
     "name": "stdout",
     "output_type": "stream",
     "text": [
      "Cookies Received:\n",
      "_gh_sess: cdl8vrp0cE1mYnkQdfJk1GnlAlOtuDUWYSDa3ZTm9lnOWVmAp9cue7HVfTu5LBKq25E3txbHgyFgPPWAcudQI%2BZ45RuY6Q2O1ikcwDT3MEG5LoFoMar5NQf1cjIJ2DYYJjel85hxTUvFbIqFGeadAn9goseP2IuN%2Fw%2FQclntMoCqtmh%2BeSdCrC3gG0YoY4I56EcOy0NdsmVXzXARqi0bSH3RGY4tuRMufy69MdzFpL4azIRqcnCHva4fw4jL9Sjxh2S%2FNFGwyuEatsENmRVDFQ%3D%3D--LjDYZ1nvXLex8%2B8p--jEhAXBAZbPjFF22d7m4gjA%3D%3D\n",
      "_octo: GH1.1.356346857.1732149135\n",
      "logged_in: no\n"
     ]
    }
   ],
   "source": [
    "import requests\n",
    "\n",
    "# Send a GET request to a popular website\n",
    "url = \"https://github.com/cookies/set?name=value\"  # Example URL that sets cookies\n",
    "response = requests.get(url)\n",
    "\n",
    "# Inspect cookies received from the server\n",
    "cookies = response.cookies\n",
    "print(\"Cookies Received:\")\n",
    "for cookie in cookies:\n",
    "    print(f\"{cookie.name}: {cookie.value}\")\n"
   ]
  },
  {
   "cell_type": "markdown",
   "metadata": {},
   "source": [
    "**Explanation:**   \n",
    "- Cookies from the Response: Cookies are stored in the response.cookies object, which behaves like a dictionary.\n",
    "- Inspecting cookies helps understand how servers manage state (e.g., user sessions)."
   ]
  },
  {
   "cell_type": "markdown",
   "metadata": {},
   "source": [
    "**Step 2: Send a Request with Custom Cookies**   \n",
    "**Goal:** Create a dictionary of cookies and send them back to the server in a subsequent request."
   ]
  },
  {
   "cell_type": "code",
   "execution_count": 6,
   "metadata": {},
   "outputs": [
    {
     "name": "stdout",
     "output_type": "stream",
     "text": [
      "\n",
      "Response Text:\n",
      "{\n",
      "  \"cookies\": {\n",
      "    \"session_id\": \"12345\", \n",
      "    \"user\": \"python_learner\"\n",
      "  }\n",
      "}\n",
      "\n"
     ]
    }
   ],
   "source": [
    "# Define custom cookies\n",
    "custom_cookies = {\n",
    "    \"user\": \"python_learner\",\n",
    "    \"session_id\": \"12345\"\n",
    "}\n",
    "\n",
    "# Send a request with the custom cookies\n",
    "url = \"https://httpbin.org/cookies\"\n",
    "response = requests.get(url, cookies=custom_cookies)\n",
    "\n",
    "# Inspect the response to verify the cookies sent\n",
    "print(\"\\nResponse Text:\")\n",
    "print(response.text)\n"
   ]
  },
  {
   "cell_type": "markdown",
   "metadata": {},
   "source": [
    "**Explanation:**\n",
    "- **Sending Cookies:** Pass a dictionary of cookies to the cookies parameter in the requests.get() method.\n",
    "- **Server Echo:** The https://httpbin.org/cookies endpoint displays the cookies it received, allowing us to verify what was sent."
   ]
  },
  {
   "cell_type": "markdown",
   "metadata": {},
   "source": [
    "**Step 3: Practical Use Case – Managing Sessions**   \n",
    "**Goal:** Use the requests.Session() object to automatically manage cookies between multiple requests."
   ]
  },
  {
   "cell_type": "code",
   "execution_count": 7,
   "metadata": {},
   "outputs": [
    {
     "name": "stdout",
     "output_type": "stream",
     "text": [
      "\n",
      "Session Cookies:\n",
      "{\n",
      "  \"cookies\": {\n",
      "    \"name\": \"session_cookie\", \n",
      "    \"value\": \"active\"\n",
      "  }\n",
      "}\n",
      "\n"
     ]
    }
   ],
   "source": [
    "# Create a session object\n",
    "session = requests.Session()\n",
    "\n",
    "# Make a request that sets cookies\n",
    "session.get(\"https://httpbin.org/cookies/set?name=session_cookie&value=active\")\n",
    "\n",
    "# Make another request with the same session\n",
    "response = session.get(\"https://httpbin.org/cookies\")\n",
    "\n",
    "# Inspect cookies stored in the session\n",
    "print(\"\\nSession Cookies:\")\n",
    "print(response.text)\n"
   ]
  },
  {
   "cell_type": "markdown",
   "metadata": {},
   "source": [
    "**Explanation:**   \n",
    "- **Session Object:** A Session automatically saves and sends cookies across multiple requests.\n",
    "- The first request sets a cookie on the server.\n",
    "- The session retains the cookie and sends it in subsequent requests."
   ]
  },
  {
   "cell_type": "markdown",
   "metadata": {},
   "source": [
    "## Conclusion\n",
    "This lesson explored cookies and their importance in web programming:\n",
    "\n",
    "- **Fetch and Display Cookies:** Understand what cookies are and how they’re sent by servers.\n",
    "- **Send Custom Cookies:** Simulate state management by sending your own cookies.\n",
    "- **Session Management:** Use requests.Session() for persistent cookies across multiple requests.\n",
    "\n",
    "🚀 Great work diving deeper into the requests library! You’ve unlocked another essential skill in web programming."
   ]
  }
 ],
 "metadata": {
  "kernelspec": {
   "display_name": ".venv",
   "language": "python",
   "name": "python3"
  },
  "language_info": {
   "codemirror_mode": {
    "name": "ipython",
    "version": 3
   },
   "file_extension": ".py",
   "mimetype": "text/x-python",
   "name": "python",
   "nbconvert_exporter": "python",
   "pygments_lexer": "ipython3",
   "version": "3.12.7"
  }
 },
 "nbformat": 4,
 "nbformat_minor": 2
}
