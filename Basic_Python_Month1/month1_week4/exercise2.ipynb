{
 "cells": [
  {
   "cell_type": "markdown",
   "metadata": {},
   "source": [
    "# Planetary Temperature Converter"
   ]
  },
  {
   "cell_type": "markdown",
   "metadata": {},
   "source": [
    "**Introduction:**   \n",
    "This lesson is about mastering functions, input validation, and arithmetic operations in Python. But instead of a basic temperature converter, we’ll build a program that goes beyond the ordinary—a \"Planetary Temperature Converter\" that adjusts Celsius-to-Fahrenheit conversions based on different planetary atmospheres. This twist keeps the concept engaging while reinforcing foundational Python skills."
   ]
  },
  {
   "cell_type": "markdown",
   "metadata": {},
   "source": [
    "**Defining the Base Conversion Function**   \n",
    "**Goal:** Start by creating a reusable function for converting Celsius to Fahrenheit."
   ]
  },
  {
   "cell_type": "code",
   "execution_count": 1,
   "metadata": {},
   "outputs": [
    {
     "name": "stdout",
     "output_type": "stream",
     "text": [
      "30°C on Earth is 86.0°F.\n",
      "abc°C on Earth is Invalid temperature. Please enter a valid number..\n"
     ]
    }
   ],
   "source": [
    "# Define the base conversion function with input validation\n",
    "def celsius_to_fahrenheit(celsius):\n",
    "    \"\"\"Converts Celsius to Fahrenheit, with input validation.\"\"\"\n",
    "    try:\n",
    "        celsius = float(celsius)  # Ensure the input is a valid number\n",
    "        return round((celsius * 9/5) + 32, 2)\n",
    "    except ValueError:\n",
    "        return \"Invalid temperature. Please enter a valid number.\"\n",
    "\n",
    "# Test the function with both valid and invalid inputs\n",
    "test_temperature = \"30\"\n",
    "print(f\"{test_temperature}°C on Earth is {celsius_to_fahrenheit(test_temperature)}°F.\")\n",
    "\n",
    "invalid_temperature = \"abc\"\n",
    "print(f\"{invalid_temperature}°C on Earth is {celsius_to_fahrenheit(invalid_temperature)}.\")\n"
   ]
  },
  {
   "cell_type": "markdown",
   "metadata": {},
   "source": [
    "**Explanation**   \n",
    "\n",
    "- **Error Handling:** Returns a user-friendly message for invalid inputs.\n",
    "- **Function Design:** celsius_to_fahrenheit() isolates the conversion logic for reusability.\n",
    "- **Testing:** Confirms the function works as expected with test values."
   ]
  },
  {
   "cell_type": "markdown",
   "metadata": {},
   "source": [
    "**Step 2: Interactive Planet Selection**   \n",
    "**Goal:** Allowing the user to select a planet dynamically from the planetary_factors dictionary, enhancing interactivity and user experience."
   ]
  },
  {
   "cell_type": "code",
   "execution_count": 11,
   "metadata": {},
   "outputs": [
    {
     "name": "stdout",
     "output_type": "stream",
     "text": [
      "Choose a planet: Mercury, Venus, Earth, Mars, Pluto\n",
      "30°C feels like 150.8°F on your chosen planet.\n"
     ]
    }
   ],
   "source": [
    "# Define planetary adjustment factors\n",
    "planetary_factors = {\n",
    "    \"Mercury\": 2.2,  # Exaggerates hotness\n",
    "    \"Venus\": 1.5,    # Warmer than Earth\n",
    "    \"Earth\": 1.0,    # Baseline\n",
    "    \"Mars\": 0.9,     # Slightly cooler\n",
    "    \"Pluto\": 0.5     # Freezing cold\n",
    "}\n",
    "\n",
    "def planetary_temperature(celsius, planet=None):\n",
    "    \"\"\"Adjusts temperature for planetary conditions, with user interaction.\"\"\"\n",
    "    # Ensure the input is a valid number\n",
    "    try:\n",
    "        celsius = float(celsius)\n",
    "    except ValueError:\n",
    "        return \"Invalid temperature. Please enter a valid number.\"\n",
    "\n",
    "    # Default to Earth if no planet is provided\n",
    "    if not planet:\n",
    "        print(\"Choose a planet: Mercury, Venus, Earth, Mars, Pluto\")\n",
    "        planet = input(\"Enter the planet's name: \").strip().capitalize()\n",
    "\n",
    "    # Get adjustment factor for the selected planet\n",
    "    adjustment = planetary_factors.get(planet, 1)  # Default to Earth if invalid input\n",
    "    adjusted_temp = celsius * adjustment\n",
    "    return round(celsius_to_fahrenheit(adjusted_temp), 2)\n",
    "\n",
    "# Test the function interactively\n",
    "test_temperature = \"30\"\n",
    "print(f\"{test_temperature}°C feels like {planetary_temperature(test_temperature)}°F on your chosen planet.\")\n"
   ]
  },
  {
   "cell_type": "markdown",
   "metadata": {},
   "source": [
    "**Explanation:**\n",
    "\n",
    "- **planetary_factors:** A dictionary that maps planets to their adjustment factors.\n",
    "- **Input Handling:** The try block ensures that invalid temperature input does not break the program.\n",
    "- **Dynamic Input:** Allows the user to select a planet dynamically, defaulting to Earth for invalid or missing input.\n"
   ]
  },
  {
   "cell_type": "markdown",
   "metadata": {},
   "source": [
    "**Step 3: Multiple Temperature Comparisons**   \n",
    "**Goal:** Compare temperatures across multiple planets at once, allowing the user to see the adjusted temperatures for all planets."
   ]
  },
  {
   "cell_type": "code",
   "execution_count": 12,
   "metadata": {},
   "outputs": [
    {
     "name": "stdout",
     "output_type": "stream",
     "text": [
      "\n",
      "Temperature Comparisons Across Planets:\n",
      "Mercury: 150.8°F\n",
      "Venus: 113.0°F\n",
      "Earth: 86.0°F\n",
      "Mars: 80.6°F\n",
      "Pluto: 59.0°F\n"
     ]
    }
   ],
   "source": [
    "def compare_planetary_temperatures(celsius):\n",
    "    \"\"\"Compares the given temperature across all planets.\"\"\"\n",
    "    try:\n",
    "        celsius = float(celsius)\n",
    "    except ValueError:\n",
    "        return \"Invalid temperature. Please enter a valid number.\"\n",
    "\n",
    "    print(\"\\nTemperature Comparisons Across Planets:\")\n",
    "    for planet, factor in planetary_factors.items():\n",
    "        adjusted_temp = celsius * factor\n",
    "        print(f\"{planet}: {round(celsius_to_fahrenheit(adjusted_temp), 2)}°F\")\n",
    "\n",
    "# Test the function\n",
    "test_temperature = \"30\"\n",
    "compare_planetary_temperatures(test_temperature)\n"
   ]
  },
  {
   "cell_type": "markdown",
   "metadata": {},
   "source": [
    "**Explanation:**\n",
    "\n",
    "- **Iterating Over a Dictionary:** Loops through all planets to calculate and display adjusted temperatures.\n",
    "- **Direct Comparisons:** Lets the user see how temperatures vary on different planets in a single glance.\n",
    "- **Clean Output:** Presents data in a well-organized format for easy understanding."
   ]
  },
  {
   "cell_type": "markdown",
   "metadata": {},
   "source": [
    "## Conclusion\n",
    "\n",
    "In this version, we expanded the functionality to allow users to compare temperatures across all planets. This approach reinforced:\n",
    "\n",
    "- **Loops and Dictionaries:** Iterating through key-value pairs for systematic calculations.\n",
    "- **Enhanced Usability:** Enabled the user to view data holistically for better insights.\n",
    "- **Dynamic Programming:** Combined arithmetic operations, user input, and dictionaries to build an interactive and educational application."
   ]
  }
 ],
 "metadata": {
  "kernelspec": {
   "display_name": ".venv",
   "language": "python",
   "name": "python3"
  },
  "language_info": {
   "codemirror_mode": {
    "name": "ipython",
    "version": 3
   },
   "file_extension": ".py",
   "mimetype": "text/x-python",
   "name": "python",
   "nbconvert_exporter": "python",
   "pygments_lexer": "ipython3",
   "version": "3.12.7"
  }
 },
 "nbformat": 4,
 "nbformat_minor": 2
}
