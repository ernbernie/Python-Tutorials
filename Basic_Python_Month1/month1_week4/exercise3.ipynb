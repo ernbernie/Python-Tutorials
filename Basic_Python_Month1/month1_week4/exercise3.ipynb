{
 "cells": [
  {
   "cell_type": "markdown",
   "metadata": {},
   "source": [
    "# Battle of the Dice Game: Double Up Edition"
   ]
  },
  {
   "cell_type": "markdown",
   "metadata": {},
   "source": [
    "**Introduction:**\n",
    "\n",
    "This lesson teaches how to use lists, loops, and probability in Python to create a dice rolling game. By simulating multiple rolls, calculating total scores, and adding an element of chance with a \"lucky double,\" we can explore how basic Python concepts like list manipulation and random number generation can be used to create engaging games. \n",
    "\n",
    "Understanding loops, probability, and working with data structures like lists is crucial for game development and many real-world applications, such as simulations, automation, and decision-making."
   ]
  },
  {
   "cell_type": "markdown",
   "metadata": {},
   "source": [
    "**Step 1: Simulate Multiple Rolls**   \n",
    "**Goal:** Let players roll dice multiple times and store the results in a list."
   ]
  },
  {
   "cell_type": "code",
   "execution_count": 62,
   "metadata": {},
   "outputs": [
    {
     "name": "stdout",
     "output_type": "stream",
     "text": [
      "Player 1 rolls: [6, 5, 4]\n",
      "Player 2 rolls: [4, 4, 3]\n"
     ]
    }
   ],
   "source": [
    "import random\n",
    "\n",
    "def roll_dice(num_rolls=3):\n",
    "    \"\"\"Simulates multiple dice rolls and returns a list of results.\"\"\"\n",
    "    rolls = [random.randint(1, 6) for _ in range(num_rolls)]\n",
    "    return rolls\n",
    "\n",
    "# Simulate rolls for both players\n",
    "player1_rolls = roll_dice()\n",
    "player2_rolls = roll_dice()\n",
    "\n",
    "print(f\"Player 1 rolls: {player1_rolls}\")\n",
    "print(f\"Player 2 rolls: {player2_rolls}\")\n"
   ]
  },
  {
   "cell_type": "markdown",
   "metadata": {},
   "source": [
    "**Explanation:**\n",
    "\n",
    "- **List Comprehension:** Generates a list of random rolls using a loop in a compact form.\n",
    "- **Customizable Rolls:** num_rolls allows players to decide how many times they want to roll the dice, making the game flexible.\n"
   ]
  },
  {
   "cell_type": "markdown",
   "metadata": {},
   "source": [
    "**Step 2: Calculate Total Scores**   \n",
    "**Goal:** Calculate the total score for each player by summing their rolls and determining the winner."
   ]
  },
  {
   "cell_type": "code",
   "execution_count": 63,
   "metadata": {},
   "outputs": [
    {
     "name": "stdout",
     "output_type": "stream",
     "text": [
      "Player 1 total score: 15\n",
      "Player 2 total score: 11\n",
      "Player 1 wins!\n"
     ]
    }
   ],
   "source": [
    "player1_total = sum(player1_rolls)\n",
    "player2_total = sum(player2_rolls)\n",
    "\n",
    "print(f\"Player 1 total score: {player1_total}\")\n",
    "print(f\"Player 2 total score: {player2_total}\")\n",
    "\n",
    "if player1_total > player2_total:\n",
    "    print(\"Player 1 wins!\")\n",
    "elif player2_total > player1_total:\n",
    "    print(\"Player 2 wins!\")\n",
    "else:\n",
    "    print(\"It's a tie!\")\n"
   ]
  },
  {
   "cell_type": "markdown",
   "metadata": {},
   "source": [
    "**Explanation:**\n",
    "\n",
    "- **Sum Function:** We use sum() to calculate the total score by adding up the values in the player1_rolls and player2_rolls lists.\n",
    "- **Conditional Logic:** We compare the total scores to declare a winner or announce a tie."
   ]
  },
  {
   "cell_type": "markdown",
   "metadata": {},
   "source": [
    "**Step 3: Add a Lucky Double-Up Mechanism**   \n",
    "**Goal:** Introduce a 2% chance for any roll to be \"lucky\" and double its value. This adds a fun, random twist to the game."
   ]
  },
  {
   "cell_type": "code",
   "execution_count": null,
   "metadata": {},
   "outputs": [
    {
     "name": "stdout",
     "output_type": "stream",
     "text": [
      "Lucky double! 12\n",
      "Player 1 rolls after lucky doubles: [12, 5, 4]\n",
      "Player 1 new total score: 21\n",
      "Player 2 rolls after lucky doubles: [4, 4, 3]\n",
      "Player 2 new total score: 11\n"
     ]
    }
   ],
   "source": [
    "def lucky_double(rolls):\n",
    "    \"\"\"Gives a 2% chance for a dice roll to be doubled.\"\"\"\n",
    "    for i in range(len(rolls)):\n",
    "        if random.random() < 0.02:  # 2% chance to double the roll\n",
    "            rolls[i] *= 2\n",
    "            print(f\"Lucky double! {rolls[i]}\")\n",
    "    return rolls\n",
    "\n",
    "# Apply lucky double to both players\n",
    "player1_rolls = lucky_double(player1_rolls)\n",
    "player2_rolls = lucky_double(player2_rolls)\n",
    "\n",
    "# Recalculate totals after lucky doubles\n",
    "player1_total = sum(player1_rolls)\n",
    "player2_total = sum(player2_rolls)\n",
    "\n",
    "print(f\"Player 1 rolls after lucky doubles: {player1_rolls}\")\n",
    "print(f\"Player 1 new total score: {player1_total}\")\n",
    "print(f\"Player 2 rolls after lucky doubles: {player2_rolls}\")\n",
    "print(f\"Player 2 new total score: {player2_total}\")\n"
   ]
  },
  {
   "cell_type": "markdown",
   "metadata": {},
   "source": [
    "**Explanation:**\n",
    "\n",
    "- **Probability:** We use random.random() to generate a random float between 0 and 1. If it’s below 0.02 (representing a 2% chance), we double the value of that roll.\n",
    "- **Dynamic Gameplay:** This adds excitement by introducing the element of chance, making the game feel more like a real dice game with unexpected outcomes.\n"
   ]
  },
  {
   "cell_type": "markdown",
   "metadata": {},
   "source": [
    "**Final Game**"
   ]
  },
  {
   "cell_type": "code",
   "execution_count": 66,
   "metadata": {},
   "outputs": [
    {
     "name": "stdout",
     "output_type": "stream",
     "text": [
      "Player 1 rolls: [5, 6, 1]\n",
      "Player 2 rolls: [4, 1, 1]\n",
      "Player 1 final rolls: [5, 6, 1]\n",
      "Player 1 final score: 12\n",
      "Player 2 final rolls: [4, 1, 1]\n",
      "Player 2 final score: 6\n",
      "Player 1 wins!\n"
     ]
    }
   ],
   "source": [
    "# Simulate and play the game\n",
    "player1_rolls = roll_dice()\n",
    "player2_rolls = roll_dice()\n",
    "\n",
    "print(f\"Player 1 rolls: {player1_rolls}\")\n",
    "print(f\"Player 2 rolls: {player2_rolls}\")\n",
    "\n",
    "# Apply lucky doubles\n",
    "player1_rolls = lucky_double(player1_rolls)\n",
    "player2_rolls = lucky_double(player2_rolls)\n",
    "\n",
    "# Calculate final scores\n",
    "player1_total = sum(player1_rolls)\n",
    "player2_total = sum(player2_rolls)\n",
    "\n",
    "# Print final results\n",
    "print(f\"Player 1 final rolls: {player1_rolls}\")\n",
    "print(f\"Player 1 final score: {player1_total}\")\n",
    "print(f\"Player 2 final rolls: {player2_rolls}\")\n",
    "print(f\"Player 2 final score: {player2_total}\")\n",
    "\n",
    "# Declare winner\n",
    "if player1_total > player2_total:\n",
    "    print(\"Player 1 wins!\")\n",
    "elif player2_total > player1_total:\n",
    "    print(\"Player 2 wins!\")\n",
    "else:\n",
    "    print(\"It's a tie!\")\n"
   ]
  },
  {
   "cell_type": "markdown",
   "metadata": {},
   "source": [
    "## Conclusion\n",
    "\n",
    "This lesson demonstrated how Python can be used to create interactive and engaging applications like a dice rolling game. By building this program, we practiced foundational skills that apply to a wide range of coding scenarios:\n",
    "\n",
    "- **Lists and Loops:** Storing and processing multiple dice rolls dynamically.\n",
    "- **Randomization:** Simulating real-world luck and probability using Python’s random module.\n",
    "- **Conditional Logic:** Determining game outcomes and introducing variability with the lucky double-up mechanic.\n",
    "\n",
    "These skills don’t just apply to games—they’re the building blocks for simulations, decision-making systems, and probabilistic modeling. Whether you’re automating processes or analyzing data, the ability to handle randomness and structured data is invaluable."
   ]
  }
 ],
 "metadata": {
  "kernelspec": {
   "display_name": ".venv",
   "language": "python",
   "name": "python3"
  },
  "language_info": {
   "codemirror_mode": {
    "name": "ipython",
    "version": 3
   },
   "file_extension": ".py",
   "mimetype": "text/x-python",
   "name": "python",
   "nbconvert_exporter": "python",
   "pygments_lexer": "ipython3",
   "version": "3.12.7"
  }
 },
 "nbformat": 4,
 "nbformat_minor": 2
}
