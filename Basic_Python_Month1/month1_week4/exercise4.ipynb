{
 "cells": [
  {
   "cell_type": "markdown",
   "metadata": {},
   "source": [
    "# Password Generator Made By A Pirate"
   ]
  },
  {
   "cell_type": "markdown",
   "metadata": {},
   "source": [
    "**Step 1: Setting up the Base Generator**   \n",
    "**Goal:** Start by defining a simple password generator that includes letters, numbers, and symbols."
   ]
  },
  {
   "cell_type": "code",
   "execution_count": 1,
   "metadata": {},
   "outputs": [
    {
     "name": "stdout",
     "output_type": "stream",
     "text": [
      "Base Password: EN3]XM-8\n"
     ]
    }
   ],
   "source": [
    "import random\n",
    "import string\n",
    "\n",
    "def generate_password(length=8):\n",
    "    \"\"\"Generates a random password with letters, numbers, and symbols.\"\"\"\n",
    "    characters = string.ascii_letters + string.digits + string.punctuation\n",
    "    return ''.join(random.choice(characters) for _ in range(length))\n",
    "\n",
    "# Generate a base password\n",
    "base_password = generate_password()\n",
    "print(f\"Base Password: {base_password}\")\n"
   ]
  },
  {
   "cell_type": "markdown",
   "metadata": {},
   "source": [
    "**Explanation:**\n",
    "\n",
    "- **Libraries Used:** random for randomness, string for character pools.\n",
    "- **Dynamic Length:** The user can set the desired password length.\n"
   ]
  },
  {
   "cell_type": "markdown",
   "metadata": {},
   "source": [
    "**Step 2: Finishing the Logic**   \n",
    "**Goal:** Include input validation to ensure a strong password."
   ]
  },
  {
   "cell_type": "code",
   "execution_count": 5,
   "metadata": {},
   "outputs": [
    {
     "name": "stdout",
     "output_type": "stream",
     "text": [
      "Testing password: abc123\n",
      "Password may not be strong enough. Suggestions:\n",
      "- Add an uppercase letter.\n",
      "- Add a special character (e.g., !, @, #).\n",
      "- Make the password at least 8 characters long.\n",
      "\n",
      "Testing password: A1!secure\n",
      "Password is strong!\n"
     ]
    }
   ],
   "source": [
    "import string\n",
    "\n",
    "def is_strong_password(password):\n",
    "    \"\"\"Validates if a password is strong based on character variety.\"\"\"\n",
    "    errors = []\n",
    "    \n",
    "    if not any(c.islower() for c in password):\n",
    "        errors.append(\"Add a lowercase letter.\")\n",
    "    if not any(c.isupper() for c in password):\n",
    "        errors.append(\"Add an uppercase letter.\")\n",
    "    if not any(c.isdigit() for c in password):\n",
    "        errors.append(\"Add a number.\")\n",
    "    if not any(c in string.punctuation for c in password):\n",
    "        errors.append(\"Add a special character (e.g., !, @, #).\")\n",
    "    if len(password) < 8:\n",
    "        errors.append(\"Make the password at least 8 characters long.\")\n",
    "    \n",
    "    return errors\n",
    "\n",
    "# Test the password for strength and print suggestions\n",
    "def check_password(password):\n",
    "    errors = is_strong_password(password)\n",
    "    \n",
    "    if not errors:\n",
    "        print(\"Password is strong!\")\n",
    "    else:\n",
    "        print(\"Password may not be strong enough. Suggestions:\")\n",
    "        for error in errors:\n",
    "            print(f\"- {error}\")\n",
    "\n",
    "# Test the function with both valid and invalid inputs\n",
    "test_password = \"abc123\"\n",
    "print(f\"Testing password: {test_password}\")\n",
    "check_password(test_password)\n",
    "\n",
    "valid_password = \"A1!secure\"\n",
    "print(f\"\\nTesting password: {valid_password}\")\n",
    "check_password(valid_password)\n"
   ]
  },
  {
   "cell_type": "markdown",
   "metadata": {},
   "source": [
    "**Explanation:**\n",
    "\n",
    "- **Validation Logic:** Checks for lowercase, uppercase, numbers, and symbols.\n",
    "- **User Feedback:** Alerts the user if the generated password is weak."
   ]
  },
  {
   "cell_type": "markdown",
   "metadata": {},
   "source": [
    "**Step 3: Adding the Piratization Feature**   \n",
    "**Goal:** Transform the password into pirate-speak by appending pirate phrases."
   ]
  },
  {
   "cell_type": "code",
   "execution_count": null,
   "metadata": {},
   "outputs": [
    {
     "name": "stdout",
     "output_type": "stream",
     "text": [
      "Piratized Password: 💰En3XM-8Sh1v3Rm3!\n",
      "Password is strong!\n"
     ]
    },
    {
     "data": {
      "text/plain": [
       "'💰En3XM-8Sh1v3Rm3!'"
      ]
     },
     "execution_count": 6,
     "metadata": {},
     "output_type": "execute_result"
    }
   ],
   "source": [
    "import random\n",
    "\n",
    "def pirate_theme_park(password):\n",
    "    \"\"\"Adds a pirate theme to the password with a slight twist.\"\"\"\n",
    "    pirate_phrases = [\n",
    "        \"Ah0y!\", \"aRR!\", \"Sh1v3Rm3!\", \"Y4r!\", \"Plund3r!\", \"T1d3sUp!\"\n",
    "    ]\n",
    "    random_pirate_decor = random.choice([\"🏴‍☠️\", \"⚓\", \"💰\", \"🦜\"])\n",
    "    pirate_phrase = random.choice(pirate_phrases)\n",
    "    \n",
    "    # Decorate the password with pirate elements\n",
    "    piratized_password = f\"{random_pirate_decor}{password}{pirate_phrase}\"\n",
    "    \n",
    "    # Check if the piratized password is strong\n",
    "    print(f\"Piratized Password: {piratized_password}\")\n",
    "    check_password(piratized_password)  # Calling the strength checker function from Step 2\n",
    "    \n",
    "    return piratized_password\n",
    "\n",
    "# Test the Pirate Theme Park function\n",
    "base_password = \"En3XM-8\"\n",
    "pirate_theme_park(base_password)\n"
   ]
  },
  {
   "cell_type": "markdown",
   "metadata": {},
   "source": [
    "**Explanation:**\n",
    "\n",
    "- **Integration:** Leverages the check_password function from Step 2 to evaluate the piratized password's strength.\n",
    "- **Pirate Flair:** Randomly selects a pirate phrase and an emoji to add a fun twist to the password."
   ]
  },
  {
   "cell_type": "markdown",
   "metadata": {},
   "source": [
    "**Final Version**"
   ]
  },
  {
   "cell_type": "code",
   "execution_count": 12,
   "metadata": {},
   "outputs": [
    {
     "name": "stdout",
     "output_type": "stream",
     "text": [
      "\n",
      "--- Welcome to the Pirate Password Generator ---\n",
      "\n",
      "Generated Password: HpuzHG:nh\",W\n",
      "\n",
      "--- Validating Password Strength ---\n",
      "Password may not be strong enough. Suggestions:\n",
      "- Add a number.\n",
      "\n",
      "--- Adding Pirate Flair ---\n",
      "\n",
      "Piratized Password: ⚓HpuzHG:nh\",WPlund3r!\n",
      "Password is strong!\n"
     ]
    }
   ],
   "source": [
    "import random\n",
    "import string\n",
    "\n",
    "# Step 1: Define the base password generator\n",
    "def generate_password(length=12):\n",
    "    \"\"\"Generates a random password with letters, numbers, and symbols.\"\"\"\n",
    "    if length < 8:\n",
    "        raise ValueError(\"Password length must be at least 8 characters.\")\n",
    "    \n",
    "    characters = string.ascii_letters + string.digits + string.punctuation\n",
    "    password = ''.join(random.choice(characters) for _ in range(length))\n",
    "    return password\n",
    "\n",
    "# Step 2: Define the password strength checker\n",
    "def is_strong_password(password):\n",
    "    \"\"\"Validates if a password is strong and returns improvement suggestions.\"\"\"\n",
    "    suggestions = []\n",
    "    \n",
    "    if not any(c.islower() for c in password):\n",
    "        suggestions.append(\"Add a lowercase letter.\")\n",
    "    if not any(c.isupper() for c in password):\n",
    "        suggestions.append(\"Add an uppercase letter.\")\n",
    "    if not any(c.isdigit() for c in password):\n",
    "        suggestions.append(\"Add a number.\")\n",
    "    if not any(c in string.punctuation for c in password):\n",
    "        suggestions.append(\"Add a special character (e.g., !, @, #).\")\n",
    "    if len(password) < 8:\n",
    "        suggestions.append(\"Make the password at least 8 characters long.\")\n",
    "    \n",
    "    return suggestions\n",
    "\n",
    "def check_password(password):\n",
    "    \"\"\"Checks the password and prints its strength or suggestions.\"\"\"\n",
    "    suggestions = is_strong_password(password)\n",
    "    \n",
    "    if not suggestions:\n",
    "        print(\"Password is strong!\")\n",
    "    else:\n",
    "        print(\"Password may not be strong enough. Suggestions:\")\n",
    "        for suggestion in suggestions:\n",
    "            print(f\"- {suggestion}\")\n",
    "\n",
    "# Step 3: Add the piratization feature\n",
    "def pirate_theme_park(password):\n",
    "    \"\"\"Adds pirate flair to the password and validates its strength.\"\"\"\n",
    "    pirate_phrases = [\n",
    "        \"Ah0y!\", \"aRR!\", \"Sh1v3Rm3!\", \"Y4r!\", \"Plund3r!\", \"T1d3sUp!\"\n",
    "    ]\n",
    "    pirate_emojis = [\"🏴‍☠️\", \"⚓\", \"💰\", \"🦜\"]\n",
    "    \n",
    "    # Decorate the password\n",
    "    pirate_phrase = random.choice(pirate_phrases)\n",
    "    pirate_emoji = random.choice(pirate_emojis)\n",
    "    piratized_password = f\"{pirate_emoji}{password}{pirate_phrase}\"\n",
    "    \n",
    "    # Print and validate the piratized password\n",
    "    print(f\"\\nPiratized Password: {piratized_password}\")\n",
    "    check_password(piratized_password)\n",
    "    \n",
    "    return piratized_password\n",
    "\n",
    "# Main Program\n",
    "if __name__ == \"__main__\":\n",
    "    print(\"\\n--- Welcome to the Pirate Password Generator ---\\n\")\n",
    "    \n",
    "    # Step 1: Generate a secure password\n",
    "    base_password = generate_password(12)\n",
    "    print(f\"Generated Password: {base_password}\")\n",
    "    \n",
    "    # Step 2: Check password strength\n",
    "    print(\"\\n--- Validating Password Strength ---\")\n",
    "    check_password(base_password)\n",
    "    \n",
    "    # Step 3: Add pirate flair and validate\n",
    "    print(\"\\n--- Adding Pirate Flair ---\")\n",
    "    final_password = pirate_theme_park(base_password)\n"
   ]
  },
  {
   "cell_type": "markdown",
   "metadata": {},
   "source": [
    "## Conclusion\n",
    "\n",
    "This lesson showed how a password generator can go beyond functionality to become both secure and engaging. What we learned:\n",
    "\n",
    "- **Technical Basics:** Applied randomization and modular logic to create reusable code components.\n",
    "- **Creative Additions:** Incorporated pirate-themed phrases and symbols to enhance engagement.\n",
    "- **Security Emphasis:** Validated password strength, demonstrating the balance between fun and practicality.\n",
    "\n",
    "These concepts are essential for creating solutions that not only work but also resonate with users, bridging technical skills and creativity for impactful coding projects."
   ]
  }
 ],
 "metadata": {
  "kernelspec": {
   "display_name": ".venv",
   "language": "python",
   "name": "python3"
  },
  "language_info": {
   "codemirror_mode": {
    "name": "ipython",
    "version": 3
   },
   "file_extension": ".py",
   "mimetype": "text/x-python",
   "name": "python",
   "nbconvert_exporter": "python",
   "pygments_lexer": "ipython3",
   "version": "3.12.7"
  }
 },
 "nbformat": 4,
 "nbformat_minor": 2
}
