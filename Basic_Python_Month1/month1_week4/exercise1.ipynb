{
 "cells": [
  {
   "cell_type": "markdown",
   "metadata": {},
   "source": [
    "# Birthday Countdown With datetime"
   ]
  },
  {
   "cell_type": "markdown",
   "metadata": {},
   "source": [
    "**Objective:**   \n",
    "In this lesson, you’ll learn how to work with Python’s datetime module to handle dates and calculate time differences. These skills are crucial for building applications that involve scheduling, time management, or countdowns.\n",
    "\n"
   ]
  },
  {
   "cell_type": "markdown",
   "metadata": {},
   "source": [
    "**Step 1: Parsing the Birthday**   \n",
    "**Goal:** Accept a user’s input for their birthday and convert it into a datetime object."
   ]
  },
  {
   "cell_type": "code",
   "execution_count": 2,
   "metadata": {},
   "outputs": [
    {
     "name": "stdout",
     "output_type": "stream",
     "text": [
      "Your birthday is on: Saturday, 09 August 2025\n"
     ]
    }
   ],
   "source": [
    "from datetime import datetime\n",
    "\n",
    "# Input birthday\n",
    "birthday = input(\"Enter your next birthday (YYYY-MM-DD): \")\n",
    "\n",
    "# Parse the input into a datetime object\n",
    "birthday_date = datetime.strptime(birthday, \"%Y-%m-%d\")\n",
    "\n",
    "# Display the formatted date\n",
    "print(f\"Your birthday is on: {birthday_date.strftime('%A, %d %B %Y')}\")\n"
   ]
  },
  {
   "cell_type": "markdown",
   "metadata": {},
   "source": [
    "**Explanation:**   \n",
    "\n",
    "- datetime.strptime(): Converts a string input into a datetime object based on a specified format.\n",
    "- %Y-%m-%d: Indicates the input format (Year-Month-Day).\n",
    "- strftime(): Formats the datetime object into a readable string, making it easier to understand the output.\n",
    "- Why It’s Important: Parsing user input ensures you can work with dates programmatically in later steps."
   ]
  },
  {
   "cell_type": "markdown",
   "metadata": {},
   "source": [
    "**Step 2: Calculating Days Until the Birthday**   \n",
    "**Goal:** Subtract the current date from the user’s birthday to find the number of days left."
   ]
  },
  {
   "cell_type": "code",
   "execution_count": 3,
   "metadata": {},
   "outputs": [
    {
     "name": "stdout",
     "output_type": "stream",
     "text": [
      "Days until your birthday: 263 days\n"
     ]
    }
   ],
   "source": [
    "# Get today's date\n",
    "today = datetime.now()\n",
    "\n",
    "# Calculate the difference in days\n",
    "days_left = (birthday_date - today).days\n",
    "\n",
    "# Display the number of days remaining\n",
    "print(f\"Days until your birthday: {days_left} days\")"
   ]
  },
  {
   "cell_type": "markdown",
   "metadata": {},
   "source": [
    "**Explanation:**\n",
    "\n",
    "- datetime.now(): Retrieves the current date and time.\n",
    "- datetime subtraction: Subtracting two datetime objects returns a timedelta object, from which we extract .days.\n",
    "- Why It’s Important: Understanding time calculations is essential for applications like reminders, countdowns, or scheduling tasks.\n"
   ]
  },
  {
   "cell_type": "markdown",
   "metadata": {},
   "source": [
    "**Step 3: Adding a Fun Countdown Message**   \n",
    "**Goal:** Add personality by customizing messages based on how many days are left until the birthday."
   ]
  },
  {
   "cell_type": "code",
   "execution_count": 4,
   "metadata": {},
   "outputs": [
    {
     "name": "stdout",
     "output_type": "stream",
     "text": [
      "Your birthday is quite far off, but it's never too early to plan something exciting!\n"
     ]
    }
   ],
   "source": [
    "# Provide a personalized message based on the number of days remaining\n",
    "if days_left > 100:\n",
    "    print(\"Your birthday is quite far off, but it's never too early to plan something exciting!\")\n",
    "elif days_left > 30:\n",
    "    print(f\"Only {days_left} days left! Start thinking about your birthday plans!\")\n",
    "elif days_left > 7:\n",
    "    print(f\"Just {days_left} days to go! The anticipation is building!\")\n",
    "elif days_left > 1:\n",
    "    print(f\"Only {days_left} days left! Time to send out invitations!\")\n",
    "elif days_left == 1:\n",
    "    print(\"Tomorrow is the big day! 🎉 Get ready to celebrate!\")\n",
    "elif days_left == 0:\n",
    "    print(\"Happy Birthday! 🎂🎁🎉 Have an amazing day!\")\n",
    "else:\n",
    "    print(\"Your birthday has already passed. Hope it was a wonderful celebration!\")\n"
   ]
  },
  {
   "cell_type": "markdown",
   "metadata": {},
   "source": [
    "**Explanation:**\n",
    "\n",
    "- if-elif-else Statements: Control the flow of the program based on conditions.\n",
    "- Customization: Adding tailored responses makes the program engaging and user-friendly."
   ]
  },
  {
   "cell_type": "markdown",
   "metadata": {},
   "source": [
    "## Conclusion:\n",
    "In this lesson, you learned:\n",
    "\n",
    "- **Parsing Dates:** How to convert string inputs into datetime objects for programmatic use.\n",
    "- **Date Calculations:** How to compute time differences using datetime subtraction.\n",
    "- **Conditional Logic:** How to use if-elif-else to provide dynamic and engaging responses.\n",
    "\n",
    "**Why It Matters:**   \n",
    "The datetime module is a powerful tool for handling dates and times, which are integral to many applications, from countdowns to scheduling tools. Understanding these concepts opens the door to building practical and user-focused programs.\n",
    "\n",
    "Try extending this lesson! Add features like including hours left, handling past dates gracefully, or integrating with other events like anniversaries. 🚀"
   ]
  }
 ],
 "metadata": {
  "kernelspec": {
   "display_name": ".venv",
   "language": "python",
   "name": "python3"
  },
  "language_info": {
   "codemirror_mode": {
    "name": "ipython",
    "version": 3
   },
   "file_extension": ".py",
   "mimetype": "text/x-python",
   "name": "python",
   "nbconvert_exporter": "python",
   "pygments_lexer": "ipython3",
   "version": "3.12.7"
  }
 },
 "nbformat": 4,
 "nbformat_minor": 2
}
