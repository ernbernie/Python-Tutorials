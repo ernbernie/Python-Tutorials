{
 "cells": [
  {
   "cell_type": "markdown",
   "metadata": {},
   "source": [
    "# Dictionaries: Fantasy Character Inventory"
   ]
  },
  {
   "cell_type": "markdown",
   "metadata": {},
   "source": [
    "**Introduction**   \n",
    "In this lesson, we’ll learn about dictionaries in Python by building a fantasy character’s inventory system. Dictionaries are perfect for tracking items because they store data as key-value pairs, allowing quick lookups and updates. By the end of this lesson, you’ll know how to manage an inventory with ease.\n",
    "\n"
   ]
  },
  {
   "cell_type": "markdown",
   "metadata": {},
   "source": [
    "**Step 1: Building the Inventory**   \n",
    "**Objective:** Use a dictionary to store items (keys) and their quantities (values) for a fantasy character."
   ]
  },
  {
   "cell_type": "code",
   "execution_count": 8,
   "metadata": {},
   "outputs": [
    {
     "name": "stdout",
     "output_type": "stream",
     "text": [
      "Initial Inventory: {'Potion': 3, 'Sword': 1, 'Shield': 1, 'Gold Coins': 50}\n"
     ]
    }
   ],
   "source": [
    "# Character's inventory\n",
    "inventory = {\n",
    "    \"Potion\": 3,\n",
    "    \"Sword\": 1,\n",
    "    \"Shield\": 1,\n",
    "    \"Gold Coins\": 50\n",
    "}\n",
    "\n",
    "print(\"Initial Inventory:\", inventory)\n"
   ]
  },
  {
   "cell_type": "markdown",
   "metadata": {},
   "source": [
    "- **Key Concept:** Dictionaries store related data using key-value pairs. In this example, items (keys) are linked to their quantities (values).\n",
    "- **Why It’s Useful:** You can quickly check or modify any item without looping through a list."
   ]
  },
  {
   "cell_type": "markdown",
   "metadata": {},
   "source": [
    "**Step 2: Checking Inventory**   \n",
    "**Objective:** Allow the player to check how many of a specific item they have."
   ]
  },
  {
   "cell_type": "code",
   "execution_count": 9,
   "metadata": {},
   "outputs": [
    {
     "name": "stdout",
     "output_type": "stream",
     "text": [
      "You have 3 Potion(s).\n"
     ]
    }
   ],
   "source": [
    "# Check inventory for an item\n",
    "item = \"Potion\"\n",
    "quantity = inventory.get(item, 0)\n",
    "print(f\"You have {quantity} {item}(s).\")\n"
   ]
  },
  {
   "cell_type": "markdown",
   "metadata": {},
   "source": [
    "- **Key Concept:** Use the .get() method to retrieve a value by its key.\n",
    "- **Why It’s Useful:** The .get() method allows you to provide a default value (e.g., 0) if the key doesn’t exist, preventing errors."
   ]
  },
  {
   "cell_type": "markdown",
   "metadata": {},
   "source": [
    "**Step 3: Adding and Removing Items**   \n",
    "**Objective:** Show how to add new items to the inventory or use up existing ones."
   ]
  },
  {
   "cell_type": "code",
   "execution_count": 10,
   "metadata": {},
   "outputs": [
    {
     "name": "stdout",
     "output_type": "stream",
     "text": [
      "After adding Arrows: {'Potion': 3, 'Sword': 1, 'Shield': 1, 'Gold Coins': 50, 'Arrow': 10}\n",
      "After using a Potion: {'Potion': 2, 'Sword': 1, 'Shield': 1, 'Gold Coins': 50, 'Arrow': 10}\n"
     ]
    }
   ],
   "source": [
    "# Add a new item\n",
    "inventory[\"Arrow\"] = 10\n",
    "print(\"After adding Arrows:\", inventory)\n",
    "\n",
    "# Use up an item\n",
    "inventory[\"Potion\"] -= 1\n",
    "if inventory[\"Potion\"] == 0:\n",
    "    del inventory[\"Potion\"]  # Remove the item if none are left\n",
    "print(\"After using a Potion:\", inventory)"
   ]
  },
  {
   "cell_type": "markdown",
   "metadata": {},
   "source": [
    "- **Key Concept:** Dictionaries allow adding, updating, and removing key-value pairs dynamically.\n",
    "- **Why It’s Useful:** You can manage changing inventory states seamlessly, just like in a game."
   ]
  },
  {
   "cell_type": "markdown",
   "metadata": {},
   "source": [
    "## Conclusion\n",
    "In this lesson, we explored how to:\n",
    "\n",
    "- Create dictionaries to store and manage key-value pairs.\n",
    "- Retrieve values dynamically using the .get() method.\n",
    "- Add, update, and remove entries to reflect changes in inventory.\n",
    "- Dictionaries are powerful and versatile for tracking data in any real-world application. Try expanding this system by adding rarity levels or item descriptions to make it even more engaging!"
   ]
  }
 ],
 "metadata": {
  "kernelspec": {
   "display_name": ".venv",
   "language": "python",
   "name": "python3"
  },
  "language_info": {
   "codemirror_mode": {
    "name": "ipython",
    "version": 3
   },
   "file_extension": ".py",
   "mimetype": "text/x-python",
   "name": "python",
   "nbconvert_exporter": "python",
   "pygments_lexer": "ipython3",
   "version": "3.12.7"
  }
 },
 "nbformat": 4,
 "nbformat_minor": 2
}
