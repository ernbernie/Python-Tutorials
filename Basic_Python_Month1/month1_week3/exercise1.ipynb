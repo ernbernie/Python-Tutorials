{
 "cells": [
  {
   "cell_type": "markdown",
   "metadata": {},
   "source": [
    "# Binary Conversion & Encryption"
   ]
  },
  {
   "cell_type": "markdown",
   "metadata": {},
   "source": [
    "- This lesson introduces binary data conversion and encryption using XOR. \n",
    "- You’ll learn how to convert strings to binary and apply simple cryptographic principles, providing a hands-on understanding of data security basics."
   ]
  },
  {
   "cell_type": "markdown",
   "metadata": {},
   "source": [
    "**Step 1: Convert Characters to Binary**   \n",
    "**Objective:** Transform a string into its binary representation."
   ]
  },
  {
   "cell_type": "code",
   "execution_count": 3,
   "metadata": {},
   "outputs": [
    {
     "name": "stdout",
     "output_type": "stream",
     "text": [
      "\n",
      "Step 1: Binary Representation of the Message\n",
      "Original message: banana\n",
      "Binary message: 01100010 01100001 01101110 01100001 01101110 01100001\n"
     ]
    }
   ],
   "source": [
    "# Input a string\n",
    "message = input(\"Enter a message to encrypt: \")\n",
    "\n",
    "# Convert each character in the string to binary\n",
    "binary_message = [bin(ord(char))[2:].zfill(8) for char in message]\n",
    "print(\"\\nStep 1: Binary Representation of the Message\")\n",
    "print(f\"Original message: {message}\")\n",
    "print(f\"Binary message: {' '.join(binary_message)}\")\n"
   ]
  },
  {
   "cell_type": "markdown",
   "metadata": {},
   "source": [
    "- **Key Concept:** Use ord() to obtain the ASCII value of each character and bin() to convert it into binary.   \n",
    "- **Why It’s Useful:** Demonstrates how text is encoded into binary, the language of computers."
   ]
  },
  {
   "cell_type": "markdown",
   "metadata": {},
   "source": [
    "**Step 2: Manipulate Binary for Encryption**   \n",
    "**Objective:** Apply a simple XOR operation for encryption."
   ]
  },
  {
   "cell_type": "code",
   "execution_count": 4,
   "metadata": {},
   "outputs": [
    {
     "name": "stdout",
     "output_type": "stream",
     "text": [
      "\n",
      "Step 2: Encrypt the Binary Message\n",
      "Encryption key: 10101010\n",
      "Encrypted binary message: 11001000 11001011 11000100 11001011 11000100 11001011\n"
     ]
    }
   ],
   "source": [
    "# Encrypt each binary character using XOR with a fixed key\n",
    "encryption_key = 0b10101010\n",
    "encrypted_message = [\n",
    "    bin(int(char, 2) ^ encryption_key)[2:].zfill(8) for char in binary_message\n",
    "]\n",
    "\n",
    "print(\"\\nStep 2: Encrypt the Binary Message\")\n",
    "print(f\"Encryption key: {bin(encryption_key)[2:].zfill(8)}\")\n",
    "print(f\"Encrypted binary message: {' '.join(encrypted_message)}\")\n"
   ]
  },
  {
   "cell_type": "markdown",
   "metadata": {},
   "source": [
    "- **Key Concept:** XOR (exclusive OR) flips bits based on the encryption key, scrambling the message.\n",
    "- **Why It’s Useful:** Introduces a core principle of encryption—altering data to make it unreadable without the correct key."
   ]
  },
  {
   "cell_type": "markdown",
   "metadata": {},
   "source": [
    "**Step 3: Decrypt the Message**   \n",
    "**Objective:** Reverse the XOR operation to decrypt the message."
   ]
  },
  {
   "cell_type": "code",
   "execution_count": 5,
   "metadata": {},
   "outputs": [
    {
     "name": "stdout",
     "output_type": "stream",
     "text": [
      "\n",
      "Step 3: Decrypt the Binary Message\n",
      "Decrypted binary message: 11001000 11001011 11000100 11001011 11000100 11001011\n",
      "Decrypted text: banana\n"
     ]
    }
   ],
   "source": [
    "# Decrypt the binary message back into text\n",
    "decrypted_message = ''.join(\n",
    "    chr(int(char, 2) ^ encryption_key) for char in encrypted_message\n",
    ")\n",
    "\n",
    "print(\"\\nStep 3: Decrypt the Binary Message\")\n",
    "print(f\"Decrypted binary message: {' '.join(encrypted_message)}\")\n",
    "print(f\"Decrypted text: {decrypted_message}\")\n"
   ]
  },
  {
   "cell_type": "markdown",
   "metadata": {},
   "source": [
    "**Key Concept:** Applying XOR again with the same key reverses the operation, restoring the original data.   \n",
    "**Why It’s Useful:** Simplifies the idea of encryption and decryption into an accessible demonstration of symmetry in binary operations."
   ]
  },
  {
   "cell_type": "markdown",
   "metadata": {},
   "source": [
    "## Conclusion:\n",
    "In this lesson, we:\n",
    "\n",
    "- Converted a string into binary using Python functions like ord() and bin().\n",
    "- Encrypted the binary message using XOR, showcasing how data can be secured.\n",
    "- Decrypted the message back to its original form using the same XOR operation.\n",
    "- This exercise illustrated how type conversions and binary manipulations form the basis of secure data communication. Expand this concept by experimenting with different keys, messages, or applying it to more complex encryption algorithms like AES or RSA!"
   ]
  }
 ],
 "metadata": {
  "kernelspec": {
   "display_name": ".venv",
   "language": "python",
   "name": "python3"
  },
  "language_info": {
   "codemirror_mode": {
    "name": "ipython",
    "version": 3
   },
   "file_extension": ".py",
   "mimetype": "text/x-python",
   "name": "python",
   "nbconvert_exporter": "python",
   "pygments_lexer": "ipython3",
   "version": "3.12.7"
  }
 },
 "nbformat": 4,
 "nbformat_minor": 2
}
