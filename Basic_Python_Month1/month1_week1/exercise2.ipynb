{
 "cells": [
  {
   "cell_type": "markdown",
   "metadata": {},
   "source": [
    "# Inheritance: Greeters Club"
   ]
  },
  {
   "cell_type": "markdown",
   "metadata": {},
   "source": [
    "**Why This Matters**\n",
    "\n",
    "- Inheritance is one of the most powerful concepts in programming. It allows you to write reusable, scalable code, avoiding duplication and making your applications easier to extend and maintain.\n",
    "\n",
    "- Let’s build a greeter program with different “personalities” and see how inheritance lets you avoid repetition and unlocks a new skill.\n",
    "\n"
   ]
  },
  {
   "cell_type": "markdown",
   "metadata": {},
   "source": [
    "**Step 1: (Creating Greeter)**"
   ]
  },
  {
   "cell_type": "code",
   "execution_count": 4,
   "metadata": {},
   "outputs": [
    {
     "name": "stdout",
     "output_type": "stream",
     "text": [
      "Hello, John!\n"
     ]
    }
   ],
   "source": [
    "# Define the Greeter class with the greet method\n",
    "class Greeter:\n",
    "    def greet(self, name=\"user\"):\n",
    "        print(f\"Hello, {name}!\")\n",
    "\n",
    "# Create an instance of Greeter\n",
    "guest = Greeter()\n",
    "\n",
    "# Call the greet function with \"John\" as the name\n",
    "guest.greet(\"John\")"
   ]
  },
  {
   "cell_type": "markdown",
   "metadata": {},
   "source": [
    "- By defining the Greeter class, we’ve created a blueprint for any object that needs to greet a user. \n",
    "- The instance guest is like a real-world use of that blueprint, where you can interact with it directly. \n",
    "\n",
    "In this case, guest greets John specifically because we passed 'John' as the parameter.\n",
    "\n",
    "- Right now, our Greeter only knows how to say hello. But what if we want it to greet more formally or with personality?\n",
    "- Instead of rewriting the Greeter class, we can use inheritance to extend its functionality."
   ]
  },
  {
   "cell_type": "markdown",
   "metadata": {},
   "source": [
    "**Step 2: Extending Greeter with FormalGreeter**\n",
    "\n"
   ]
  },
  {
   "cell_type": "markdown",
   "metadata": {},
   "source": [
    "The situation escalates: a dog walks by, wagging its tail. Formality just doesn’t fit anymore.\n",
    "\n",
    "What do we do? Instead of rewriting everything, we’ll inherit the original Greeter class, so FormalGreeter can respond to both formal and non-formal situations. This is where inheritance and super() step in to save the day."
   ]
  },
  {
   "cell_type": "code",
   "execution_count": null,
   "metadata": {},
   "outputs": [],
   "source": [
    "class FormalGreeter(Greeter):\n",
    "    def greet(self, name=\"sir/madam\"):\n",
    "        # By default, formal greeting\n",
    "        print(f\"Good day, {name}!\")\n",
    "\n",
    "    # Handle non-formal scenarios\n",
    "    def greet_casually(self, name=\"friend\"):\n",
    "        super().greet(name)  # Call the base class's greet method"
   ]
  },
  {
   "cell_type": "markdown",
   "metadata": {},
   "source": [
    "Thanks to inheritance, we have access to all of the parent class' functions through super().\n",
    "\n",
    "Let's test it out."
   ]
  },
  {
   "cell_type": "code",
   "execution_count": null,
   "metadata": {},
   "outputs": [
    {
     "name": "stdout",
     "output_type": "stream",
     "text": [
      "Good day, Mr. President!\n",
      "Hello, Buddy!\n",
      "Good day, Dr. Jordan!\n"
     ]
    }
   ],
   "source": [
    "formal = FormalGreeter()\n",
    "\n",
    "# Default formal greeting\n",
    "formal.greet(\"Mr. President\")  # Output: Good day, Mr. President!\n",
    "\n",
    "# Dog walks by\n",
    "formal.greet_casually(\"Buddy\")  # Output: Hello, Buddy!\n",
    "\n",
    "# Back to business\n",
    "formal.greet(\"Dr. Jordan\")  # Output: Good day, Dr. Jordan!"
   ]
  },
  {
   "cell_type": "markdown",
   "metadata": {},
   "source": [
    "Inheritance allows you to reuse and extend functionality without duplicating code."
   ]
  },
  {
   "cell_type": "markdown",
   "metadata": {},
   "source": [
    "**Next up: PirateGreeter**\n",
    "\n",
    "This one’s got some personality. We’re keeping the structure from Greeter, but we’re adding a random pirate phrase to keep things unpredictable. This is how inheritance lets you take one thing and make it multiple things, without starting from scratch."
   ]
  },
  {
   "cell_type": "code",
   "execution_count": 20,
   "metadata": {},
   "outputs": [
    {
     "name": "stdout",
     "output_type": "stream",
     "text": [
      "Ahoy, Sailor! Ye be welcome!\n",
      "Ahoy, Sailor! Arrr!\n",
      "Ahoy, Sailor! Prepare to set sail!\n"
     ]
    }
   ],
   "source": [
    "import random\n",
    "\n",
    "class PirateGreeter(Greeter):\n",
    "    def greet(self, name=\"matey\"):\n",
    "        pirate_phrases = [\"Arrr!\", \"Ye be welcome!\", \"Prepare to set sail!\"]\n",
    "        print(f\"Ahoy, {name}! {random.choice(pirate_phrases)}\")\n",
    "\n",
    "guest = PirateGreeter()\n",
    "\n",
    "guest.greet(\"Sailor\")\n",
    "guest.greet(\"Sailor\")\n",
    "guest.greet(\"Sailor\")"
   ]
  },
  {
   "cell_type": "markdown",
   "metadata": {},
   "source": [
    "This was a simple example, but it showcased how inheritance allows you to structure your code with intention. \n",
    "\n",
    "It’s not just about getting the job done—it’s about creating solutions that are extensible and built to last. Every time you use inheritance, you’re investing in cleaner, more maintainable code.\n",
    "\n",
    "Take the time to master inheritance now. \n",
    "\n",
    "Experiment with more complex scenarios. \n",
    "\n",
    "Push its limits. \n",
    "\n",
    "The effort you put in will pay off tenfold when you see how it simplifies even the most complex systems."
   ]
  },
  {
   "cell_type": "markdown",
   "metadata": {},
   "source": [
    "Think beyond greetings. Imagine user management systems, game characters, or device configurations where shared behaviors can be inherited and specialized. Mastering inheritance prepares you for scalable, maintainable designs in these and countless other scenarios."
   ]
  }
 ],
 "metadata": {
  "kernelspec": {
   "display_name": ".venv",
   "language": "python",
   "name": "python3"
  },
  "language_info": {
   "codemirror_mode": {
    "name": "ipython",
    "version": 3
   },
   "file_extension": ".py",
   "mimetype": "text/x-python",
   "name": "python",
   "nbconvert_exporter": "python",
   "pygments_lexer": "ipython3",
   "version": "3.12.7"
  }
 },
 "nbformat": 4,
 "nbformat_minor": 2
}
